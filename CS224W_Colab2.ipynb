{
  "cells": [
    {
      "cell_type": "markdown",
      "metadata": {
        "id": "XuXWJLEm2UWS"
      },
      "source": [
        "# **CS224W - Colab 2**"
      ]
    },
    {
      "cell_type": "markdown",
      "metadata": {
        "id": "8gzsP50bF6Gb"
      },
      "source": [
        "In Colab 2, we will work to construct our own graph neural network using PyTorch Geometric (PyG) and then apply that model on two Open Graph Benchmark (OGB) datasets. These two datasets will be used to benchmark your model's performance on two different graph-based tasks: 1) node property prediction, predicting properties of single nodes and 2) graph property prediction, predicting properties of entire graphs or subgraphs.\n",
        "\n",
        "First, we will learn how PyTorch Geometric stores graphs as PyTorch tensors.\n",
        "\n",
        "Then, we will load and inspect one of the Open Graph Benchmark (OGB) datasets by using the `ogb` package. OGB is a collection of realistic, large-scale, and diverse benchmark datasets for machine learning on graphs. The `ogb` package not only provides data loaders for each dataset but also model evaluators.\n",
        "\n",
        "Lastly, we will build our own graph neural network using PyTorch Geometric. We will then train and evaluate our model on the OGB node property prediction and graph property prediction tasks.\n",
        "\n",
        "**Note**: Make sure to **sequentially run all the cells in each section**, so that the intermediate variables / packages will carry over to the next cell\n",
        "\n",
        "We recommend you save a copy of this colab in your drive so you don't lose progress!\n",
        "\n",
        "Have fun and good luck on Colab 2 :)"
      ]
    },
    {
      "cell_type": "markdown",
      "metadata": {
        "id": "ZGKqVEbbMEzf"
      },
      "source": [
        "# Device\n",
        "You might need to use a GPU for this Colab to run quickly.\n",
        "\n",
        "Please click `Runtime` and then `Change runtime type`. Then set the `hardware accelerator` to **GPU**."
      ]
    },
    {
      "cell_type": "markdown",
      "metadata": {
        "id": "OCK7krJdp4o8"
      },
      "source": [
        "# Setup\n",
        "As discussed in Colab 0, the installation of PyG on Colab can be a little bit tricky. First let us check which version of PyTorch you are running"
      ]
    },
    {
      "cell_type": "code",
      "execution_count": 1,
      "metadata": {
        "id": "2vkP8pA1qBE5"
      },
      "outputs": [
        {
          "ename": "ModuleNotFoundError",
          "evalue": "No module named 'torch'",
          "output_type": "error",
          "traceback": [
            "\u001b[0;31m---------------------------------------------------------------------------\u001b[0m",
            "\u001b[0;31mModuleNotFoundError\u001b[0m                       Traceback (most recent call last)",
            "\u001b[0;32m/var/folders/md/bnyzzrfd1jbf9276tbrctfd40000gn/T/ipykernel_44451/528394004.py\u001b[0m in \u001b[0;36m<module>\u001b[0;34m\u001b[0m\n\u001b[0;32m----> 1\u001b[0;31m \u001b[0;32mimport\u001b[0m \u001b[0mtorch\u001b[0m\u001b[0;34m\u001b[0m\u001b[0;34m\u001b[0m\u001b[0m\n\u001b[0m\u001b[1;32m      2\u001b[0m \u001b[0;32mimport\u001b[0m \u001b[0mos\u001b[0m\u001b[0;34m\u001b[0m\u001b[0;34m\u001b[0m\u001b[0m\n\u001b[1;32m      3\u001b[0m \u001b[0mprint\u001b[0m\u001b[0;34m(\u001b[0m\u001b[0;34m\"PyTorch has version {}\"\u001b[0m\u001b[0;34m.\u001b[0m\u001b[0mformat\u001b[0m\u001b[0;34m(\u001b[0m\u001b[0mtorch\u001b[0m\u001b[0;34m.\u001b[0m\u001b[0m__version__\u001b[0m\u001b[0;34m)\u001b[0m\u001b[0;34m)\u001b[0m\u001b[0;34m\u001b[0m\u001b[0;34m\u001b[0m\u001b[0m\n",
            "\u001b[0;31mModuleNotFoundError\u001b[0m: No module named 'torch'"
          ]
        }
      ],
      "source": [
        "import torch\n",
        "import os\n",
        "print(\"PyTorch has version {}\".format(torch.__version__))"
      ]
    },
    {
      "cell_type": "markdown",
      "metadata": {
        "id": "L6d22O6DqGSZ"
      },
      "source": [
        "Download the necessary packages for PyG. Make sure that your version of torch matches the output from the cell above. In case of any issues, more information can be found on the [PyG's installation page](https://pytorch-geometric.readthedocs.io/en/latest/notes/installation.html)."
      ]
    },
    {
      "cell_type": "code",
      "execution_count": 3,
      "metadata": {},
      "outputs": [
        {
          "data": {
            "text/plain": [
              "<bound method Mapping.keys of environ({'ALLUSERSPROFILE': 'C:\\\\ProgramData', 'APPDATA': 'C:\\\\Users\\\\DJK-Office\\\\AppData\\\\Roaming', 'APPLICATION_INSIGHTS_NO_DIAGNOSTIC_CHANNEL': 'true', 'CHROME_CRASHPAD_PIPE_NAME': '\\\\\\\\.\\\\pipe\\\\crashpad_23228_ECKVPDUZRTQFJKIT', 'COMMONPROGRAMFILES': 'C:\\\\Program Files\\\\Common Files', 'COMMONPROGRAMFILES(X86)': 'C:\\\\Program Files (x86)\\\\Common Files', 'COMMONPROGRAMW6432': 'C:\\\\Program Files\\\\Common Files', 'COMPUTERNAME': 'DESKTOP-32SHJJN', 'COMSPEC': 'C:\\\\Windows\\\\system32\\\\cmd.exe', 'CONDA_DEFAULT_ENV': 'pytorch', 'CONDA_EXE': 'D:\\\\Users\\\\DJK-Office\\\\Anaconda3\\\\Scripts\\\\conda.exe', 'CONDA_PREFIX': 'D:\\\\Users\\\\DJK-Office\\\\Anaconda3\\\\envs\\\\pytorch', 'CONDA_PREFIX_1': 'D:\\\\Users\\\\DJK-Office\\\\Anaconda3', 'CONDA_PROMPT_MODIFIER': '(pytorch) ', 'CONDA_PYTHON_EXE': 'D:\\\\Users\\\\DJK-Office\\\\Anaconda3\\\\python.exe', 'CONDA_SHLVL': '2', 'CUDA_PATH': 'C:\\\\Program Files\\\\NVIDIA GPU Computing Toolkit\\\\CUDA\\\\v11.1', 'CUDA_PATH_V11_1': 'C:\\\\Program Files\\\\NVIDIA GPU Computing Toolkit\\\\CUDA\\\\v11.1', 'DRIVERDATA': 'C:\\\\Windows\\\\System32\\\\Drivers\\\\DriverData', 'ELECTRON_RUN_AS_NODE': '1', 'FPS_BROWSER_APP_PROFILE_STRING': 'Internet Explorer', 'FPS_BROWSER_USER_PROFILE_STRING': 'Default', 'HOMEDRIVE': 'C:', 'HOMEPATH': '\\\\Users\\\\DJK-Office', 'LOCALAPPDATA': 'C:\\\\Users\\\\DJK-Office\\\\AppData\\\\Local', 'LOGONSERVER': '\\\\\\\\DESKTOP-32SHJJN', 'NUMBER_OF_PROCESSORS': '12', 'NVCUDASAMPLES11_1_ROOT': 'C:\\\\ProgramData\\\\NVIDIA Corporation\\\\CUDA Samples\\\\v11.1', 'NVCUDASAMPLES_ROOT': 'C:\\\\ProgramData\\\\NVIDIA Corporation\\\\CUDA Samples\\\\v11.1', 'NVTOOLSEXT_PATH': 'C:\\\\Program Files\\\\NVIDIA Corporation\\\\NvToolsExt\\\\', 'ONEDRIVE': 'F:\\\\OneDrive - 고려대학교', 'ONEDRIVECOMMERCIAL': 'F:\\\\OneDrive - 고려대학교', 'ORIGINAL_XDG_CURRENT_DESKTOP': 'undefined', 'OS': 'Windows_NT', 'PATH': 'D:\\\\Users\\\\DJK-Office\\\\Anaconda3\\\\envs\\\\pytorch;D:\\\\Users\\\\DJK-Office\\\\Anaconda3\\\\envs\\\\pytorch\\\\Library\\\\mingw-w64\\\\bin;D:\\\\Users\\\\DJK-Office\\\\Anaconda3\\\\envs\\\\pytorch\\\\Library\\\\usr\\\\bin;D:\\\\Users\\\\DJK-Office\\\\Anaconda3\\\\envs\\\\pytorch\\\\Library\\\\bin;D:\\\\Users\\\\DJK-Office\\\\Anaconda3\\\\envs\\\\pytorch\\\\Scripts;D:\\\\Users\\\\DJK-Office\\\\Anaconda3\\\\envs\\\\pytorch\\\\bin;D:\\\\Users\\\\DJK-Office\\\\Anaconda3\\\\condabin;C:\\\\Program Files\\\\NVIDIA GPU Computing Toolkit\\\\CUDA\\\\v11.1\\\\bin;C:\\\\Program Files\\\\NVIDIA GPU Computing Toolkit\\\\CUDA\\\\v11.1\\\\libnvvp;C:\\\\WINDOWS\\\\system32;C:\\\\WINDOWS;C:\\\\WINDOWS\\\\System32\\\\Wbem;C:\\\\WINDOWS\\\\System32\\\\WindowsPowerShell\\\\v1.0;C:\\\\WINDOWS\\\\System32\\\\OpenSSH;C:\\\\Program Files\\\\NVIDIA Corporation\\\\NVIDIA NvDLISR;C:\\\\Program Files (x86)\\\\NVIDIA Corporation\\\\PhysX\\\\Common;C:\\\\Program Files\\\\NVIDIA Corporation\\\\Nsight Compute 2020.2.1;C:\\\\Program Files\\\\dotnet;D:\\\\Users\\\\DJK-Office\\\\Anaconda3\\\\Library\\\\bin;D:\\\\Users\\\\DJK-Office\\\\Anaconda3\\\\envs\\\\pytorch\\\\Library\\\\bin;D:\\\\Program Files\\\\Git\\\\cmd;D:\\\\Program Files\\\\MATLAB\\\\R2021b\\\\bin;D:\\\\Users\\\\DJK-Office\\\\Anaconda3;D:\\\\Users\\\\DJK-Office\\\\Anaconda3\\\\Library\\\\mingw-w64\\\\bin;D:\\\\Users\\\\DJK-Office\\\\Anaconda3\\\\Library\\\\usr\\\\bin;D:\\\\Users\\\\DJK-Office\\\\Anaconda3\\\\Library\\\\bin;D:\\\\Users\\\\DJK-Office\\\\Anaconda3\\\\Scripts;C:\\\\Users\\\\DJK-Office\\\\AppData\\\\Local\\\\Microsoft\\\\WindowsApps;C:\\\\Program Files\\\\Bandizip;D:\\\\Program Files\\\\Microsoft VS Code\\\\bin;C:\\\\Users\\\\DJK-Office\\\\AppData\\\\Local\\\\GitHubDesktop\\\\bin;.', 'PATHEXT': '.COM;.EXE;.BAT;.CMD;.VBS;.VBE;.JS;.JSE;.WSF;.WSH;.MSC', 'PROCESSOR_ARCHITECTURE': 'AMD64', 'PROCESSOR_IDENTIFIER': 'Intel64 Family 6 Model 158 Stepping 10, GenuineIntel', 'PROCESSOR_LEVEL': '6', 'PROCESSOR_REVISION': '9e0a', 'PROGRAMDATA': 'C:\\\\ProgramData', 'PROGRAMFILES': 'C:\\\\Program Files', 'PROGRAMFILES(X86)': 'C:\\\\Program Files (x86)', 'PROGRAMW6432': 'C:\\\\Program Files', 'PROMPT': '(pytorch) $P$G', 'PSMODULEPATH': 'C:\\\\Program Files\\\\WindowsPowerShell\\\\Modules;C:\\\\Windows\\\\system32\\\\WindowsPowerShell\\\\v1.0\\\\Modules', 'PUBLIC': 'C:\\\\Users\\\\Public', 'PYTHONIOENCODING': 'utf-8', 'PYTHONPATH': 'c:\\\\Users\\\\DJK-Office\\\\.vscode\\\\extensions\\\\ms-toolsai.jupyter-2021.11.1001550889\\\\pythonFiles;c:\\\\Users\\\\DJK-Office\\\\.vscode\\\\extensions\\\\ms-toolsai.jupyter-2021.11.1001550889\\\\pythonFiles\\\\lib\\\\python', 'PYTHONUNBUFFERED': '1', 'SESSIONNAME': 'Console', 'SYSTEMDRIVE': 'C:', 'SYSTEMROOT': 'C:\\\\Windows', 'TEMP': 'C:\\\\Users\\\\DJK-OF~1\\\\AppData\\\\Local\\\\Temp', 'TMP': 'C:\\\\Users\\\\DJK-OF~1\\\\AppData\\\\Local\\\\Temp', 'USERDOMAIN': 'DESKTOP-32SHJJN', 'USERDOMAIN_ROAMINGPROFILE': 'DESKTOP-32SHJJN', 'USERNAME': 'DJK-Office', 'USERPROFILE': 'C:\\\\Users\\\\DJK-Office', 'VSCODE_AMD_ENTRYPOINT': 'vs/workbench/services/extensions/node/extensionHostProcess', 'VSCODE_CODE_CACHE_PATH': 'C:\\\\Users\\\\DJK-Office\\\\AppData\\\\Roaming\\\\Code\\\\CachedData\\\\899d46d82c4c95423fb7e10e68eba52050e30ba3', 'VSCODE_CWD': 'D:\\\\Program Files\\\\Microsoft VS Code', 'VSCODE_HANDLES_UNCAUGHT_ERRORS': 'true', 'VSCODE_IPC_HOOK': '\\\\\\\\.\\\\pipe\\\\7e14a7f0b2a7573c4fbeca1b6b695b7f-1.63.2-main-sock', 'VSCODE_IPC_HOOK_EXTHOST': '\\\\\\\\.\\\\pipe\\\\vscode-ipc-5e47efb1-9bf9-47d6-96a0-32ef4f488ed8-sock', 'VSCODE_LOG_NATIVE': 'false', 'VSCODE_LOG_STACK': 'false', 'VSCODE_NLS_CONFIG': '{\"locale\":\"ko\",\"availableLanguages\":{\"*\":\"ko\"},\"_languagePackId\":\"58a40381a39144f7263b92e8e429f874.ko\",\"_translationsConfigFile\":\"C:\\\\\\\\Users\\\\\\\\DJK-Office\\\\\\\\AppData\\\\\\\\Roaming\\\\\\\\Code\\\\\\\\clp\\\\\\\\58a40381a39144f7263b92e8e429f874.ko\\\\\\\\tcf.json\",\"_cacheRoot\":\"C:\\\\\\\\Users\\\\\\\\DJK-Office\\\\\\\\AppData\\\\\\\\Roaming\\\\\\\\Code\\\\\\\\clp\\\\\\\\58a40381a39144f7263b92e8e429f874.ko\",\"_resolvedLanguagePackCoreLocation\":\"C:\\\\\\\\Users\\\\\\\\DJK-Office\\\\\\\\AppData\\\\\\\\Roaming\\\\\\\\Code\\\\\\\\clp\\\\\\\\58a40381a39144f7263b92e8e429f874.ko\\\\\\\\899d46d82c4c95423fb7e10e68eba52050e30ba3\",\"_corruptedFile\":\"C:\\\\\\\\Users\\\\\\\\DJK-Office\\\\\\\\AppData\\\\\\\\Roaming\\\\\\\\Code\\\\\\\\clp\\\\\\\\58a40381a39144f7263b92e8e429f874.ko\\\\\\\\corrupted.info\",\"_languagePackSupport\":true}', 'VSCODE_PID': '23228', 'VSCODE_PIPE_LOGGING': 'true', 'VSCODE_VERBOSE_LOGGING': 'true', 'WINDIR': 'C:\\\\Windows', 'ZES_ENABLE_SYSMAN': '1', 'JPY_INTERRUPT_EVENT': '348', 'IPY_INTERRUPT_EVENT': '348', 'JPY_PARENT_PID': '136', 'TERM': 'xterm-color', 'CLICOLOR': '1', 'PAGER': 'cat', 'GIT_PAGER': 'cat', 'MPLBACKEND': 'module://ipykernel.pylab.backend_inline'})>"
            ]
          },
          "execution_count": 3,
          "metadata": {},
          "output_type": "execute_result"
        }
      ],
      "source": [
        "os.environ.keys"
      ]
    },
    {
      "cell_type": "code",
      "execution_count": 4,
      "metadata": {
        "id": "zr8hfxJ-qRg2"
      },
      "outputs": [
        {
          "name": "stdout",
          "output_type": "stream",
          "text": [
            "Looking in links: https://pytorch-geometric.com/whl/torch-1.9.0+cu111.html\n",
            "Requirement already satisfied: torch-scatter in d:\\users\\djk-office\\anaconda3\\envs\\pytorch\\lib\\site-packages (2.0.8)\n",
            "Looking in links: https://pytorch-geometric.com/whl/torch-1.9.0+cu111.html\n",
            "Requirement already satisfied: torch-sparse in d:\\users\\djk-office\\anaconda3\\envs\\pytorch\\lib\\site-packages (0.6.12)\n",
            "Requirement already satisfied: scipy in d:\\users\\djk-office\\anaconda3\\envs\\pytorch\\lib\\site-packages (from torch-sparse) (1.7.1)\n",
            "Requirement already satisfied: numpy<1.23.0,>=1.16.5 in d:\\users\\djk-office\\anaconda3\\envs\\pytorch\\lib\\site-packages (from scipy->torch-sparse) (1.21.1)\n",
            "Requirement already satisfied: torch-geometric in d:\\users\\djk-office\\anaconda3\\envs\\pytorch\\lib\\site-packages (1.7.2)\n",
            "Requirement already satisfied: googledrivedownloader in d:\\users\\djk-office\\anaconda3\\envs\\pytorch\\lib\\site-packages (from torch-geometric) (0.4)\n",
            "Requirement already satisfied: pyparsing in d:\\users\\djk-office\\anaconda3\\envs\\pytorch\\lib\\site-packages (from torch-geometric) (2.4.7)\n",
            "Requirement already satisfied: networkx in d:\\users\\djk-office\\anaconda3\\envs\\pytorch\\lib\\site-packages (from torch-geometric) (2.6.3)\n",
            "Requirement already satisfied: pandas in d:\\users\\djk-office\\anaconda3\\envs\\pytorch\\lib\\site-packages (from torch-geometric) (1.3.2)\n",
            "Requirement already satisfied: tqdm in d:\\users\\djk-office\\anaconda3\\envs\\pytorch\\lib\\site-packages (from torch-geometric) (4.62.3)\n",
            "Requirement already satisfied: rdflib in d:\\users\\djk-office\\anaconda3\\envs\\pytorch\\lib\\site-packages (from torch-geometric) (6.0.0)\n",
            "Requirement already satisfied: jinja2 in d:\\users\\djk-office\\anaconda3\\envs\\pytorch\\lib\\site-packages (from torch-geometric) (3.0.1)\n",
            "Requirement already satisfied: scikit-learn in d:\\users\\djk-office\\anaconda3\\envs\\pytorch\\lib\\site-packages (from torch-geometric) (0.24.2)\n",
            "Requirement already satisfied: requests in d:\\users\\djk-office\\anaconda3\\envs\\pytorch\\lib\\site-packages (from torch-geometric) (2.25.1)\n",
            "Requirement already satisfied: python-louvain in d:\\users\\djk-office\\anaconda3\\envs\\pytorch\\lib\\site-packages (from torch-geometric) (0.15)\n",
            "Requirement already satisfied: scipy in d:\\users\\djk-office\\anaconda3\\envs\\pytorch\\lib\\site-packages (from torch-geometric) (1.7.1)\n",
            "Requirement already satisfied: numpy in d:\\users\\djk-office\\anaconda3\\envs\\pytorch\\lib\\site-packages (from torch-geometric) (1.21.1)\n",
            "Requirement already satisfied: MarkupSafe>=2.0 in d:\\users\\djk-office\\anaconda3\\envs\\pytorch\\lib\\site-packages (from jinja2->torch-geometric) (2.0.1)\n",
            "Requirement already satisfied: python-dateutil>=2.7.3 in d:\\users\\djk-office\\anaconda3\\envs\\pytorch\\lib\\site-packages (from pandas->torch-geometric) (2.8.2)\n",
            "Requirement already satisfied: pytz>=2017.3 in d:\\users\\djk-office\\anaconda3\\envs\\pytorch\\lib\\site-packages (from pandas->torch-geometric) (2021.1)\n",
            "Requirement already satisfied: six>=1.5 in d:\\users\\djk-office\\anaconda3\\envs\\pytorch\\lib\\site-packages (from python-dateutil>=2.7.3->pandas->torch-geometric) (1.16.0)\n",
            "Requirement already satisfied: isodate in d:\\users\\djk-office\\anaconda3\\envs\\pytorch\\lib\\site-packages (from rdflib->torch-geometric) (0.6.0)\n",
            "Requirement already satisfied: setuptools in d:\\users\\djk-office\\anaconda3\\envs\\pytorch\\lib\\site-packages (from rdflib->torch-geometric) (52.0.0.post20210125)\n",
            "Requirement already satisfied: certifi>=2017.4.17 in d:\\users\\djk-office\\anaconda3\\envs\\pytorch\\lib\\site-packages (from requests->torch-geometric) (2021.10.8)\n",
            "Requirement already satisfied: idna<3,>=2.5 in d:\\users\\djk-office\\anaconda3\\envs\\pytorch\\lib\\site-packages (from requests->torch-geometric) (2.10)\n",
            "Requirement already satisfied: chardet<5,>=3.0.2 in d:\\users\\djk-office\\anaconda3\\envs\\pytorch\\lib\\site-packages (from requests->torch-geometric) (4.0.0)\n",
            "Requirement already satisfied: urllib3<1.27,>=1.21.1 in d:\\users\\djk-office\\anaconda3\\envs\\pytorch\\lib\\site-packages (from requests->torch-geometric) (1.26.6)\n",
            "Requirement already satisfied: joblib>=0.11 in d:\\users\\djk-office\\anaconda3\\envs\\pytorch\\lib\\site-packages (from scikit-learn->torch-geometric) (1.0.1)\n",
            "Requirement already satisfied: threadpoolctl>=2.0.0 in d:\\users\\djk-office\\anaconda3\\envs\\pytorch\\lib\\site-packages (from scikit-learn->torch-geometric) (2.2.0)\n",
            "Requirement already satisfied: colorama in d:\\users\\djk-office\\anaconda3\\envs\\pytorch\\lib\\site-packages (from tqdm->torch-geometric) (0.4.4)\n",
            "Requirement already satisfied: ogb in d:\\users\\djk-office\\anaconda3\\envs\\pytorch\\lib\\site-packages (1.3.2)\n",
            "Requirement already satisfied: scikit-learn>=0.20.0 in d:\\users\\djk-office\\anaconda3\\envs\\pytorch\\lib\\site-packages (from ogb) (0.24.2)\n",
            "Requirement already satisfied: urllib3>=1.24.0 in d:\\users\\djk-office\\anaconda3\\envs\\pytorch\\lib\\site-packages (from ogb) (1.26.6)\n",
            "Requirement already satisfied: tqdm>=4.29.0 in d:\\users\\djk-office\\anaconda3\\envs\\pytorch\\lib\\site-packages (from ogb) (4.62.3)\n",
            "Requirement already satisfied: outdated>=0.2.0 in d:\\users\\djk-office\\anaconda3\\envs\\pytorch\\lib\\site-packages (from ogb) (0.2.1)\n",
            "Requirement already satisfied: six>=1.12.0 in d:\\users\\djk-office\\anaconda3\\envs\\pytorch\\lib\\site-packages (from ogb) (1.16.0)\n",
            "Requirement already satisfied: numpy>=1.16.0 in d:\\users\\djk-office\\anaconda3\\envs\\pytorch\\lib\\site-packages (from ogb) (1.21.1)\n",
            "Requirement already satisfied: pandas>=0.24.0 in d:\\users\\djk-office\\anaconda3\\envs\\pytorch\\lib\\site-packages (from ogb) (1.3.2)\n",
            "Requirement already satisfied: torch>=1.6.0 in d:\\users\\djk-office\\anaconda3\\envs\\pytorch\\lib\\site-packages (from ogb) (1.9.0)\n",
            "Requirement already satisfied: littleutils in d:\\users\\djk-office\\anaconda3\\envs\\pytorch\\lib\\site-packages (from outdated>=0.2.0->ogb) (0.2.2)\n",
            "Requirement already satisfied: requests in d:\\users\\djk-office\\anaconda3\\envs\\pytorch\\lib\\site-packages (from outdated>=0.2.0->ogb) (2.25.1)\n",
            "Requirement already satisfied: python-dateutil>=2.7.3 in d:\\users\\djk-office\\anaconda3\\envs\\pytorch\\lib\\site-packages (from pandas>=0.24.0->ogb) (2.8.2)\n",
            "Requirement already satisfied: pytz>=2017.3 in d:\\users\\djk-office\\anaconda3\\envs\\pytorch\\lib\\site-packages (from pandas>=0.24.0->ogb) (2021.1)\n",
            "Requirement already satisfied: scipy>=0.19.1 in d:\\users\\djk-office\\anaconda3\\envs\\pytorch\\lib\\site-packages (from scikit-learn>=0.20.0->ogb) (1.7.1)\n",
            "Requirement already satisfied: threadpoolctl>=2.0.0 in d:\\users\\djk-office\\anaconda3\\envs\\pytorch\\lib\\site-packages (from scikit-learn>=0.20.0->ogb) (2.2.0)\n",
            "Requirement already satisfied: joblib>=0.11 in d:\\users\\djk-office\\anaconda3\\envs\\pytorch\\lib\\site-packages (from scikit-learn>=0.20.0->ogb) (1.0.1)\n",
            "Requirement already satisfied: typing_extensions in d:\\users\\djk-office\\anaconda3\\envs\\pytorch\\lib\\site-packages (from torch>=1.6.0->ogb) (3.10.0.0)\n",
            "Requirement already satisfied: colorama in d:\\users\\djk-office\\anaconda3\\envs\\pytorch\\lib\\site-packages (from tqdm>=4.29.0->ogb) (0.4.4)\n",
            "Requirement already satisfied: idna<3,>=2.5 in d:\\users\\djk-office\\anaconda3\\envs\\pytorch\\lib\\site-packages (from requests->outdated>=0.2.0->ogb) (2.10)\n",
            "Requirement already satisfied: certifi>=2017.4.17 in d:\\users\\djk-office\\anaconda3\\envs\\pytorch\\lib\\site-packages (from requests->outdated>=0.2.0->ogb) (2021.10.8)\n",
            "Requirement already satisfied: chardet<5,>=3.0.2 in d:\\users\\djk-office\\anaconda3\\envs\\pytorch\\lib\\site-packages (from requests->outdated>=0.2.0->ogb) (4.0.0)\n"
          ]
        }
      ],
      "source": [
        "# Install torch geometric\n",
        "if 'IS_GRADESCOPE_ENV' not in os.environ:\n",
        "  !pip install torch-scatter -f https://pytorch-geometric.com/whl/torch-1.9.0+cu111.html\n",
        "  !pip install torch-sparse -f https://pytorch-geometric.com/whl/torch-1.9.0+cu111.html\n",
        "  !pip install torch-geometric\n",
        "  !pip install ogb"
      ]
    },
    {
      "cell_type": "markdown",
      "metadata": {
        "id": "Nwwq0nSdmsOL"
      },
      "source": [
        "# 1) PyTorch Geometric (Datasets and Data)\n"
      ]
    },
    {
      "cell_type": "markdown",
      "metadata": {
        "id": "Sf7vUmdNKCjA"
      },
      "source": [
        "PyTorch Geometric has two classes for storing and/or transforming graphs into tensor format. One is `torch_geometric.datasets`, which contains a variety of common graph datasets. Another is `torch_geometric.data`, which provides the data handling of graphs in PyTorch tensors.\n",
        "\n",
        "In this section, we will learn how to use `torch_geometric.datasets` and `torch_geometric.data` together."
      ]
    },
    {
      "cell_type": "markdown",
      "metadata": {
        "id": "ic-o1P3r6hr2"
      },
      "source": [
        "## PyG Datasets\n",
        "\n",
        "The `torch_geometric.datasets` class has many common graph datasets. Here we will explore its usage through one example dataset."
      ]
    },
    {
      "cell_type": "code",
      "execution_count": 5,
      "metadata": {
        "id": "zT5qca3x6XpG"
      },
      "outputs": [
        {
          "name": "stdout",
          "output_type": "stream",
          "text": [
            "ENZYMES(600)\n"
          ]
        }
      ],
      "source": [
        "from torch_geometric.datasets import TUDataset\n",
        "\n",
        "if 'IS_GRADESCOPE_ENV' not in os.environ:\n",
        "  root = './enzymes'\n",
        "  name = 'ENZYMES'\n",
        "\n",
        "  # The ENZYMES dataset\n",
        "  pyg_dataset= TUDataset(root, name)\n",
        "\n",
        "  # You will find that there are 600 graphs in this dataset\n",
        "  print(pyg_dataset)"
      ]
    },
    {
      "cell_type": "markdown",
      "metadata": {
        "id": "NLm5vVYMAP2x"
      },
      "source": [
        "## Question 1: What is the number of classes and number of features in the ENZYMES dataset? (5 points)"
      ]
    },
    {
      "cell_type": "code",
      "execution_count": 6,
      "metadata": {},
      "outputs": [
        {
          "data": {
            "text/plain": [
              "{0, 1, 2, 3, 4, 5}"
            ]
          },
          "execution_count": 6,
          "metadata": {},
          "output_type": "execute_result"
        }
      ],
      "source": [
        "set(pyg_dataset.data.y.numpy())"
      ]
    },
    {
      "cell_type": "code",
      "execution_count": 7,
      "metadata": {
        "id": "8iF_Kyqr_JbY"
      },
      "outputs": [
        {
          "name": "stdout",
          "output_type": "stream",
          "text": [
            "ENZYMES dataset has 6 classes\n",
            "ENZYMES dataset has 3 features\n"
          ]
        }
      ],
      "source": [
        "def get_num_classes(pyg_dataset):\n",
        "  # TODO: Implement a function that takes a PyG dataset object\n",
        "  # and returns the number of classes for that dataset.\n",
        "\n",
        "  num_classes = 0\n",
        "\n",
        "  ############# Your code here ############\n",
        "  ## (~1 line of code)\n",
        "  ## Note\n",
        "  ## 1. Colab autocomplete functionality might be useful.\n",
        "  num_classes = pyg_dataset.num_classes\n",
        "  #########################################\n",
        "\n",
        "  return num_classes\n",
        "\n",
        "def get_num_features(pyg_dataset):\n",
        "  # TODO: Implement a function that takes a PyG dataset object\n",
        "  # and returns the number of features for that dataset.\n",
        "\n",
        "  num_features = 0\n",
        "\n",
        "  ############# Your code here ############\n",
        "  ## (~1 line of code)\n",
        "  ## Note\n",
        "  ## 1. Colab autocomplete functionality might be useful.\n",
        "  num_features = pyg_dataset.num_features\n",
        "  #########################################\n",
        "\n",
        "  return num_features\n",
        "\n",
        "if 'IS_GRADESCOPE_ENV' not in os.environ:\n",
        "  num_classes = get_num_classes(pyg_dataset)\n",
        "  num_features = get_num_features(pyg_dataset)\n",
        "  print(\"{} dataset has {} classes\".format(name, num_classes))\n",
        "  print(\"{} dataset has {} features\".format(name, num_features))"
      ]
    },
    {
      "cell_type": "markdown",
      "metadata": {
        "id": "rwKbzhHUAckZ"
      },
      "source": [
        "## PyG Data\n",
        "\n",
        "Each PyG dataset stores a list of `torch_geometric.data.Data` objects, where each `torch_geometric.data.Data` object represents a graph. We can easily get the `Data` object by indexing into the dataset.\n",
        "\n",
        "For more information such as what is stored in the `Data` object, please refer to the [documentation](https://pytorch-geometric.readthedocs.io/en/latest/modules/data.html#torch_geometric.data.Data)."
      ]
    },
    {
      "cell_type": "markdown",
      "metadata": {
        "id": "7sCV3xJWCddX"
      },
      "source": [
        "## Question 2: What is the label of the graph with index 100 in the ENZYMES dataset? (5 points)"
      ]
    },
    {
      "cell_type": "code",
      "execution_count": 8,
      "metadata": {
        "id": "LIis9oTZAfs3"
      },
      "outputs": [
        {
          "name": "stdout",
          "output_type": "stream",
          "text": [
            "Data(edge_index=[2, 168], x=[37, 3], y=[1])\n",
            "Graph with index 100 has label 4\n"
          ]
        }
      ],
      "source": [
        "def get_graph_class(pyg_dataset, idx):\n",
        "  # TODO: Implement a function that takes a PyG dataset object,\n",
        "  # an index of a graph within the dataset, and returns the class/label \n",
        "  # of the graph (as an integer).\n",
        "\n",
        "  label = -1\n",
        "\n",
        "  ############# Your code here ############\n",
        "  ## (~1 line of code)\n",
        "  label = pyg_dataset[idx].y[0]\n",
        "  #########################################\n",
        "\n",
        "  return label\n",
        "\n",
        "# Here pyg_dataset is a dataset for graph classification\n",
        "if 'IS_GRADESCOPE_ENV' not in os.environ:\n",
        "  graph_0 = pyg_dataset[0]\n",
        "  print(graph_0)\n",
        "  idx = 100\n",
        "  label = get_graph_class(pyg_dataset, idx)\n",
        "  print('Graph with index {} has label {}'.format(idx, label))"
      ]
    },
    {
      "cell_type": "markdown",
      "metadata": {
        "id": "fKhcVeAhCwoY"
      },
      "source": [
        "## Question 3: How many edges does the graph with index 200 have? (5 points)"
      ]
    },
    {
      "cell_type": "code",
      "execution_count": 9,
      "metadata": {
        "id": "f5m2DOfhBtWv"
      },
      "outputs": [
        {
          "name": "stdout",
          "output_type": "stream",
          "text": [
            "Graph with index 200 has 106 edges\n"
          ]
        }
      ],
      "source": [
        "def get_graph_num_edges(pyg_dataset, idx):\n",
        "  # TODO: Implement a function that takes a PyG dataset object,\n",
        "  # the index of a graph in the dataset, and returns the number of \n",
        "  # edges in the graph (as an integer). You should not count an edge \n",
        "  # twice if the graph is undirected. For example, in an undirected \n",
        "  # graph G, if two nodes v and u are connected by an edge, this edge\n",
        "  # should only be counted once.\n",
        "\n",
        "  num_edges = 0\n",
        "\n",
        "  ############# Your code here ############\n",
        "  ## Note:\n",
        "  ## 1. You can't return the data.num_edges directly\n",
        "  ## 2. We assume the graph is undirected\n",
        "  ## 3. Look at the PyG dataset built in functions\n",
        "  ## (~4 lines of code)\n",
        "  num_edges = pyg_dataset[idx].edge_index.shape[1]\n",
        "  #########################################\n",
        "\n",
        "  return num_edges\n",
        "\n",
        "if 'IS_GRADESCOPE_ENV' not in os.environ:\n",
        "  idx = 200\n",
        "  num_edges = get_graph_num_edges(pyg_dataset, idx)\n",
        "  print('Graph with index {} has {} edges'.format(idx, num_edges))"
      ]
    },
    {
      "cell_type": "markdown",
      "metadata": {
        "id": "AXa7yIG4E0Fp"
      },
      "source": [
        "# 2) Open Graph Benchmark (OGB)\n",
        "\n",
        "The Open Graph Benchmark (OGB) is a collection of realistic, large-scale, and diverse benchmark datasets for machine learning on graphs. Its datasets are automatically downloaded, processed, and split using the OGB Data Loader. The model performance can then be evaluated by using the OGB Evaluator in a unified manner."
      ]
    },
    {
      "cell_type": "markdown",
      "metadata": {
        "id": "HnazPGGAJAZN"
      },
      "source": [
        "## Dataset and Data\n",
        "\n",
        "OGB also supports PyG dataset and data classes. Here we take a look on the `ogbn-arxiv` dataset."
      ]
    },
    {
      "cell_type": "code",
      "execution_count": 10,
      "metadata": {
        "id": "Gpc6bTm3GF02"
      },
      "outputs": [
        {
          "name": "stdout",
          "output_type": "stream",
          "text": [
            "The ogbn-arxiv dataset has 1 graph\n",
            "Data(adj_t=[169343, 169343, nnz=1166243], node_year=[169343, 1], x=[169343, 128], y=[169343, 1])\n"
          ]
        }
      ],
      "source": [
        "import torch_geometric.transforms as T\n",
        "from ogb.nodeproppred import PygNodePropPredDataset\n",
        "\n",
        "if 'IS_GRADESCOPE_ENV' not in os.environ:\n",
        "  dataset_name = 'ogbn-arxiv'\n",
        "  # Load the dataset and transform it to sparse tensor\n",
        "  dataset = PygNodePropPredDataset(name=dataset_name,\n",
        "                                  transform=T.ToSparseTensor())\n",
        "  print('The {} dataset has {} graph'.format(dataset_name, len(dataset)))\n",
        "\n",
        "  # Extract the graph\n",
        "  data = dataset[0]\n",
        "  print(data)"
      ]
    },
    {
      "cell_type": "markdown",
      "metadata": {
        "id": "Cw0xZJKZI-n3"
      },
      "source": [
        "## Question 4: How many features are in the ogbn-arxiv graph? (5 points)"
      ]
    },
    {
      "cell_type": "code",
      "execution_count": 11,
      "metadata": {
        "id": "ZP844_nT2ZJl"
      },
      "outputs": [
        {
          "name": "stdout",
          "output_type": "stream",
          "text": [
            "The graph has 128 features\n"
          ]
        }
      ],
      "source": [
        "def graph_num_features(data):\n",
        "  # TODO: Implement a function that takes a PyG data object,\n",
        "  # and returns the number of features in the graph (as an integer).\n",
        "\n",
        "  num_features = 0\n",
        "\n",
        "  ############# Your code here ############\n",
        "  ## (~1 line of code)\n",
        "  num_features = data.num_features\n",
        "  #########################################\n",
        "\n",
        "  return num_features\n",
        "\n",
        "if 'IS_GRADESCOPE_ENV' not in os.environ:\n",
        "  num_features = graph_num_features(data)\n",
        "  print('The graph has {} features'.format(num_features))"
      ]
    },
    {
      "cell_type": "markdown",
      "metadata": {
        "id": "9DP_yEQZ0NVW"
      },
      "source": [
        "# 3) GNN: Node Property Prediction\n",
        "\n",
        "In this section we will build our first graph neural network using PyTorch Geometric. Then we will apply it to the task of node property prediction (node classification).\n",
        "\n",
        "Specifically, we will use GCN as the foundation for your graph neural network ([Kipf et al. (2017)](https://arxiv.org/pdf/1609.02907.pdf)). To do so, we will work with PyG's built-in `GCNConv` layer. "
      ]
    },
    {
      "cell_type": "markdown",
      "metadata": {
        "id": "O4CcOUEoInjD"
      },
      "source": [
        "## Setup"
      ]
    },
    {
      "cell_type": "code",
      "execution_count": 12,
      "metadata": {
        "id": "-DCtgcHpGIpd"
      },
      "outputs": [
        {
          "name": "stdout",
          "output_type": "stream",
          "text": [
            "1.9.0\n"
          ]
        }
      ],
      "source": [
        "import torch\n",
        "import pandas as pd\n",
        "import torch.nn.functional as F\n",
        "print(torch.__version__)\n",
        "\n",
        "# The PyG built-in GCNConv\n",
        "from torch_geometric.nn import GCNConv\n",
        "\n",
        "import torch_geometric.transforms as T\n",
        "from ogb.nodeproppred import PygNodePropPredDataset, Evaluator"
      ]
    },
    {
      "cell_type": "markdown",
      "metadata": {
        "id": "0IK9z0wQIwzQ"
      },
      "source": [
        "## Load and Preprocess the Dataset"
      ]
    },
    {
      "cell_type": "code",
      "execution_count": 13,
      "metadata": {
        "id": "0ibJ0ieoIwQM"
      },
      "outputs": [
        {
          "name": "stdout",
          "output_type": "stream",
          "text": [
            "Device: cuda\n"
          ]
        }
      ],
      "source": [
        "if 'IS_GRADESCOPE_ENV' not in os.environ:\n",
        "  dataset_name = 'ogbn-arxiv'\n",
        "  dataset = PygNodePropPredDataset(name=dataset_name,\n",
        "                                  transform=T.ToSparseTensor())\n",
        "  data = dataset[0]\n",
        "\n",
        "  # Make the adjacency matrix to symmetric\n",
        "  data.adj_t = data.adj_t.to_symmetric()\n",
        "\n",
        "  device = 'cuda' if torch.cuda.is_available() else 'cpu'\n",
        "\n",
        "  # If you use GPU, the device should be cuda\n",
        "  print('Device: {}'.format(device))\n",
        "\n",
        "  data = data.to(device)\n",
        "  split_idx = dataset.get_idx_split()\n",
        "  train_idx = split_idx['train'].to(device)"
      ]
    },
    {
      "cell_type": "markdown",
      "metadata": {
        "id": "OgUA815bNJ8w"
      },
      "source": [
        "## GCN Model\n",
        "\n",
        "Now we will implement our GCN model!\n",
        "\n",
        "Please follow the figure below to implement the `forward` function.\n",
        "\n",
        "\n",
        "![test](https://drive.google.com/uc?id=128AuYAXNXGg7PIhJJ7e420DoPWKb-RtL)"
      ]
    },
    {
      "cell_type": "code",
      "execution_count": 14,
      "metadata": {
        "id": "IgspXTYpNJLA"
      },
      "outputs": [],
      "source": [
        "class GCN(torch.nn.Module):\n",
        "    def __init__(self, input_dim, hidden_dim, output_dim, num_layers,\n",
        "                 dropout, return_embeds=False):\n",
        "        # TODO: Implement a function that initializes self.convs, \n",
        "        # self.bns, and self.softmax.\n",
        "\n",
        "        super(GCN, self).__init__()\n",
        "\n",
        "        # A list of GCNConv layers\n",
        "        self.convs = torch.nn.ModuleList(\n",
        "            [GCNConv(in_channels=input_dim, out_channels=hidden_dim)] + \n",
        "            [GCNConv(in_channels=hidden_dim, out_channels=hidden_dim) for i in range(num_layers-2)] + \n",
        "            [GCNConv(in_channels=hidden_dim, out_channels=output_dim)]\n",
        "        )\n",
        "\n",
        "        # A list of 1D batch normalization layers\n",
        "        self.bns = torch.nn.ModuleList([\n",
        "            torch.nn.BatchNorm1d(num_features=hidden_dim) for i in range(num_layers-1)\n",
        "        ])\n",
        "\n",
        "        # The log softmax layer\n",
        "        self.softmax = torch.nn.LogSoftmax()\n",
        "\n",
        "        ############# Your code here ############\n",
        "        ## Note:\n",
        "        ## 1. You should use torch.nn.ModuleList for self.convs and self.bns\n",
        "        ## 2. self.convs has num_layers GCNConv layers\n",
        "        ## 3. self.bns has num_layers - 1 BatchNorm1d layers\n",
        "        ## 4. You should use torch.nn.LogSoftmax for self.softmax\n",
        "        ## 5. The parameters you can set for GCNConv include 'in_channels' and \n",
        "        ## 'out_channels'. For more information please refer to the documentation:\n",
        "        ## https://pytorch-geometric.readthedocs.io/en/latest/modules/nn.html#torch_geometric.nn.conv.GCNConv\n",
        "        ## 6. The only parameter you need to set for BatchNorm1d is 'num_features'\n",
        "        ## For more information please refer to the documentation: \n",
        "        ## https://pytorch.org/docs/stable/generated/torch.nn.BatchNorm1d.html\n",
        "        ## (~10 lines of code)\n",
        "\n",
        "\n",
        "        #########################################\n",
        "\n",
        "        # Probability of an element getting zeroed\n",
        "        self.dropout = dropout\n",
        "\n",
        "        # Skip classification layer and return node embeddings\n",
        "        self.return_embeds = return_embeds\n",
        "\n",
        "    def reset_parameters(self):\n",
        "        for conv in self.convs:\n",
        "            conv.reset_parameters()\n",
        "        for bn in self.bns:\n",
        "            bn.reset_parameters()\n",
        "\n",
        "    def forward(self, x, adj_t):\n",
        "        # TODO: Implement a function that takes the feature tensor x and\n",
        "        # edge_index tensor adj_t and returns the output tensor as\n",
        "        # shown in the figure.\n",
        "\n",
        "        for conv, bn in zip(self.convs[:-1], self.bns):\n",
        "            x1 = F.relu(bn(conv(x, adj_t)))\n",
        "            if self.training:\n",
        "                x1 = F.dropout(x1, p=self.dropout)\n",
        "            x = x1\n",
        "        x = self.convs[-1](x, adj_t)\n",
        "        out = x if self.return_embeds else self.softmax(x)\n",
        "\n",
        "        ############# Your code here ############\n",
        "        ## Note:\n",
        "        ## 1. Construct the network as shown in the figure\n",
        "        ## 2. torch.nn.functional.relu and torch.nn.functional.dropout are useful\n",
        "        ## For more information please refer to the documentation:\n",
        "        ## https://pytorch.org/docs/stable/nn.functional.html\n",
        "        ## 3. Don't forget to set F.dropout training to self.training\n",
        "        ## 4. If return_embeds is True, then skip the last softmax layer\n",
        "        ## (~7 lines of code)\n",
        "\n",
        "        #########################################\n",
        "\n",
        "        return out"
      ]
    },
    {
      "cell_type": "code",
      "execution_count": 15,
      "metadata": {
        "id": "FF1hnHUhO81e"
      },
      "outputs": [],
      "source": [
        "def train(model, data, train_idx, optimizer, loss_fn):\n",
        "    # TODO: Implement a function that trains the model by \n",
        "    # using the given optimizer and loss_fn.\n",
        "    model.train()\n",
        "    loss = 0\n",
        "\n",
        "    ############# Your code here ############\n",
        "    ## Note:\n",
        "    ## 1. Zero grad the optimizer\n",
        "    ## 2. Feed the data into the model\n",
        "    ## 3. Slice the model output and label by train_idx\n",
        "    ## 4. Feed the sliced output and label to loss_fn\n",
        "    ## (~4 lines of code)\n",
        "    optimizer.zero_grad()\n",
        "    out = model(data.x, data.adj_t)\n",
        "    loss = loss_fn(out[train_idx], data.y[train_idx].reshape(-1))\n",
        "    \n",
        "    #########################################\n",
        "\n",
        "    loss.backward()\n",
        "    optimizer.step()\n",
        "\n",
        "    return loss.item()"
      ]
    },
    {
      "cell_type": "code",
      "execution_count": 16,
      "metadata": {
        "id": "aJdlrJQhPBsK"
      },
      "outputs": [],
      "source": [
        "# Test function here\n",
        "@torch.no_grad()\n",
        "def test(model, data, split_idx, evaluator, save_model_results=False):\n",
        "    # TODO: Implement a function that tests the model by \n",
        "    # using the given split_idx and evaluator.\n",
        "    model.eval()\n",
        "\n",
        "    # The output of model on all data\n",
        "    out = None\n",
        "\n",
        "    ############# Your code here ############\n",
        "    ## (~1 line of code)\n",
        "    ## Note:\n",
        "    ## 1. No index slicing here\n",
        "    out = model(data.x, data.adj_t)\n",
        "    #########################################\n",
        "\n",
        "    y_pred = out.argmax(dim=-1, keepdim=True)\n",
        "\n",
        "    train_acc = evaluator.eval({\n",
        "        'y_true': data.y[split_idx['train']],\n",
        "        'y_pred': y_pred[split_idx['train']],\n",
        "    })['acc']\n",
        "    valid_acc = evaluator.eval({\n",
        "        'y_true': data.y[split_idx['valid']],\n",
        "        'y_pred': y_pred[split_idx['valid']],\n",
        "    })['acc']\n",
        "    test_acc = evaluator.eval({\n",
        "        'y_true': data.y[split_idx['test']],\n",
        "        'y_pred': y_pred[split_idx['test']],\n",
        "    })['acc']\n",
        "\n",
        "    if save_model_results:\n",
        "      print (\"Saving Model Predictions\")\n",
        "\n",
        "      data = {}\n",
        "      data['y_pred'] = y_pred.view(-1).cpu().detach().numpy()\n",
        "\n",
        "      df = pd.DataFrame(data=data)\n",
        "      # Save locally as csv\n",
        "      df.to_csv('ogbn-arxiv_node.csv', sep=',', index=False)\n",
        "\n",
        "\n",
        "    return train_acc, valid_acc, test_acc"
      ]
    },
    {
      "cell_type": "code",
      "execution_count": 17,
      "metadata": {
        "id": "o7F46xkuLiOL"
      },
      "outputs": [
        {
          "name": "stdout",
          "output_type": "stream",
          "text": [
            "{'device': 'cuda', 'num_layers': 3, 'hidden_dim': 256, 'dropout': 0.5, 'lr': 0.01, 'epochs': 100}\n"
          ]
        }
      ],
      "source": [
        "# Please do not change the args\n",
        "if 'IS_GRADESCOPE_ENV' not in os.environ:\n",
        "  args = {\n",
        "      'device': device,\n",
        "      'num_layers': 3,\n",
        "      'hidden_dim': 256,\n",
        "      'dropout': 0.5,\n",
        "      'lr': 0.01,\n",
        "      'epochs': 100,\n",
        "  }\n",
        "  print(args)"
      ]
    },
    {
      "cell_type": "code",
      "execution_count": 18,
      "metadata": {
        "id": "dT8RyM2cPGxM"
      },
      "outputs": [],
      "source": [
        "if 'IS_GRADESCOPE_ENV' not in os.environ:\n",
        "  model = GCN(data.num_features, args['hidden_dim'],\n",
        "              dataset.num_classes, args['num_layers'],\n",
        "              args['dropout']).to(device)\n",
        "  evaluator = Evaluator(name='ogbn-arxiv')"
      ]
    },
    {
      "cell_type": "code",
      "execution_count": 19,
      "metadata": {
        "id": "qd5O5cnPPdVF"
      },
      "outputs": [
        {
          "name": "stderr",
          "output_type": "stream",
          "text": [
            "<ipython-input-14-cb3e0238be51>:64: UserWarning: Implicit dimension choice for log_softmax has been deprecated. Change the call to include dim=X as an argument.\n",
            "  out = x if self.return_embeds else self.softmax(x)\n"
          ]
        },
        {
          "name": "stdout",
          "output_type": "stream",
          "text": [
            "Epoch: 01, Loss: 4.3371, Train: 18.35%, Valid: 25.46% Test: 23.14%\n",
            "Epoch: 02, Loss: 2.3627, Train: 26.61%, Valid: 24.43% Test: 29.35%\n",
            "Epoch: 03, Loss: 1.9512, Train: 31.72%, Valid: 31.29% Test: 35.83%\n",
            "Epoch: 04, Loss: 1.7859, Train: 36.08%, Valid: 35.56% Test: 32.21%\n",
            "Epoch: 05, Loss: 1.6673, Train: 37.05%, Valid: 36.22% Test: 33.30%\n",
            "Epoch: 06, Loss: 1.6136, Train: 35.98%, Valid: 34.61% Test: 32.39%\n",
            "Epoch: 07, Loss: 1.5402, Train: 34.91%, Valid: 31.27% Test: 30.19%\n",
            "Epoch: 08, Loss: 1.4881, Train: 34.38%, Valid: 27.96% Test: 27.12%\n",
            "Epoch: 09, Loss: 1.4428, Train: 34.72%, Valid: 28.64% Test: 27.50%\n",
            "Epoch: 10, Loss: 1.4066, Train: 36.73%, Valid: 30.80% Test: 30.02%\n",
            "Epoch: 11, Loss: 1.3700, Train: 39.53%, Valid: 34.28% Test: 33.85%\n",
            "Epoch: 12, Loss: 1.3348, Train: 41.77%, Valid: 37.07% Test: 37.05%\n",
            "Epoch: 13, Loss: 1.3142, Train: 43.35%, Valid: 37.83% Test: 37.56%\n",
            "Epoch: 14, Loss: 1.2946, Train: 46.83%, Valid: 43.17% Test: 44.03%\n",
            "Epoch: 15, Loss: 1.2704, Train: 51.97%, Valid: 52.58% Test: 55.08%\n",
            "Epoch: 16, Loss: 1.2536, Train: 55.94%, Valid: 57.54% Test: 59.69%\n",
            "Epoch: 17, Loss: 1.2362, Train: 58.82%, Valid: 59.94% Test: 61.45%\n",
            "Epoch: 18, Loss: 1.2232, Train: 60.91%, Valid: 61.37% Test: 62.29%\n",
            "Epoch: 19, Loss: 1.2105, Train: 62.20%, Valid: 62.43% Test: 63.22%\n",
            "Epoch: 20, Loss: 1.2020, Train: 63.06%, Valid: 63.35% Test: 64.20%\n",
            "Epoch: 21, Loss: 1.1889, Train: 63.33%, Valid: 63.75% Test: 64.94%\n",
            "Epoch: 22, Loss: 1.1770, Train: 63.26%, Valid: 63.16% Test: 64.45%\n",
            "Epoch: 23, Loss: 1.1668, Train: 62.90%, Valid: 62.49% Test: 63.81%\n",
            "Epoch: 24, Loss: 1.1514, Train: 62.75%, Valid: 62.33% Test: 63.58%\n",
            "Epoch: 25, Loss: 1.1453, Train: 63.24%, Valid: 62.85% Test: 63.63%\n",
            "Epoch: 26, Loss: 1.1362, Train: 64.08%, Valid: 63.56% Test: 63.64%\n",
            "Epoch: 27, Loss: 1.1309, Train: 65.30%, Valid: 64.61% Test: 64.17%\n",
            "Epoch: 28, Loss: 1.1247, Train: 66.43%, Valid: 65.59% Test: 65.13%\n",
            "Epoch: 29, Loss: 1.1149, Train: 66.89%, Valid: 66.13% Test: 65.53%\n",
            "Epoch: 30, Loss: 1.1072, Train: 67.02%, Valid: 66.22% Test: 65.70%\n",
            "Epoch: 31, Loss: 1.0989, Train: 66.89%, Valid: 66.32% Test: 65.86%\n",
            "Epoch: 32, Loss: 1.0943, Train: 67.06%, Valid: 66.55% Test: 66.29%\n",
            "Epoch: 33, Loss: 1.0876, Train: 67.42%, Valid: 67.03% Test: 66.62%\n",
            "Epoch: 34, Loss: 1.0818, Train: 68.16%, Valid: 68.02% Test: 67.21%\n",
            "Epoch: 35, Loss: 1.0755, Train: 68.67%, Valid: 68.45% Test: 67.96%\n",
            "Epoch: 36, Loss: 1.0717, Train: 68.75%, Valid: 68.73% Test: 68.47%\n",
            "Epoch: 37, Loss: 1.0672, Train: 68.91%, Valid: 68.93% Test: 68.67%\n",
            "Epoch: 38, Loss: 1.0601, Train: 69.06%, Valid: 69.13% Test: 68.73%\n",
            "Epoch: 39, Loss: 1.0567, Train: 69.05%, Valid: 69.18% Test: 68.46%\n",
            "Epoch: 40, Loss: 1.0546, Train: 69.19%, Valid: 69.30% Test: 68.49%\n",
            "Epoch: 41, Loss: 1.0499, Train: 69.45%, Valid: 69.55% Test: 68.79%\n",
            "Epoch: 42, Loss: 1.0427, Train: 69.83%, Valid: 69.71% Test: 69.27%\n",
            "Epoch: 43, Loss: 1.0419, Train: 70.23%, Valid: 69.93% Test: 69.51%\n",
            "Epoch: 44, Loss: 1.0355, Train: 70.46%, Valid: 70.07% Test: 69.53%\n",
            "Epoch: 45, Loss: 1.0338, Train: 70.53%, Valid: 69.91% Test: 69.19%\n",
            "Epoch: 46, Loss: 1.0319, Train: 70.47%, Valid: 69.74% Test: 68.59%\n",
            "Epoch: 47, Loss: 1.0213, Train: 70.55%, Valid: 69.70% Test: 68.47%\n",
            "Epoch: 48, Loss: 1.0216, Train: 70.78%, Valid: 70.05% Test: 68.75%\n",
            "Epoch: 49, Loss: 1.0186, Train: 71.07%, Valid: 70.61% Test: 69.91%\n",
            "Epoch: 50, Loss: 1.0157, Train: 71.20%, Valid: 70.91% Test: 70.48%\n",
            "Epoch: 51, Loss: 1.0148, Train: 71.17%, Valid: 70.77% Test: 70.42%\n",
            "Epoch: 52, Loss: 1.0072, Train: 71.23%, Valid: 70.67% Test: 70.08%\n",
            "Epoch: 53, Loss: 1.0053, Train: 71.32%, Valid: 70.67% Test: 70.08%\n",
            "Epoch: 54, Loss: 1.0003, Train: 71.38%, Valid: 70.73% Test: 70.21%\n",
            "Epoch: 55, Loss: 0.9999, Train: 71.37%, Valid: 70.82% Test: 70.37%\n",
            "Epoch: 56, Loss: 1.0003, Train: 71.52%, Valid: 70.91% Test: 70.10%\n",
            "Epoch: 57, Loss: 0.9952, Train: 71.67%, Valid: 70.65% Test: 69.44%\n",
            "Epoch: 58, Loss: 0.9959, Train: 71.74%, Valid: 70.39% Test: 68.87%\n",
            "Epoch: 59, Loss: 0.9923, Train: 71.83%, Valid: 70.58% Test: 69.12%\n",
            "Epoch: 60, Loss: 0.9905, Train: 71.89%, Valid: 70.69% Test: 69.50%\n",
            "Epoch: 61, Loss: 0.9850, Train: 71.94%, Valid: 70.87% Test: 69.69%\n",
            "Epoch: 62, Loss: 0.9827, Train: 72.10%, Valid: 70.93% Test: 69.51%\n",
            "Epoch: 63, Loss: 0.9787, Train: 72.12%, Valid: 70.77% Test: 69.11%\n",
            "Epoch: 64, Loss: 0.9770, Train: 72.22%, Valid: 70.74% Test: 69.08%\n",
            "Epoch: 65, Loss: 0.9782, Train: 72.16%, Valid: 70.98% Test: 69.63%\n",
            "Epoch: 66, Loss: 0.9739, Train: 72.15%, Valid: 70.96% Test: 69.83%\n",
            "Epoch: 67, Loss: 0.9719, Train: 72.27%, Valid: 71.10% Test: 69.91%\n",
            "Epoch: 68, Loss: 0.9704, Train: 72.41%, Valid: 71.13% Test: 69.78%\n",
            "Epoch: 69, Loss: 0.9697, Train: 72.52%, Valid: 71.19% Test: 69.78%\n",
            "Epoch: 70, Loss: 0.9690, Train: 72.53%, Valid: 71.31% Test: 70.14%\n",
            "Epoch: 71, Loss: 0.9620, Train: 72.49%, Valid: 71.41% Test: 70.24%\n",
            "Epoch: 72, Loss: 0.9634, Train: 72.55%, Valid: 71.21% Test: 69.82%\n",
            "Epoch: 73, Loss: 0.9631, Train: 72.61%, Valid: 70.96% Test: 69.25%\n",
            "Epoch: 74, Loss: 0.9581, Train: 72.72%, Valid: 71.32% Test: 69.88%\n",
            "Epoch: 75, Loss: 0.9570, Train: 72.66%, Valid: 71.57% Test: 70.61%\n",
            "Epoch: 76, Loss: 0.9545, Train: 72.66%, Valid: 71.48% Test: 70.68%\n",
            "Epoch: 77, Loss: 0.9539, Train: 72.87%, Valid: 71.34% Test: 70.07%\n",
            "Epoch: 78, Loss: 0.9500, Train: 72.94%, Valid: 70.95% Test: 69.14%\n",
            "Epoch: 79, Loss: 0.9480, Train: 72.96%, Valid: 70.99% Test: 69.31%\n",
            "Epoch: 80, Loss: 0.9481, Train: 73.01%, Valid: 71.44% Test: 70.34%\n",
            "Epoch: 81, Loss: 0.9466, Train: 73.00%, Valid: 71.61% Test: 70.83%\n",
            "Epoch: 82, Loss: 0.9422, Train: 73.02%, Valid: 71.57% Test: 70.64%\n",
            "Epoch: 83, Loss: 0.9410, Train: 73.05%, Valid: 71.49% Test: 70.18%\n",
            "Epoch: 84, Loss: 0.9380, Train: 72.99%, Valid: 71.60% Test: 70.69%\n",
            "Epoch: 85, Loss: 0.9386, Train: 72.85%, Valid: 71.52% Test: 70.94%\n",
            "Epoch: 86, Loss: 0.9363, Train: 72.85%, Valid: 71.50% Test: 70.87%\n",
            "Epoch: 87, Loss: 0.9369, Train: 73.17%, Valid: 71.58% Test: 70.86%\n",
            "Epoch: 88, Loss: 0.9330, Train: 73.22%, Valid: 71.47% Test: 70.13%\n",
            "Epoch: 89, Loss: 0.9330, Train: 73.24%, Valid: 71.68% Test: 70.49%\n",
            "Epoch: 90, Loss: 0.9313, Train: 73.28%, Valid: 71.86% Test: 70.91%\n",
            "Epoch: 91, Loss: 0.9261, Train: 73.26%, Valid: 71.87% Test: 70.89%\n",
            "Epoch: 92, Loss: 0.9275, Train: 73.31%, Valid: 71.70% Test: 70.72%\n",
            "Epoch: 93, Loss: 0.9268, Train: 73.47%, Valid: 71.74% Test: 71.02%\n",
            "Epoch: 94, Loss: 0.9238, Train: 73.52%, Valid: 71.55% Test: 70.60%\n",
            "Epoch: 95, Loss: 0.9225, Train: 73.64%, Valid: 71.33% Test: 69.82%\n",
            "Epoch: 96, Loss: 0.9211, Train: 73.66%, Valid: 71.33% Test: 69.55%\n",
            "Epoch: 97, Loss: 0.9197, Train: 73.64%, Valid: 71.57% Test: 70.29%\n",
            "Epoch: 98, Loss: 0.9198, Train: 73.59%, Valid: 71.71% Test: 70.97%\n",
            "Epoch: 99, Loss: 0.9166, Train: 73.58%, Valid: 71.79% Test: 71.16%\n",
            "Epoch: 100, Loss: 0.9162, Train: 73.70%, Valid: 71.54% Test: 70.06%\n"
          ]
        }
      ],
      "source": [
        "import copy\n",
        "if 'IS_GRADESCOPE_ENV' not in os.environ:\n",
        "  # reset the parameters to initial random value\n",
        "  model.reset_parameters()\n",
        "\n",
        "  optimizer = torch.optim.Adam(model.parameters(), lr=args['lr'])\n",
        "  loss_fn = F.nll_loss\n",
        "\n",
        "  best_model = None\n",
        "  best_valid_acc = 0\n",
        "\n",
        "  for epoch in range(1, 1 + args[\"epochs\"]):\n",
        "    loss = train(model, data, train_idx, optimizer, loss_fn)\n",
        "    result = test(model, data, split_idx, evaluator)\n",
        "    train_acc, valid_acc, test_acc = result\n",
        "    if valid_acc > best_valid_acc:\n",
        "        best_valid_acc = valid_acc\n",
        "        best_model = copy.deepcopy(model)\n",
        "    print(f'Epoch: {epoch:02d}, '\n",
        "          f'Loss: {loss:.4f}, '\n",
        "          f'Train: {100 * train_acc:.2f}%, '\n",
        "          f'Valid: {100 * valid_acc:.2f}% '\n",
        "          f'Test: {100 * test_acc:.2f}%')"
      ]
    },
    {
      "cell_type": "markdown",
      "metadata": {
        "id": "dQtt-EKA8P4r"
      },
      "source": [
        "## Question 5: What are your `best_model` validation and test accuracies?(20 points)\n",
        "\n",
        "Run the cell below to see the results of your best of model and save your model's predictions to a file named *ogbn-arxiv_node.csv*. \n",
        "\n",
        "You can view this file by clicking on the *Folder* icon on the left side pannel. As in Colab 1, when you sumbit your assignment, you will have to download this file and attatch it to your submission."
      ]
    },
    {
      "cell_type": "code",
      "execution_count": 20,
      "metadata": {
        "id": "EqcextqOL2FX"
      },
      "outputs": [
        {
          "name": "stdout",
          "output_type": "stream",
          "text": [
            "Saving Model Predictions\n",
            "Best model: Train: 73.26%, Valid: 71.87% Test: 70.89%\n"
          ]
        },
        {
          "name": "stderr",
          "output_type": "stream",
          "text": [
            "<ipython-input-14-cb3e0238be51>:64: UserWarning: Implicit dimension choice for log_softmax has been deprecated. Change the call to include dim=X as an argument.\n",
            "  out = x if self.return_embeds else self.softmax(x)\n"
          ]
        }
      ],
      "source": [
        "if 'IS_GRADESCOPE_ENV' not in os.environ:\n",
        "  best_result = test(best_model, data, split_idx, evaluator, save_model_results=True)\n",
        "  train_acc, valid_acc, test_acc = best_result\n",
        "  print(f'Best model: '\n",
        "        f'Train: {100 * train_acc:.2f}%, '\n",
        "        f'Valid: {100 * valid_acc:.2f}% '\n",
        "        f'Test: {100 * test_acc:.2f}%')"
      ]
    },
    {
      "cell_type": "markdown",
      "metadata": {
        "id": "R8pOD6y80TyI"
      },
      "source": [
        "# 4) GNN: Graph Property Prediction\n",
        "\n",
        "In this section we will create a graph neural network for graph property prediction (graph classification).\n"
      ]
    },
    {
      "cell_type": "markdown",
      "metadata": {
        "id": "vRg5VOEdQTa4"
      },
      "source": [
        "## Load and preprocess the dataset"
      ]
    },
    {
      "cell_type": "code",
      "execution_count": 21,
      "metadata": {
        "id": "LXb-O5QUIgTH"
      },
      "outputs": [
        {
          "name": "stdout",
          "output_type": "stream",
          "text": [
            "Device: cuda\n",
            "Task type: binary classification\n"
          ]
        }
      ],
      "source": [
        "from ogb.graphproppred import PygGraphPropPredDataset, Evaluator\n",
        "from torch_geometric.data import DataLoader\n",
        "from tqdm.notebook import tqdm\n",
        "\n",
        "\n",
        "if 'IS_GRADESCOPE_ENV' not in os.environ:\n",
        "  # Load the dataset \n",
        "  dataset = PygGraphPropPredDataset(name='ogbg-molhiv')\n",
        "\n",
        "  device = 'cuda' if torch.cuda.is_available() else 'cpu'\n",
        "  print('Device: {}'.format(device))\n",
        "\n",
        "  split_idx = dataset.get_idx_split()\n",
        "\n",
        "  # Check task type\n",
        "  print('Task type: {}'.format(dataset.task_type))"
      ]
    },
    {
      "cell_type": "code",
      "execution_count": 22,
      "metadata": {
        "id": "7cHHbgW1c5hi"
      },
      "outputs": [],
      "source": [
        "# Load the dataset splits into corresponding dataloaders\n",
        "# We will train the graph classification task on a batch of 32 graphs\n",
        "# Shuffle the order of graphs for training set\n",
        "if 'IS_GRADESCOPE_ENV' not in os.environ:\n",
        "  train_loader = DataLoader(dataset[split_idx[\"train\"]], batch_size=32, shuffle=True, num_workers=0)\n",
        "  valid_loader = DataLoader(dataset[split_idx[\"valid\"]], batch_size=32, shuffle=False, num_workers=0)\n",
        "  test_loader = DataLoader(dataset[split_idx[\"test\"]], batch_size=32, shuffle=False, num_workers=0)"
      ]
    },
    {
      "cell_type": "code",
      "execution_count": 23,
      "metadata": {},
      "outputs": [
        {
          "name": "stdout",
          "output_type": "stream",
          "text": [
            "(0, Batch(batch=[750], edge_attr=[1612, 3], edge_index=[2, 1612], ptr=[33], x=[750, 9], y=[32, 1]))\n",
            "(1, Batch(batch=[793], edge_attr=[1704, 3], edge_index=[2, 1704], ptr=[33], x=[793, 9], y=[32, 1]))\n",
            "(2, Batch(batch=[888], edge_attr=[1860, 3], edge_index=[2, 1860], ptr=[33], x=[888, 9], y=[32, 1]))\n",
            "(3, Batch(batch=[944], edge_attr=[2002, 3], edge_index=[2, 2002], ptr=[33], x=[944, 9], y=[32, 1]))\n",
            "(4, Batch(batch=[751], edge_attr=[1588, 3], edge_index=[2, 1588], ptr=[33], x=[751, 9], y=[32, 1]))\n",
            "(5, Batch(batch=[785], edge_attr=[1684, 3], edge_index=[2, 1684], ptr=[33], x=[785, 9], y=[32, 1]))\n",
            "(6, Batch(batch=[887], edge_attr=[1902, 3], edge_index=[2, 1902], ptr=[33], x=[887, 9], y=[32, 1]))\n",
            "(7, Batch(batch=[679], edge_attr=[1458, 3], edge_index=[2, 1458], ptr=[33], x=[679, 9], y=[32, 1]))\n",
            "(8, Batch(batch=[769], edge_attr=[1650, 3], edge_index=[2, 1650], ptr=[33], x=[769, 9], y=[32, 1]))\n",
            "(9, Batch(batch=[866], edge_attr=[1866, 3], edge_index=[2, 1866], ptr=[33], x=[866, 9], y=[32, 1]))\n",
            "(10, Batch(batch=[854], edge_attr=[1830, 3], edge_index=[2, 1830], ptr=[33], x=[854, 9], y=[32, 1]))\n",
            "(11, Batch(batch=[773], edge_attr=[1682, 3], edge_index=[2, 1682], ptr=[33], x=[773, 9], y=[32, 1]))\n",
            "(12, Batch(batch=[809], edge_attr=[1722, 3], edge_index=[2, 1722], ptr=[33], x=[809, 9], y=[32, 1]))\n",
            "(13, Batch(batch=[821], edge_attr=[1744, 3], edge_index=[2, 1744], ptr=[33], x=[821, 9], y=[32, 1]))\n",
            "(14, Batch(batch=[844], edge_attr=[1806, 3], edge_index=[2, 1806], ptr=[33], x=[844, 9], y=[32, 1]))\n",
            "(15, Batch(batch=[697], edge_attr=[1502, 3], edge_index=[2, 1502], ptr=[33], x=[697, 9], y=[32, 1]))\n",
            "(16, Batch(batch=[830], edge_attr=[1754, 3], edge_index=[2, 1754], ptr=[33], x=[830, 9], y=[32, 1]))\n",
            "(17, Batch(batch=[749], edge_attr=[1602, 3], edge_index=[2, 1602], ptr=[33], x=[749, 9], y=[32, 1]))\n",
            "(18, Batch(batch=[774], edge_attr=[1666, 3], edge_index=[2, 1666], ptr=[33], x=[774, 9], y=[32, 1]))\n",
            "(19, Batch(batch=[863], edge_attr=[1860, 3], edge_index=[2, 1860], ptr=[33], x=[863, 9], y=[32, 1]))\n",
            "(20, Batch(batch=[767], edge_attr=[1660, 3], edge_index=[2, 1660], ptr=[33], x=[767, 9], y=[32, 1]))\n",
            "(21, Batch(batch=[921], edge_attr=[1978, 3], edge_index=[2, 1978], ptr=[33], x=[921, 9], y=[32, 1]))\n",
            "(22, Batch(batch=[828], edge_attr=[1786, 3], edge_index=[2, 1786], ptr=[33], x=[828, 9], y=[32, 1]))\n",
            "(23, Batch(batch=[806], edge_attr=[1730, 3], edge_index=[2, 1730], ptr=[33], x=[806, 9], y=[32, 1]))\n",
            "(24, Batch(batch=[902], edge_attr=[1948, 3], edge_index=[2, 1948], ptr=[33], x=[902, 9], y=[32, 1]))\n",
            "(25, Batch(batch=[834], edge_attr=[1786, 3], edge_index=[2, 1786], ptr=[33], x=[834, 9], y=[32, 1]))\n",
            "(26, Batch(batch=[805], edge_attr=[1724, 3], edge_index=[2, 1724], ptr=[33], x=[805, 9], y=[32, 1]))\n",
            "(27, Batch(batch=[855], edge_attr=[1818, 3], edge_index=[2, 1818], ptr=[33], x=[855, 9], y=[32, 1]))\n",
            "(28, Batch(batch=[770], edge_attr=[1642, 3], edge_index=[2, 1642], ptr=[33], x=[770, 9], y=[32, 1]))\n",
            "(29, Batch(batch=[907], edge_attr=[1972, 3], edge_index=[2, 1972], ptr=[33], x=[907, 9], y=[32, 1]))\n",
            "(30, Batch(batch=[802], edge_attr=[1708, 3], edge_index=[2, 1708], ptr=[33], x=[802, 9], y=[32, 1]))\n",
            "(31, Batch(batch=[800], edge_attr=[1716, 3], edge_index=[2, 1716], ptr=[33], x=[800, 9], y=[32, 1]))\n",
            "(32, Batch(batch=[865], edge_attr=[1856, 3], edge_index=[2, 1856], ptr=[33], x=[865, 9], y=[32, 1]))\n",
            "(33, Batch(batch=[772], edge_attr=[1646, 3], edge_index=[2, 1646], ptr=[33], x=[772, 9], y=[32, 1]))\n",
            "(34, Batch(batch=[778], edge_attr=[1662, 3], edge_index=[2, 1662], ptr=[33], x=[778, 9], y=[32, 1]))\n",
            "(35, Batch(batch=[662], edge_attr=[1410, 3], edge_index=[2, 1410], ptr=[33], x=[662, 9], y=[32, 1]))\n",
            "(36, Batch(batch=[982], edge_attr=[2084, 3], edge_index=[2, 2084], ptr=[33], x=[982, 9], y=[32, 1]))\n",
            "(37, Batch(batch=[829], edge_attr=[1756, 3], edge_index=[2, 1756], ptr=[33], x=[829, 9], y=[32, 1]))\n",
            "(38, Batch(batch=[839], edge_attr=[1782, 3], edge_index=[2, 1782], ptr=[33], x=[839, 9], y=[32, 1]))\n",
            "(39, Batch(batch=[719], edge_attr=[1540, 3], edge_index=[2, 1540], ptr=[33], x=[719, 9], y=[32, 1]))\n",
            "(40, Batch(batch=[816], edge_attr=[1742, 3], edge_index=[2, 1742], ptr=[33], x=[816, 9], y=[32, 1]))\n",
            "(41, Batch(batch=[718], edge_attr=[1542, 3], edge_index=[2, 1542], ptr=[33], x=[718, 9], y=[32, 1]))\n",
            "(42, Batch(batch=[728], edge_attr=[1548, 3], edge_index=[2, 1548], ptr=[33], x=[728, 9], y=[32, 1]))\n",
            "(43, Batch(batch=[777], edge_attr=[1664, 3], edge_index=[2, 1664], ptr=[33], x=[777, 9], y=[32, 1]))\n",
            "(44, Batch(batch=[797], edge_attr=[1714, 3], edge_index=[2, 1714], ptr=[33], x=[797, 9], y=[32, 1]))\n",
            "(45, Batch(batch=[848], edge_attr=[1788, 3], edge_index=[2, 1788], ptr=[33], x=[848, 9], y=[32, 1]))\n",
            "(46, Batch(batch=[798], edge_attr=[1716, 3], edge_index=[2, 1716], ptr=[33], x=[798, 9], y=[32, 1]))\n",
            "(47, Batch(batch=[777], edge_attr=[1662, 3], edge_index=[2, 1662], ptr=[33], x=[777, 9], y=[32, 1]))\n",
            "(48, Batch(batch=[724], edge_attr=[1546, 3], edge_index=[2, 1546], ptr=[33], x=[724, 9], y=[32, 1]))\n",
            "(49, Batch(batch=[850], edge_attr=[1828, 3], edge_index=[2, 1828], ptr=[33], x=[850, 9], y=[32, 1]))\n",
            "(50, Batch(batch=[816], edge_attr=[1758, 3], edge_index=[2, 1758], ptr=[33], x=[816, 9], y=[32, 1]))\n",
            "(51, Batch(batch=[812], edge_attr=[1734, 3], edge_index=[2, 1734], ptr=[33], x=[812, 9], y=[32, 1]))\n",
            "(52, Batch(batch=[814], edge_attr=[1744, 3], edge_index=[2, 1744], ptr=[33], x=[814, 9], y=[32, 1]))\n",
            "(53, Batch(batch=[829], edge_attr=[1742, 3], edge_index=[2, 1742], ptr=[33], x=[829, 9], y=[32, 1]))\n",
            "(54, Batch(batch=[896], edge_attr=[1906, 3], edge_index=[2, 1906], ptr=[33], x=[896, 9], y=[32, 1]))\n",
            "(55, Batch(batch=[912], edge_attr=[1968, 3], edge_index=[2, 1968], ptr=[33], x=[912, 9], y=[32, 1]))\n",
            "(56, Batch(batch=[822], edge_attr=[1768, 3], edge_index=[2, 1768], ptr=[33], x=[822, 9], y=[32, 1]))\n",
            "(57, Batch(batch=[792], edge_attr=[1696, 3], edge_index=[2, 1696], ptr=[33], x=[792, 9], y=[32, 1]))\n",
            "(58, Batch(batch=[853], edge_attr=[1856, 3], edge_index=[2, 1856], ptr=[33], x=[853, 9], y=[32, 1]))\n",
            "(59, Batch(batch=[817], edge_attr=[1746, 3], edge_index=[2, 1746], ptr=[33], x=[817, 9], y=[32, 1]))\n",
            "(60, Batch(batch=[796], edge_attr=[1712, 3], edge_index=[2, 1712], ptr=[33], x=[796, 9], y=[32, 1]))\n",
            "(61, Batch(batch=[814], edge_attr=[1756, 3], edge_index=[2, 1756], ptr=[33], x=[814, 9], y=[32, 1]))\n",
            "(62, Batch(batch=[808], edge_attr=[1740, 3], edge_index=[2, 1740], ptr=[33], x=[808, 9], y=[32, 1]))\n",
            "(63, Batch(batch=[731], edge_attr=[1570, 3], edge_index=[2, 1570], ptr=[33], x=[731, 9], y=[32, 1]))\n",
            "(64, Batch(batch=[733], edge_attr=[1562, 3], edge_index=[2, 1562], ptr=[33], x=[733, 9], y=[32, 1]))\n",
            "(65, Batch(batch=[819], edge_attr=[1750, 3], edge_index=[2, 1750], ptr=[33], x=[819, 9], y=[32, 1]))\n",
            "(66, Batch(batch=[775], edge_attr=[1668, 3], edge_index=[2, 1668], ptr=[33], x=[775, 9], y=[32, 1]))\n",
            "(67, Batch(batch=[755], edge_attr=[1634, 3], edge_index=[2, 1634], ptr=[33], x=[755, 9], y=[32, 1]))\n",
            "(68, Batch(batch=[889], edge_attr=[1934, 3], edge_index=[2, 1934], ptr=[33], x=[889, 9], y=[32, 1]))\n",
            "(69, Batch(batch=[779], edge_attr=[1662, 3], edge_index=[2, 1662], ptr=[33], x=[779, 9], y=[32, 1]))\n",
            "(70, Batch(batch=[739], edge_attr=[1570, 3], edge_index=[2, 1570], ptr=[33], x=[739, 9], y=[32, 1]))\n",
            "(71, Batch(batch=[917], edge_attr=[1960, 3], edge_index=[2, 1960], ptr=[33], x=[917, 9], y=[32, 1]))\n",
            "(72, Batch(batch=[697], edge_attr=[1488, 3], edge_index=[2, 1488], ptr=[33], x=[697, 9], y=[32, 1]))\n",
            "(73, Batch(batch=[719], edge_attr=[1546, 3], edge_index=[2, 1546], ptr=[33], x=[719, 9], y=[32, 1]))\n",
            "(74, Batch(batch=[871], edge_attr=[1870, 3], edge_index=[2, 1870], ptr=[33], x=[871, 9], y=[32, 1]))\n",
            "(75, Batch(batch=[740], edge_attr=[1594, 3], edge_index=[2, 1594], ptr=[33], x=[740, 9], y=[32, 1]))\n",
            "(76, Batch(batch=[805], edge_attr=[1740, 3], edge_index=[2, 1740], ptr=[33], x=[805, 9], y=[32, 1]))\n",
            "(77, Batch(batch=[843], edge_attr=[1786, 3], edge_index=[2, 1786], ptr=[33], x=[843, 9], y=[32, 1]))\n",
            "(78, Batch(batch=[880], edge_attr=[1898, 3], edge_index=[2, 1898], ptr=[33], x=[880, 9], y=[32, 1]))\n",
            "(79, Batch(batch=[715], edge_attr=[1524, 3], edge_index=[2, 1524], ptr=[33], x=[715, 9], y=[32, 1]))\n",
            "(80, Batch(batch=[731], edge_attr=[1580, 3], edge_index=[2, 1580], ptr=[33], x=[731, 9], y=[32, 1]))\n",
            "(81, Batch(batch=[699], edge_attr=[1484, 3], edge_index=[2, 1484], ptr=[33], x=[699, 9], y=[32, 1]))\n",
            "(82, Batch(batch=[694], edge_attr=[1492, 3], edge_index=[2, 1492], ptr=[33], x=[694, 9], y=[32, 1]))\n",
            "(83, Batch(batch=[863], edge_attr=[1850, 3], edge_index=[2, 1850], ptr=[33], x=[863, 9], y=[32, 1]))\n",
            "(84, Batch(batch=[748], edge_attr=[1600, 3], edge_index=[2, 1600], ptr=[33], x=[748, 9], y=[32, 1]))\n",
            "(85, Batch(batch=[728], edge_attr=[1528, 3], edge_index=[2, 1528], ptr=[33], x=[728, 9], y=[32, 1]))\n",
            "(86, Batch(batch=[819], edge_attr=[1770, 3], edge_index=[2, 1770], ptr=[33], x=[819, 9], y=[32, 1]))\n",
            "(87, Batch(batch=[955], edge_attr=[2054, 3], edge_index=[2, 2054], ptr=[33], x=[955, 9], y=[32, 1]))\n",
            "(88, Batch(batch=[822], edge_attr=[1744, 3], edge_index=[2, 1744], ptr=[33], x=[822, 9], y=[32, 1]))\n",
            "(89, Batch(batch=[894], edge_attr=[1928, 3], edge_index=[2, 1928], ptr=[33], x=[894, 9], y=[32, 1]))\n",
            "(90, Batch(batch=[849], edge_attr=[1808, 3], edge_index=[2, 1808], ptr=[33], x=[849, 9], y=[32, 1]))\n",
            "(91, Batch(batch=[978], edge_attr=[2072, 3], edge_index=[2, 2072], ptr=[33], x=[978, 9], y=[32, 1]))\n",
            "(92, Batch(batch=[844], edge_attr=[1814, 3], edge_index=[2, 1814], ptr=[33], x=[844, 9], y=[32, 1]))\n",
            "(93, Batch(batch=[885], edge_attr=[1894, 3], edge_index=[2, 1894], ptr=[33], x=[885, 9], y=[32, 1]))\n",
            "(94, Batch(batch=[837], edge_attr=[1798, 3], edge_index=[2, 1798], ptr=[33], x=[837, 9], y=[32, 1]))\n",
            "(95, Batch(batch=[879], edge_attr=[1886, 3], edge_index=[2, 1886], ptr=[33], x=[879, 9], y=[32, 1]))\n",
            "(96, Batch(batch=[895], edge_attr=[1956, 3], edge_index=[2, 1956], ptr=[33], x=[895, 9], y=[32, 1]))\n",
            "(97, Batch(batch=[816], edge_attr=[1746, 3], edge_index=[2, 1746], ptr=[33], x=[816, 9], y=[32, 1]))\n",
            "(98, Batch(batch=[818], edge_attr=[1754, 3], edge_index=[2, 1754], ptr=[33], x=[818, 9], y=[32, 1]))\n",
            "(99, Batch(batch=[703], edge_attr=[1468, 3], edge_index=[2, 1468], ptr=[33], x=[703, 9], y=[32, 1]))\n",
            "(100, Batch(batch=[853], edge_attr=[1818, 3], edge_index=[2, 1818], ptr=[33], x=[853, 9], y=[32, 1]))\n",
            "(101, Batch(batch=[775], edge_attr=[1670, 3], edge_index=[2, 1670], ptr=[33], x=[775, 9], y=[32, 1]))\n",
            "(102, Batch(batch=[762], edge_attr=[1618, 3], edge_index=[2, 1618], ptr=[33], x=[762, 9], y=[32, 1]))\n",
            "(103, Batch(batch=[842], edge_attr=[1782, 3], edge_index=[2, 1782], ptr=[33], x=[842, 9], y=[32, 1]))\n",
            "(104, Batch(batch=[819], edge_attr=[1748, 3], edge_index=[2, 1748], ptr=[33], x=[819, 9], y=[32, 1]))\n",
            "(105, Batch(batch=[891], edge_attr=[1900, 3], edge_index=[2, 1900], ptr=[33], x=[891, 9], y=[32, 1]))\n",
            "(106, Batch(batch=[845], edge_attr=[1818, 3], edge_index=[2, 1818], ptr=[33], x=[845, 9], y=[32, 1]))\n",
            "(107, Batch(batch=[840], edge_attr=[1788, 3], edge_index=[2, 1788], ptr=[33], x=[840, 9], y=[32, 1]))\n",
            "(108, Batch(batch=[881], edge_attr=[1912, 3], edge_index=[2, 1912], ptr=[33], x=[881, 9], y=[32, 1]))\n",
            "(109, Batch(batch=[903], edge_attr=[1920, 3], edge_index=[2, 1920], ptr=[33], x=[903, 9], y=[32, 1]))\n",
            "(110, Batch(batch=[745], edge_attr=[1600, 3], edge_index=[2, 1600], ptr=[33], x=[745, 9], y=[32, 1]))\n",
            "(111, Batch(batch=[801], edge_attr=[1688, 3], edge_index=[2, 1688], ptr=[33], x=[801, 9], y=[32, 1]))\n",
            "(112, Batch(batch=[833], edge_attr=[1806, 3], edge_index=[2, 1806], ptr=[33], x=[833, 9], y=[32, 1]))\n",
            "(113, Batch(batch=[778], edge_attr=[1674, 3], edge_index=[2, 1674], ptr=[33], x=[778, 9], y=[32, 1]))\n",
            "(114, Batch(batch=[789], edge_attr=[1676, 3], edge_index=[2, 1676], ptr=[33], x=[789, 9], y=[32, 1]))\n",
            "(115, Batch(batch=[782], edge_attr=[1666, 3], edge_index=[2, 1666], ptr=[33], x=[782, 9], y=[32, 1]))\n",
            "(116, Batch(batch=[871], edge_attr=[1874, 3], edge_index=[2, 1874], ptr=[33], x=[871, 9], y=[32, 1]))\n",
            "(117, Batch(batch=[839], edge_attr=[1826, 3], edge_index=[2, 1826], ptr=[33], x=[839, 9], y=[32, 1]))\n",
            "(118, Batch(batch=[716], edge_attr=[1536, 3], edge_index=[2, 1536], ptr=[33], x=[716, 9], y=[32, 1]))\n",
            "(119, Batch(batch=[781], edge_attr=[1670, 3], edge_index=[2, 1670], ptr=[33], x=[781, 9], y=[32, 1]))\n",
            "(120, Batch(batch=[841], edge_attr=[1780, 3], edge_index=[2, 1780], ptr=[33], x=[841, 9], y=[32, 1]))\n",
            "(121, Batch(batch=[813], edge_attr=[1732, 3], edge_index=[2, 1732], ptr=[33], x=[813, 9], y=[32, 1]))\n",
            "(122, Batch(batch=[760], edge_attr=[1632, 3], edge_index=[2, 1632], ptr=[33], x=[760, 9], y=[32, 1]))\n",
            "(123, Batch(batch=[914], edge_attr=[1976, 3], edge_index=[2, 1976], ptr=[33], x=[914, 9], y=[32, 1]))\n",
            "(124, Batch(batch=[729], edge_attr=[1562, 3], edge_index=[2, 1562], ptr=[33], x=[729, 9], y=[32, 1]))\n",
            "(125, Batch(batch=[944], edge_attr=[2018, 3], edge_index=[2, 2018], ptr=[33], x=[944, 9], y=[32, 1]))\n",
            "(126, Batch(batch=[710], edge_attr=[1502, 3], edge_index=[2, 1502], ptr=[33], x=[710, 9], y=[32, 1]))\n",
            "(127, Batch(batch=[780], edge_attr=[1670, 3], edge_index=[2, 1670], ptr=[33], x=[780, 9], y=[32, 1]))\n",
            "(128, Batch(batch=[920], edge_attr=[1990, 3], edge_index=[2, 1990], ptr=[33], x=[920, 9], y=[32, 1]))\n",
            "(129, Batch(batch=[938], edge_attr=[2018, 3], edge_index=[2, 2018], ptr=[33], x=[938, 9], y=[32, 1]))\n",
            "(130, Batch(batch=[715], edge_attr=[1502, 3], edge_index=[2, 1502], ptr=[33], x=[715, 9], y=[32, 1]))\n",
            "(131, Batch(batch=[804], edge_attr=[1732, 3], edge_index=[2, 1732], ptr=[33], x=[804, 9], y=[32, 1]))\n",
            "(132, Batch(batch=[732], edge_attr=[1580, 3], edge_index=[2, 1580], ptr=[33], x=[732, 9], y=[32, 1]))\n",
            "(133, Batch(batch=[837], edge_attr=[1776, 3], edge_index=[2, 1776], ptr=[33], x=[837, 9], y=[32, 1]))\n",
            "(134, Batch(batch=[753], edge_attr=[1640, 3], edge_index=[2, 1640], ptr=[33], x=[753, 9], y=[32, 1]))\n",
            "(135, Batch(batch=[748], edge_attr=[1580, 3], edge_index=[2, 1580], ptr=[33], x=[748, 9], y=[32, 1]))\n",
            "(136, Batch(batch=[759], edge_attr=[1608, 3], edge_index=[2, 1608], ptr=[33], x=[759, 9], y=[32, 1]))\n",
            "(137, Batch(batch=[1027], edge_attr=[2202, 3], edge_index=[2, 2202], ptr=[33], x=[1027, 9], y=[32, 1]))\n",
            "(138, Batch(batch=[876], edge_attr=[1872, 3], edge_index=[2, 1872], ptr=[33], x=[876, 9], y=[32, 1]))\n",
            "(139, Batch(batch=[953], edge_attr=[2032, 3], edge_index=[2, 2032], ptr=[33], x=[953, 9], y=[32, 1]))\n",
            "(140, Batch(batch=[794], edge_attr=[1698, 3], edge_index=[2, 1698], ptr=[33], x=[794, 9], y=[32, 1]))\n",
            "(141, Batch(batch=[828], edge_attr=[1776, 3], edge_index=[2, 1776], ptr=[33], x=[828, 9], y=[32, 1]))\n",
            "(142, Batch(batch=[703], edge_attr=[1504, 3], edge_index=[2, 1504], ptr=[33], x=[703, 9], y=[32, 1]))\n",
            "(143, Batch(batch=[774], edge_attr=[1644, 3], edge_index=[2, 1644], ptr=[33], x=[774, 9], y=[32, 1]))\n",
            "(144, Batch(batch=[750], edge_attr=[1610, 3], edge_index=[2, 1610], ptr=[33], x=[750, 9], y=[32, 1]))\n",
            "(145, Batch(batch=[676], edge_attr=[1452, 3], edge_index=[2, 1452], ptr=[33], x=[676, 9], y=[32, 1]))\n",
            "(146, Batch(batch=[788], edge_attr=[1686, 3], edge_index=[2, 1686], ptr=[33], x=[788, 9], y=[32, 1]))\n",
            "(147, Batch(batch=[768], edge_attr=[1660, 3], edge_index=[2, 1660], ptr=[33], x=[768, 9], y=[32, 1]))\n",
            "(148, Batch(batch=[841], edge_attr=[1806, 3], edge_index=[2, 1806], ptr=[33], x=[841, 9], y=[32, 1]))\n",
            "(149, Batch(batch=[731], edge_attr=[1562, 3], edge_index=[2, 1562], ptr=[33], x=[731, 9], y=[32, 1]))\n",
            "(150, Batch(batch=[805], edge_attr=[1744, 3], edge_index=[2, 1744], ptr=[33], x=[805, 9], y=[32, 1]))\n",
            "(151, Batch(batch=[847], edge_attr=[1810, 3], edge_index=[2, 1810], ptr=[33], x=[847, 9], y=[32, 1]))\n",
            "(152, Batch(batch=[862], edge_attr=[1860, 3], edge_index=[2, 1860], ptr=[33], x=[862, 9], y=[32, 1]))\n",
            "(153, Batch(batch=[766], edge_attr=[1656, 3], edge_index=[2, 1656], ptr=[33], x=[766, 9], y=[32, 1]))\n",
            "(154, Batch(batch=[890], edge_attr=[1886, 3], edge_index=[2, 1886], ptr=[33], x=[890, 9], y=[32, 1]))\n",
            "(155, Batch(batch=[836], edge_attr=[1784, 3], edge_index=[2, 1784], ptr=[33], x=[836, 9], y=[32, 1]))\n",
            "(156, Batch(batch=[889], edge_attr=[1906, 3], edge_index=[2, 1906], ptr=[33], x=[889, 9], y=[32, 1]))\n",
            "(157, Batch(batch=[848], edge_attr=[1820, 3], edge_index=[2, 1820], ptr=[33], x=[848, 9], y=[32, 1]))\n",
            "(158, Batch(batch=[834], edge_attr=[1790, 3], edge_index=[2, 1790], ptr=[33], x=[834, 9], y=[32, 1]))\n",
            "(159, Batch(batch=[775], edge_attr=[1646, 3], edge_index=[2, 1646], ptr=[33], x=[775, 9], y=[32, 1]))\n",
            "(160, Batch(batch=[752], edge_attr=[1578, 3], edge_index=[2, 1578], ptr=[33], x=[752, 9], y=[32, 1]))\n",
            "(161, Batch(batch=[747], edge_attr=[1590, 3], edge_index=[2, 1590], ptr=[33], x=[747, 9], y=[32, 1]))\n",
            "(162, Batch(batch=[776], edge_attr=[1650, 3], edge_index=[2, 1650], ptr=[33], x=[776, 9], y=[32, 1]))\n",
            "(163, Batch(batch=[752], edge_attr=[1598, 3], edge_index=[2, 1598], ptr=[33], x=[752, 9], y=[32, 1]))\n",
            "(164, Batch(batch=[832], edge_attr=[1786, 3], edge_index=[2, 1786], ptr=[33], x=[832, 9], y=[32, 1]))\n",
            "(165, Batch(batch=[772], edge_attr=[1638, 3], edge_index=[2, 1638], ptr=[33], x=[772, 9], y=[32, 1]))\n",
            "(166, Batch(batch=[985], edge_attr=[2104, 3], edge_index=[2, 2104], ptr=[33], x=[985, 9], y=[32, 1]))\n",
            "(167, Batch(batch=[812], edge_attr=[1752, 3], edge_index=[2, 1752], ptr=[33], x=[812, 9], y=[32, 1]))\n",
            "(168, Batch(batch=[836], edge_attr=[1766, 3], edge_index=[2, 1766], ptr=[33], x=[836, 9], y=[32, 1]))\n",
            "(169, Batch(batch=[839], edge_attr=[1774, 3], edge_index=[2, 1774], ptr=[33], x=[839, 9], y=[32, 1]))\n",
            "(170, Batch(batch=[740], edge_attr=[1584, 3], edge_index=[2, 1584], ptr=[33], x=[740, 9], y=[32, 1]))\n",
            "(171, Batch(batch=[797], edge_attr=[1718, 3], edge_index=[2, 1718], ptr=[33], x=[797, 9], y=[32, 1]))\n",
            "(172, Batch(batch=[740], edge_attr=[1596, 3], edge_index=[2, 1596], ptr=[33], x=[740, 9], y=[32, 1]))\n",
            "(173, Batch(batch=[718], edge_attr=[1526, 3], edge_index=[2, 1526], ptr=[33], x=[718, 9], y=[32, 1]))\n",
            "(174, Batch(batch=[772], edge_attr=[1666, 3], edge_index=[2, 1666], ptr=[33], x=[772, 9], y=[32, 1]))\n",
            "(175, Batch(batch=[806], edge_attr=[1744, 3], edge_index=[2, 1744], ptr=[33], x=[806, 9], y=[32, 1]))\n",
            "(176, Batch(batch=[750], edge_attr=[1572, 3], edge_index=[2, 1572], ptr=[33], x=[750, 9], y=[32, 1]))\n",
            "(177, Batch(batch=[726], edge_attr=[1556, 3], edge_index=[2, 1556], ptr=[33], x=[726, 9], y=[32, 1]))\n",
            "(178, Batch(batch=[745], edge_attr=[1618, 3], edge_index=[2, 1618], ptr=[33], x=[745, 9], y=[32, 1]))\n",
            "(179, Batch(batch=[793], edge_attr=[1692, 3], edge_index=[2, 1692], ptr=[33], x=[793, 9], y=[32, 1]))\n",
            "(180, Batch(batch=[889], edge_attr=[1910, 3], edge_index=[2, 1910], ptr=[33], x=[889, 9], y=[32, 1]))\n",
            "(181, Batch(batch=[812], edge_attr=[1738, 3], edge_index=[2, 1738], ptr=[33], x=[812, 9], y=[32, 1]))\n",
            "(182, Batch(batch=[784], edge_attr=[1712, 3], edge_index=[2, 1712], ptr=[33], x=[784, 9], y=[32, 1]))\n",
            "(183, Batch(batch=[753], edge_attr=[1620, 3], edge_index=[2, 1620], ptr=[33], x=[753, 9], y=[32, 1]))\n",
            "(184, Batch(batch=[790], edge_attr=[1674, 3], edge_index=[2, 1674], ptr=[33], x=[790, 9], y=[32, 1]))\n",
            "(185, Batch(batch=[819], edge_attr=[1806, 3], edge_index=[2, 1806], ptr=[33], x=[819, 9], y=[32, 1]))\n",
            "(186, Batch(batch=[912], edge_attr=[1924, 3], edge_index=[2, 1924], ptr=[33], x=[912, 9], y=[32, 1]))\n",
            "(187, Batch(batch=[882], edge_attr=[1930, 3], edge_index=[2, 1930], ptr=[33], x=[882, 9], y=[32, 1]))\n",
            "(188, Batch(batch=[902], edge_attr=[1916, 3], edge_index=[2, 1916], ptr=[33], x=[902, 9], y=[32, 1]))\n",
            "(189, Batch(batch=[811], edge_attr=[1728, 3], edge_index=[2, 1728], ptr=[33], x=[811, 9], y=[32, 1]))\n",
            "(190, Batch(batch=[955], edge_attr=[2012, 3], edge_index=[2, 2012], ptr=[33], x=[955, 9], y=[32, 1]))\n",
            "(191, Batch(batch=[803], edge_attr=[1708, 3], edge_index=[2, 1708], ptr=[33], x=[803, 9], y=[32, 1]))\n",
            "(192, Batch(batch=[803], edge_attr=[1726, 3], edge_index=[2, 1726], ptr=[33], x=[803, 9], y=[32, 1]))\n",
            "(193, Batch(batch=[833], edge_attr=[1808, 3], edge_index=[2, 1808], ptr=[33], x=[833, 9], y=[32, 1]))\n",
            "(194, Batch(batch=[938], edge_attr=[2016, 3], edge_index=[2, 2016], ptr=[33], x=[938, 9], y=[32, 1]))\n",
            "(195, Batch(batch=[865], edge_attr=[1872, 3], edge_index=[2, 1872], ptr=[33], x=[865, 9], y=[32, 1]))\n",
            "(196, Batch(batch=[833], edge_attr=[1782, 3], edge_index=[2, 1782], ptr=[33], x=[833, 9], y=[32, 1]))\n",
            "(197, Batch(batch=[966], edge_attr=[2060, 3], edge_index=[2, 2060], ptr=[33], x=[966, 9], y=[32, 1]))\n",
            "(198, Batch(batch=[791], edge_attr=[1696, 3], edge_index=[2, 1696], ptr=[33], x=[791, 9], y=[32, 1]))\n",
            "(199, Batch(batch=[832], edge_attr=[1790, 3], edge_index=[2, 1790], ptr=[33], x=[832, 9], y=[32, 1]))\n",
            "(200, Batch(batch=[752], edge_attr=[1624, 3], edge_index=[2, 1624], ptr=[33], x=[752, 9], y=[32, 1]))\n",
            "(201, Batch(batch=[881], edge_attr=[1922, 3], edge_index=[2, 1922], ptr=[33], x=[881, 9], y=[32, 1]))\n",
            "(202, Batch(batch=[895], edge_attr=[1928, 3], edge_index=[2, 1928], ptr=[33], x=[895, 9], y=[32, 1]))\n",
            "(203, Batch(batch=[813], edge_attr=[1728, 3], edge_index=[2, 1728], ptr=[33], x=[813, 9], y=[32, 1]))\n",
            "(204, Batch(batch=[803], edge_attr=[1716, 3], edge_index=[2, 1716], ptr=[33], x=[803, 9], y=[32, 1]))\n",
            "(205, Batch(batch=[784], edge_attr=[1672, 3], edge_index=[2, 1672], ptr=[33], x=[784, 9], y=[32, 1]))\n",
            "(206, Batch(batch=[1025], edge_attr=[2188, 3], edge_index=[2, 2188], ptr=[33], x=[1025, 9], y=[32, 1]))\n",
            "(207, Batch(batch=[891], edge_attr=[1892, 3], edge_index=[2, 1892], ptr=[33], x=[891, 9], y=[32, 1]))\n",
            "(208, Batch(batch=[795], edge_attr=[1698, 3], edge_index=[2, 1698], ptr=[33], x=[795, 9], y=[32, 1]))\n",
            "(209, Batch(batch=[821], edge_attr=[1746, 3], edge_index=[2, 1746], ptr=[33], x=[821, 9], y=[32, 1]))\n",
            "(210, Batch(batch=[784], edge_attr=[1654, 3], edge_index=[2, 1654], ptr=[33], x=[784, 9], y=[32, 1]))\n",
            "(211, Batch(batch=[915], edge_attr=[1970, 3], edge_index=[2, 1970], ptr=[33], x=[915, 9], y=[32, 1]))\n",
            "(212, Batch(batch=[799], edge_attr=[1724, 3], edge_index=[2, 1724], ptr=[33], x=[799, 9], y=[32, 1]))\n",
            "(213, Batch(batch=[752], edge_attr=[1622, 3], edge_index=[2, 1622], ptr=[33], x=[752, 9], y=[32, 1]))\n",
            "(214, Batch(batch=[779], edge_attr=[1654, 3], edge_index=[2, 1654], ptr=[33], x=[779, 9], y=[32, 1]))\n",
            "(215, Batch(batch=[793], edge_attr=[1684, 3], edge_index=[2, 1684], ptr=[33], x=[793, 9], y=[32, 1]))\n",
            "(216, Batch(batch=[837], edge_attr=[1808, 3], edge_index=[2, 1808], ptr=[33], x=[837, 9], y=[32, 1]))\n",
            "(217, Batch(batch=[795], edge_attr=[1696, 3], edge_index=[2, 1696], ptr=[33], x=[795, 9], y=[32, 1]))\n",
            "(218, Batch(batch=[796], edge_attr=[1714, 3], edge_index=[2, 1714], ptr=[33], x=[796, 9], y=[32, 1]))\n",
            "(219, Batch(batch=[911], edge_attr=[1960, 3], edge_index=[2, 1960], ptr=[33], x=[911, 9], y=[32, 1]))\n",
            "(220, Batch(batch=[842], edge_attr=[1830, 3], edge_index=[2, 1830], ptr=[33], x=[842, 9], y=[32, 1]))\n",
            "(221, Batch(batch=[779], edge_attr=[1664, 3], edge_index=[2, 1664], ptr=[33], x=[779, 9], y=[32, 1]))\n",
            "(222, Batch(batch=[876], edge_attr=[1844, 3], edge_index=[2, 1844], ptr=[33], x=[876, 9], y=[32, 1]))\n",
            "(223, Batch(batch=[771], edge_attr=[1658, 3], edge_index=[2, 1658], ptr=[33], x=[771, 9], y=[32, 1]))\n",
            "(224, Batch(batch=[732], edge_attr=[1538, 3], edge_index=[2, 1538], ptr=[33], x=[732, 9], y=[32, 1]))\n",
            "(225, Batch(batch=[867], edge_attr=[1878, 3], edge_index=[2, 1878], ptr=[33], x=[867, 9], y=[32, 1]))\n",
            "(226, Batch(batch=[755], edge_attr=[1630, 3], edge_index=[2, 1630], ptr=[33], x=[755, 9], y=[32, 1]))\n",
            "(227, Batch(batch=[876], edge_attr=[1886, 3], edge_index=[2, 1886], ptr=[33], x=[876, 9], y=[32, 1]))\n",
            "(228, Batch(batch=[696], edge_attr=[1506, 3], edge_index=[2, 1506], ptr=[33], x=[696, 9], y=[32, 1]))\n",
            "(229, Batch(batch=[757], edge_attr=[1616, 3], edge_index=[2, 1616], ptr=[33], x=[757, 9], y=[32, 1]))\n",
            "(230, Batch(batch=[700], edge_attr=[1490, 3], edge_index=[2, 1490], ptr=[33], x=[700, 9], y=[32, 1]))\n",
            "(231, Batch(batch=[903], edge_attr=[1926, 3], edge_index=[2, 1926], ptr=[33], x=[903, 9], y=[32, 1]))\n",
            "(232, Batch(batch=[694], edge_attr=[1480, 3], edge_index=[2, 1480], ptr=[33], x=[694, 9], y=[32, 1]))\n",
            "(233, Batch(batch=[800], edge_attr=[1732, 3], edge_index=[2, 1732], ptr=[33], x=[800, 9], y=[32, 1]))\n",
            "(234, Batch(batch=[894], edge_attr=[1892, 3], edge_index=[2, 1892], ptr=[33], x=[894, 9], y=[32, 1]))\n",
            "(235, Batch(batch=[868], edge_attr=[1876, 3], edge_index=[2, 1876], ptr=[33], x=[868, 9], y=[32, 1]))\n",
            "(236, Batch(batch=[892], edge_attr=[1922, 3], edge_index=[2, 1922], ptr=[33], x=[892, 9], y=[32, 1]))\n",
            "(237, Batch(batch=[951], edge_attr=[2044, 3], edge_index=[2, 2044], ptr=[33], x=[951, 9], y=[32, 1]))\n",
            "(238, Batch(batch=[944], edge_attr=[2030, 3], edge_index=[2, 2030], ptr=[33], x=[944, 9], y=[32, 1]))\n",
            "(239, Batch(batch=[752], edge_attr=[1630, 3], edge_index=[2, 1630], ptr=[33], x=[752, 9], y=[32, 1]))\n",
            "(240, Batch(batch=[846], edge_attr=[1802, 3], edge_index=[2, 1802], ptr=[33], x=[846, 9], y=[32, 1]))\n",
            "(241, Batch(batch=[827], edge_attr=[1808, 3], edge_index=[2, 1808], ptr=[33], x=[827, 9], y=[32, 1]))\n",
            "(242, Batch(batch=[901], edge_attr=[1918, 3], edge_index=[2, 1918], ptr=[33], x=[901, 9], y=[32, 1]))\n",
            "(243, Batch(batch=[892], edge_attr=[1910, 3], edge_index=[2, 1910], ptr=[33], x=[892, 9], y=[32, 1]))\n",
            "(244, Batch(batch=[715], edge_attr=[1530, 3], edge_index=[2, 1530], ptr=[33], x=[715, 9], y=[32, 1]))\n",
            "(245, Batch(batch=[810], edge_attr=[1750, 3], edge_index=[2, 1750], ptr=[33], x=[810, 9], y=[32, 1]))\n",
            "(246, Batch(batch=[935], edge_attr=[2058, 3], edge_index=[2, 2058], ptr=[33], x=[935, 9], y=[32, 1]))\n",
            "(247, Batch(batch=[908], edge_attr=[1980, 3], edge_index=[2, 1980], ptr=[33], x=[908, 9], y=[32, 1]))\n",
            "(248, Batch(batch=[723], edge_attr=[1572, 3], edge_index=[2, 1572], ptr=[33], x=[723, 9], y=[32, 1]))\n",
            "(249, Batch(batch=[710], edge_attr=[1524, 3], edge_index=[2, 1524], ptr=[33], x=[710, 9], y=[32, 1]))\n",
            "(250, Batch(batch=[841], edge_attr=[1778, 3], edge_index=[2, 1778], ptr=[33], x=[841, 9], y=[32, 1]))\n",
            "(251, Batch(batch=[746], edge_attr=[1598, 3], edge_index=[2, 1598], ptr=[33], x=[746, 9], y=[32, 1]))\n",
            "(252, Batch(batch=[818], edge_attr=[1736, 3], edge_index=[2, 1736], ptr=[33], x=[818, 9], y=[32, 1]))\n",
            "(253, Batch(batch=[790], edge_attr=[1704, 3], edge_index=[2, 1704], ptr=[33], x=[790, 9], y=[32, 1]))\n",
            "(254, Batch(batch=[790], edge_attr=[1690, 3], edge_index=[2, 1690], ptr=[33], x=[790, 9], y=[32, 1]))\n",
            "(255, Batch(batch=[746], edge_attr=[1592, 3], edge_index=[2, 1592], ptr=[33], x=[746, 9], y=[32, 1]))\n",
            "(256, Batch(batch=[809], edge_attr=[1726, 3], edge_index=[2, 1726], ptr=[33], x=[809, 9], y=[32, 1]))\n",
            "(257, Batch(batch=[839], edge_attr=[1780, 3], edge_index=[2, 1780], ptr=[33], x=[839, 9], y=[32, 1]))\n",
            "(258, Batch(batch=[910], edge_attr=[1956, 3], edge_index=[2, 1956], ptr=[33], x=[910, 9], y=[32, 1]))\n",
            "(259, Batch(batch=[878], edge_attr=[1864, 3], edge_index=[2, 1864], ptr=[33], x=[878, 9], y=[32, 1]))\n",
            "(260, Batch(batch=[889], edge_attr=[1908, 3], edge_index=[2, 1908], ptr=[33], x=[889, 9], y=[32, 1]))\n",
            "(261, Batch(batch=[855], edge_attr=[1838, 3], edge_index=[2, 1838], ptr=[33], x=[855, 9], y=[32, 1]))\n",
            "(262, Batch(batch=[800], edge_attr=[1704, 3], edge_index=[2, 1704], ptr=[33], x=[800, 9], y=[32, 1]))\n",
            "(263, Batch(batch=[784], edge_attr=[1664, 3], edge_index=[2, 1664], ptr=[33], x=[784, 9], y=[32, 1]))\n",
            "(264, Batch(batch=[812], edge_attr=[1732, 3], edge_index=[2, 1732], ptr=[33], x=[812, 9], y=[32, 1]))\n",
            "(265, Batch(batch=[746], edge_attr=[1616, 3], edge_index=[2, 1616], ptr=[33], x=[746, 9], y=[32, 1]))\n",
            "(266, Batch(batch=[787], edge_attr=[1704, 3], edge_index=[2, 1704], ptr=[33], x=[787, 9], y=[32, 1]))\n",
            "(267, Batch(batch=[672], edge_attr=[1450, 3], edge_index=[2, 1450], ptr=[33], x=[672, 9], y=[32, 1]))\n",
            "(268, Batch(batch=[700], edge_attr=[1470, 3], edge_index=[2, 1470], ptr=[33], x=[700, 9], y=[32, 1]))\n",
            "(269, Batch(batch=[804], edge_attr=[1706, 3], edge_index=[2, 1706], ptr=[33], x=[804, 9], y=[32, 1]))\n",
            "(270, Batch(batch=[925], edge_attr=[1978, 3], edge_index=[2, 1978], ptr=[33], x=[925, 9], y=[32, 1]))\n",
            "(271, Batch(batch=[926], edge_attr=[1960, 3], edge_index=[2, 1960], ptr=[33], x=[926, 9], y=[32, 1]))\n",
            "(272, Batch(batch=[857], edge_attr=[1832, 3], edge_index=[2, 1832], ptr=[33], x=[857, 9], y=[32, 1]))\n",
            "(273, Batch(batch=[810], edge_attr=[1750, 3], edge_index=[2, 1750], ptr=[33], x=[810, 9], y=[32, 1]))\n",
            "(274, Batch(batch=[901], edge_attr=[1908, 3], edge_index=[2, 1908], ptr=[33], x=[901, 9], y=[32, 1]))\n",
            "(275, Batch(batch=[800], edge_attr=[1696, 3], edge_index=[2, 1696], ptr=[33], x=[800, 9], y=[32, 1]))\n",
            "(276, Batch(batch=[806], edge_attr=[1728, 3], edge_index=[2, 1728], ptr=[33], x=[806, 9], y=[32, 1]))\n",
            "(277, Batch(batch=[872], edge_attr=[1868, 3], edge_index=[2, 1868], ptr=[33], x=[872, 9], y=[32, 1]))\n",
            "(278, Batch(batch=[916], edge_attr=[1960, 3], edge_index=[2, 1960], ptr=[33], x=[916, 9], y=[32, 1]))\n",
            "(279, Batch(batch=[733], edge_attr=[1586, 3], edge_index=[2, 1586], ptr=[33], x=[733, 9], y=[32, 1]))\n",
            "(280, Batch(batch=[852], edge_attr=[1846, 3], edge_index=[2, 1846], ptr=[33], x=[852, 9], y=[32, 1]))\n",
            "(281, Batch(batch=[833], edge_attr=[1792, 3], edge_index=[2, 1792], ptr=[33], x=[833, 9], y=[32, 1]))\n",
            "(282, Batch(batch=[812], edge_attr=[1720, 3], edge_index=[2, 1720], ptr=[33], x=[812, 9], y=[32, 1]))\n",
            "(283, Batch(batch=[797], edge_attr=[1710, 3], edge_index=[2, 1710], ptr=[33], x=[797, 9], y=[32, 1]))\n",
            "(284, Batch(batch=[879], edge_attr=[1864, 3], edge_index=[2, 1864], ptr=[33], x=[879, 9], y=[32, 1]))\n",
            "(285, Batch(batch=[1006], edge_attr=[2170, 3], edge_index=[2, 2170], ptr=[33], x=[1006, 9], y=[32, 1]))\n",
            "(286, Batch(batch=[863], edge_attr=[1870, 3], edge_index=[2, 1870], ptr=[33], x=[863, 9], y=[32, 1]))\n",
            "(287, Batch(batch=[734], edge_attr=[1550, 3], edge_index=[2, 1550], ptr=[33], x=[734, 9], y=[32, 1]))\n",
            "(288, Batch(batch=[738], edge_attr=[1578, 3], edge_index=[2, 1578], ptr=[33], x=[738, 9], y=[32, 1]))\n",
            "(289, Batch(batch=[908], edge_attr=[1956, 3], edge_index=[2, 1956], ptr=[33], x=[908, 9], y=[32, 1]))\n",
            "(290, Batch(batch=[677], edge_attr=[1432, 3], edge_index=[2, 1432], ptr=[33], x=[677, 9], y=[32, 1]))\n",
            "(291, Batch(batch=[800], edge_attr=[1676, 3], edge_index=[2, 1676], ptr=[33], x=[800, 9], y=[32, 1]))\n",
            "(292, Batch(batch=[880], edge_attr=[1872, 3], edge_index=[2, 1872], ptr=[33], x=[880, 9], y=[32, 1]))\n",
            "(293, Batch(batch=[903], edge_attr=[1934, 3], edge_index=[2, 1934], ptr=[33], x=[903, 9], y=[32, 1]))\n",
            "(294, Batch(batch=[866], edge_attr=[1836, 3], edge_index=[2, 1836], ptr=[33], x=[866, 9], y=[32, 1]))\n",
            "(295, Batch(batch=[841], edge_attr=[1814, 3], edge_index=[2, 1814], ptr=[33], x=[841, 9], y=[32, 1]))\n",
            "(296, Batch(batch=[824], edge_attr=[1762, 3], edge_index=[2, 1762], ptr=[33], x=[824, 9], y=[32, 1]))\n",
            "(297, Batch(batch=[723], edge_attr=[1548, 3], edge_index=[2, 1548], ptr=[33], x=[723, 9], y=[32, 1]))\n",
            "(298, Batch(batch=[741], edge_attr=[1574, 3], edge_index=[2, 1574], ptr=[33], x=[741, 9], y=[32, 1]))\n",
            "(299, Batch(batch=[775], edge_attr=[1658, 3], edge_index=[2, 1658], ptr=[33], x=[775, 9], y=[32, 1]))\n",
            "(300, Batch(batch=[896], edge_attr=[1914, 3], edge_index=[2, 1914], ptr=[33], x=[896, 9], y=[32, 1]))\n",
            "(301, Batch(batch=[833], edge_attr=[1810, 3], edge_index=[2, 1810], ptr=[33], x=[833, 9], y=[32, 1]))\n",
            "(302, Batch(batch=[783], edge_attr=[1680, 3], edge_index=[2, 1680], ptr=[33], x=[783, 9], y=[32, 1]))\n",
            "(303, Batch(batch=[805], edge_attr=[1730, 3], edge_index=[2, 1730], ptr=[33], x=[805, 9], y=[32, 1]))\n",
            "(304, Batch(batch=[778], edge_attr=[1658, 3], edge_index=[2, 1658], ptr=[33], x=[778, 9], y=[32, 1]))\n",
            "(305, Batch(batch=[864], edge_attr=[1854, 3], edge_index=[2, 1854], ptr=[33], x=[864, 9], y=[32, 1]))\n",
            "(306, Batch(batch=[776], edge_attr=[1676, 3], edge_index=[2, 1676], ptr=[33], x=[776, 9], y=[32, 1]))\n",
            "(307, Batch(batch=[768], edge_attr=[1652, 3], edge_index=[2, 1652], ptr=[33], x=[768, 9], y=[32, 1]))\n",
            "(308, Batch(batch=[780], edge_attr=[1654, 3], edge_index=[2, 1654], ptr=[33], x=[780, 9], y=[32, 1]))\n",
            "(309, Batch(batch=[719], edge_attr=[1516, 3], edge_index=[2, 1516], ptr=[33], x=[719, 9], y=[32, 1]))\n",
            "(310, Batch(batch=[741], edge_attr=[1614, 3], edge_index=[2, 1614], ptr=[33], x=[741, 9], y=[32, 1]))\n",
            "(311, Batch(batch=[710], edge_attr=[1522, 3], edge_index=[2, 1522], ptr=[33], x=[710, 9], y=[32, 1]))\n",
            "(312, Batch(batch=[852], edge_attr=[1836, 3], edge_index=[2, 1836], ptr=[33], x=[852, 9], y=[32, 1]))\n",
            "(313, Batch(batch=[862], edge_attr=[1856, 3], edge_index=[2, 1856], ptr=[33], x=[862, 9], y=[32, 1]))\n",
            "(314, Batch(batch=[745], edge_attr=[1602, 3], edge_index=[2, 1602], ptr=[33], x=[745, 9], y=[32, 1]))\n",
            "(315, Batch(batch=[954], edge_attr=[2038, 3], edge_index=[2, 2038], ptr=[33], x=[954, 9], y=[32, 1]))\n",
            "(316, Batch(batch=[825], edge_attr=[1762, 3], edge_index=[2, 1762], ptr=[33], x=[825, 9], y=[32, 1]))\n",
            "(317, Batch(batch=[804], edge_attr=[1720, 3], edge_index=[2, 1720], ptr=[33], x=[804, 9], y=[32, 1]))\n",
            "(318, Batch(batch=[688], edge_attr=[1464, 3], edge_index=[2, 1464], ptr=[33], x=[688, 9], y=[32, 1]))\n",
            "(319, Batch(batch=[723], edge_attr=[1568, 3], edge_index=[2, 1568], ptr=[33], x=[723, 9], y=[32, 1]))\n",
            "(320, Batch(batch=[766], edge_attr=[1636, 3], edge_index=[2, 1636], ptr=[33], x=[766, 9], y=[32, 1]))\n",
            "(321, Batch(batch=[782], edge_attr=[1650, 3], edge_index=[2, 1650], ptr=[33], x=[782, 9], y=[32, 1]))\n",
            "(322, Batch(batch=[803], edge_attr=[1726, 3], edge_index=[2, 1726], ptr=[33], x=[803, 9], y=[32, 1]))\n",
            "(323, Batch(batch=[941], edge_attr=[2026, 3], edge_index=[2, 2026], ptr=[33], x=[941, 9], y=[32, 1]))\n",
            "(324, Batch(batch=[828], edge_attr=[1766, 3], edge_index=[2, 1766], ptr=[33], x=[828, 9], y=[32, 1]))\n",
            "(325, Batch(batch=[821], edge_attr=[1744, 3], edge_index=[2, 1744], ptr=[33], x=[821, 9], y=[32, 1]))\n",
            "(326, Batch(batch=[913], edge_attr=[1966, 3], edge_index=[2, 1966], ptr=[33], x=[913, 9], y=[32, 1]))\n",
            "(327, Batch(batch=[750], edge_attr=[1604, 3], edge_index=[2, 1604], ptr=[33], x=[750, 9], y=[32, 1]))\n",
            "(328, Batch(batch=[929], edge_attr=[1976, 3], edge_index=[2, 1976], ptr=[33], x=[929, 9], y=[32, 1]))\n",
            "(329, Batch(batch=[761], edge_attr=[1620, 3], edge_index=[2, 1620], ptr=[33], x=[761, 9], y=[32, 1]))\n",
            "(330, Batch(batch=[872], edge_attr=[1876, 3], edge_index=[2, 1876], ptr=[33], x=[872, 9], y=[32, 1]))\n",
            "(331, Batch(batch=[845], edge_attr=[1834, 3], edge_index=[2, 1834], ptr=[33], x=[845, 9], y=[32, 1]))\n",
            "(332, Batch(batch=[701], edge_attr=[1484, 3], edge_index=[2, 1484], ptr=[33], x=[701, 9], y=[32, 1]))\n",
            "(333, Batch(batch=[837], edge_attr=[1780, 3], edge_index=[2, 1780], ptr=[33], x=[837, 9], y=[32, 1]))\n",
            "(334, Batch(batch=[746], edge_attr=[1586, 3], edge_index=[2, 1586], ptr=[33], x=[746, 9], y=[32, 1]))\n",
            "(335, Batch(batch=[829], edge_attr=[1796, 3], edge_index=[2, 1796], ptr=[33], x=[829, 9], y=[32, 1]))\n",
            "(336, Batch(batch=[773], edge_attr=[1648, 3], edge_index=[2, 1648], ptr=[33], x=[773, 9], y=[32, 1]))\n",
            "(337, Batch(batch=[791], edge_attr=[1684, 3], edge_index=[2, 1684], ptr=[33], x=[791, 9], y=[32, 1]))\n",
            "(338, Batch(batch=[746], edge_attr=[1616, 3], edge_index=[2, 1616], ptr=[33], x=[746, 9], y=[32, 1]))\n",
            "(339, Batch(batch=[722], edge_attr=[1546, 3], edge_index=[2, 1546], ptr=[33], x=[722, 9], y=[32, 1]))\n",
            "(340, Batch(batch=[890], edge_attr=[1910, 3], edge_index=[2, 1910], ptr=[33], x=[890, 9], y=[32, 1]))\n",
            "(341, Batch(batch=[739], edge_attr=[1574, 3], edge_index=[2, 1574], ptr=[33], x=[739, 9], y=[32, 1]))\n",
            "(342, Batch(batch=[793], edge_attr=[1696, 3], edge_index=[2, 1696], ptr=[33], x=[793, 9], y=[32, 1]))\n",
            "(343, Batch(batch=[942], edge_attr=[1996, 3], edge_index=[2, 1996], ptr=[33], x=[942, 9], y=[32, 1]))\n",
            "(344, Batch(batch=[810], edge_attr=[1714, 3], edge_index=[2, 1714], ptr=[33], x=[810, 9], y=[32, 1]))\n",
            "(345, Batch(batch=[795], edge_attr=[1742, 3], edge_index=[2, 1742], ptr=[33], x=[795, 9], y=[32, 1]))\n",
            "(346, Batch(batch=[911], edge_attr=[1926, 3], edge_index=[2, 1926], ptr=[33], x=[911, 9], y=[32, 1]))\n",
            "(347, Batch(batch=[755], edge_attr=[1606, 3], edge_index=[2, 1606], ptr=[33], x=[755, 9], y=[32, 1]))\n",
            "(348, Batch(batch=[749], edge_attr=[1590, 3], edge_index=[2, 1590], ptr=[33], x=[749, 9], y=[32, 1]))\n",
            "(349, Batch(batch=[757], edge_attr=[1598, 3], edge_index=[2, 1598], ptr=[33], x=[757, 9], y=[32, 1]))\n",
            "(350, Batch(batch=[818], edge_attr=[1752, 3], edge_index=[2, 1752], ptr=[33], x=[818, 9], y=[32, 1]))\n",
            "(351, Batch(batch=[783], edge_attr=[1674, 3], edge_index=[2, 1674], ptr=[33], x=[783, 9], y=[32, 1]))\n",
            "(352, Batch(batch=[922], edge_attr=[2002, 3], edge_index=[2, 2002], ptr=[33], x=[922, 9], y=[32, 1]))\n",
            "(353, Batch(batch=[695], edge_attr=[1476, 3], edge_index=[2, 1476], ptr=[33], x=[695, 9], y=[32, 1]))\n",
            "(354, Batch(batch=[726], edge_attr=[1558, 3], edge_index=[2, 1558], ptr=[33], x=[726, 9], y=[32, 1]))\n",
            "(355, Batch(batch=[801], edge_attr=[1726, 3], edge_index=[2, 1726], ptr=[33], x=[801, 9], y=[32, 1]))\n",
            "(356, Batch(batch=[747], edge_attr=[1594, 3], edge_index=[2, 1594], ptr=[33], x=[747, 9], y=[32, 1]))\n",
            "(357, Batch(batch=[837], edge_attr=[1796, 3], edge_index=[2, 1796], ptr=[33], x=[837, 9], y=[32, 1]))\n",
            "(358, Batch(batch=[855], edge_attr=[1816, 3], edge_index=[2, 1816], ptr=[33], x=[855, 9], y=[32, 1]))\n",
            "(359, Batch(batch=[805], edge_attr=[1722, 3], edge_index=[2, 1722], ptr=[33], x=[805, 9], y=[32, 1]))\n",
            "(360, Batch(batch=[730], edge_attr=[1564, 3], edge_index=[2, 1564], ptr=[33], x=[730, 9], y=[32, 1]))\n",
            "(361, Batch(batch=[882], edge_attr=[1900, 3], edge_index=[2, 1900], ptr=[33], x=[882, 9], y=[32, 1]))\n",
            "(362, Batch(batch=[693], edge_attr=[1482, 3], edge_index=[2, 1482], ptr=[33], x=[693, 9], y=[32, 1]))\n",
            "(363, Batch(batch=[768], edge_attr=[1654, 3], edge_index=[2, 1654], ptr=[33], x=[768, 9], y=[32, 1]))\n",
            "(364, Batch(batch=[779], edge_attr=[1662, 3], edge_index=[2, 1662], ptr=[33], x=[779, 9], y=[32, 1]))\n",
            "(365, Batch(batch=[834], edge_attr=[1782, 3], edge_index=[2, 1782], ptr=[33], x=[834, 9], y=[32, 1]))\n",
            "(366, Batch(batch=[909], edge_attr=[1970, 3], edge_index=[2, 1970], ptr=[33], x=[909, 9], y=[32, 1]))\n",
            "(367, Batch(batch=[687], edge_attr=[1456, 3], edge_index=[2, 1456], ptr=[33], x=[687, 9], y=[32, 1]))\n",
            "(368, Batch(batch=[847], edge_attr=[1794, 3], edge_index=[2, 1794], ptr=[33], x=[847, 9], y=[32, 1]))\n",
            "(369, Batch(batch=[813], edge_attr=[1756, 3], edge_index=[2, 1756], ptr=[33], x=[813, 9], y=[32, 1]))\n",
            "(370, Batch(batch=[771], edge_attr=[1660, 3], edge_index=[2, 1660], ptr=[33], x=[771, 9], y=[32, 1]))\n",
            "(371, Batch(batch=[700], edge_attr=[1486, 3], edge_index=[2, 1486], ptr=[33], x=[700, 9], y=[32, 1]))\n",
            "(372, Batch(batch=[723], edge_attr=[1536, 3], edge_index=[2, 1536], ptr=[33], x=[723, 9], y=[32, 1]))\n",
            "(373, Batch(batch=[756], edge_attr=[1600, 3], edge_index=[2, 1600], ptr=[33], x=[756, 9], y=[32, 1]))\n",
            "(374, Batch(batch=[774], edge_attr=[1656, 3], edge_index=[2, 1656], ptr=[33], x=[774, 9], y=[32, 1]))\n",
            "(375, Batch(batch=[798], edge_attr=[1700, 3], edge_index=[2, 1700], ptr=[33], x=[798, 9], y=[32, 1]))\n",
            "(376, Batch(batch=[793], edge_attr=[1702, 3], edge_index=[2, 1702], ptr=[33], x=[793, 9], y=[32, 1]))\n",
            "(377, Batch(batch=[789], edge_attr=[1674, 3], edge_index=[2, 1674], ptr=[33], x=[789, 9], y=[32, 1]))\n",
            "(378, Batch(batch=[737], edge_attr=[1588, 3], edge_index=[2, 1588], ptr=[33], x=[737, 9], y=[32, 1]))\n",
            "(379, Batch(batch=[800], edge_attr=[1722, 3], edge_index=[2, 1722], ptr=[33], x=[800, 9], y=[32, 1]))\n",
            "(380, Batch(batch=[823], edge_attr=[1768, 3], edge_index=[2, 1768], ptr=[33], x=[823, 9], y=[32, 1]))\n",
            "(381, Batch(batch=[775], edge_attr=[1688, 3], edge_index=[2, 1688], ptr=[33], x=[775, 9], y=[32, 1]))\n",
            "(382, Batch(batch=[760], edge_attr=[1634, 3], edge_index=[2, 1634], ptr=[33], x=[760, 9], y=[32, 1]))\n",
            "(383, Batch(batch=[850], edge_attr=[1828, 3], edge_index=[2, 1828], ptr=[33], x=[850, 9], y=[32, 1]))\n",
            "(384, Batch(batch=[762], edge_attr=[1650, 3], edge_index=[2, 1650], ptr=[33], x=[762, 9], y=[32, 1]))\n",
            "(385, Batch(batch=[752], edge_attr=[1624, 3], edge_index=[2, 1624], ptr=[33], x=[752, 9], y=[32, 1]))\n",
            "(386, Batch(batch=[870], edge_attr=[1854, 3], edge_index=[2, 1854], ptr=[33], x=[870, 9], y=[32, 1]))\n",
            "(387, Batch(batch=[787], edge_attr=[1670, 3], edge_index=[2, 1670], ptr=[33], x=[787, 9], y=[32, 1]))\n",
            "(388, Batch(batch=[813], edge_attr=[1736, 3], edge_index=[2, 1736], ptr=[33], x=[813, 9], y=[32, 1]))\n",
            "(389, Batch(batch=[827], edge_attr=[1760, 3], edge_index=[2, 1760], ptr=[33], x=[827, 9], y=[32, 1]))\n",
            "(390, Batch(batch=[864], edge_attr=[1832, 3], edge_index=[2, 1832], ptr=[33], x=[864, 9], y=[32, 1]))\n",
            "(391, Batch(batch=[837], edge_attr=[1794, 3], edge_index=[2, 1794], ptr=[33], x=[837, 9], y=[32, 1]))\n",
            "(392, Batch(batch=[778], edge_attr=[1656, 3], edge_index=[2, 1656], ptr=[33], x=[778, 9], y=[32, 1]))\n",
            "(393, Batch(batch=[742], edge_attr=[1612, 3], edge_index=[2, 1612], ptr=[33], x=[742, 9], y=[32, 1]))\n",
            "(394, Batch(batch=[835], edge_attr=[1794, 3], edge_index=[2, 1794], ptr=[33], x=[835, 9], y=[32, 1]))\n",
            "(395, Batch(batch=[817], edge_attr=[1740, 3], edge_index=[2, 1740], ptr=[33], x=[817, 9], y=[32, 1]))\n",
            "(396, Batch(batch=[830], edge_attr=[1786, 3], edge_index=[2, 1786], ptr=[33], x=[830, 9], y=[32, 1]))\n",
            "(397, Batch(batch=[790], edge_attr=[1698, 3], edge_index=[2, 1698], ptr=[33], x=[790, 9], y=[32, 1]))\n",
            "(398, Batch(batch=[873], edge_attr=[1908, 3], edge_index=[2, 1908], ptr=[33], x=[873, 9], y=[32, 1]))\n",
            "(399, Batch(batch=[821], edge_attr=[1748, 3], edge_index=[2, 1748], ptr=[33], x=[821, 9], y=[32, 1]))\n",
            "(400, Batch(batch=[714], edge_attr=[1520, 3], edge_index=[2, 1520], ptr=[33], x=[714, 9], y=[32, 1]))\n",
            "(401, Batch(batch=[881], edge_attr=[1894, 3], edge_index=[2, 1894], ptr=[33], x=[881, 9], y=[32, 1]))\n",
            "(402, Batch(batch=[746], edge_attr=[1594, 3], edge_index=[2, 1594], ptr=[33], x=[746, 9], y=[32, 1]))\n",
            "(403, Batch(batch=[790], edge_attr=[1712, 3], edge_index=[2, 1712], ptr=[33], x=[790, 9], y=[32, 1]))\n",
            "(404, Batch(batch=[1051], edge_attr=[2258, 3], edge_index=[2, 2258], ptr=[33], x=[1051, 9], y=[32, 1]))\n",
            "(405, Batch(batch=[808], edge_attr=[1764, 3], edge_index=[2, 1764], ptr=[33], x=[808, 9], y=[32, 1]))\n",
            "(406, Batch(batch=[780], edge_attr=[1662, 3], edge_index=[2, 1662], ptr=[33], x=[780, 9], y=[32, 1]))\n",
            "(407, Batch(batch=[751], edge_attr=[1604, 3], edge_index=[2, 1604], ptr=[33], x=[751, 9], y=[32, 1]))\n",
            "(408, Batch(batch=[927], edge_attr=[1998, 3], edge_index=[2, 1998], ptr=[33], x=[927, 9], y=[32, 1]))\n",
            "(409, Batch(batch=[812], edge_attr=[1748, 3], edge_index=[2, 1748], ptr=[33], x=[812, 9], y=[32, 1]))\n",
            "(410, Batch(batch=[794], edge_attr=[1720, 3], edge_index=[2, 1720], ptr=[33], x=[794, 9], y=[32, 1]))\n",
            "(411, Batch(batch=[826], edge_attr=[1764, 3], edge_index=[2, 1764], ptr=[33], x=[826, 9], y=[32, 1]))\n",
            "(412, Batch(batch=[829], edge_attr=[1764, 3], edge_index=[2, 1764], ptr=[33], x=[829, 9], y=[32, 1]))\n",
            "(413, Batch(batch=[766], edge_attr=[1664, 3], edge_index=[2, 1664], ptr=[33], x=[766, 9], y=[32, 1]))\n",
            "(414, Batch(batch=[855], edge_attr=[1836, 3], edge_index=[2, 1836], ptr=[33], x=[855, 9], y=[32, 1]))\n",
            "(415, Batch(batch=[794], edge_attr=[1710, 3], edge_index=[2, 1710], ptr=[33], x=[794, 9], y=[32, 1]))\n",
            "(416, Batch(batch=[887], edge_attr=[1906, 3], edge_index=[2, 1906], ptr=[33], x=[887, 9], y=[32, 1]))\n",
            "(417, Batch(batch=[861], edge_attr=[1832, 3], edge_index=[2, 1832], ptr=[33], x=[861, 9], y=[32, 1]))\n",
            "(418, Batch(batch=[799], edge_attr=[1706, 3], edge_index=[2, 1706], ptr=[33], x=[799, 9], y=[32, 1]))\n",
            "(419, Batch(batch=[924], edge_attr=[1968, 3], edge_index=[2, 1968], ptr=[33], x=[924, 9], y=[32, 1]))\n",
            "(420, Batch(batch=[774], edge_attr=[1664, 3], edge_index=[2, 1664], ptr=[33], x=[774, 9], y=[32, 1]))\n",
            "(421, Batch(batch=[822], edge_attr=[1758, 3], edge_index=[2, 1758], ptr=[33], x=[822, 9], y=[32, 1]))\n",
            "(422, Batch(batch=[712], edge_attr=[1534, 3], edge_index=[2, 1534], ptr=[33], x=[712, 9], y=[32, 1]))\n",
            "(423, Batch(batch=[800], edge_attr=[1722, 3], edge_index=[2, 1722], ptr=[33], x=[800, 9], y=[32, 1]))\n",
            "(424, Batch(batch=[744], edge_attr=[1602, 3], edge_index=[2, 1602], ptr=[33], x=[744, 9], y=[32, 1]))\n",
            "(425, Batch(batch=[858], edge_attr=[1804, 3], edge_index=[2, 1804], ptr=[33], x=[858, 9], y=[32, 1]))\n",
            "(426, Batch(batch=[1089], edge_attr=[2316, 3], edge_index=[2, 2316], ptr=[33], x=[1089, 9], y=[32, 1]))\n",
            "(427, Batch(batch=[800], edge_attr=[1724, 3], edge_index=[2, 1724], ptr=[33], x=[800, 9], y=[32, 1]))\n",
            "(428, Batch(batch=[795], edge_attr=[1724, 3], edge_index=[2, 1724], ptr=[33], x=[795, 9], y=[32, 1]))\n",
            "(429, Batch(batch=[779], edge_attr=[1660, 3], edge_index=[2, 1660], ptr=[33], x=[779, 9], y=[32, 1]))\n",
            "(430, Batch(batch=[698], edge_attr=[1468, 3], edge_index=[2, 1468], ptr=[33], x=[698, 9], y=[32, 1]))\n",
            "(431, Batch(batch=[752], edge_attr=[1606, 3], edge_index=[2, 1606], ptr=[33], x=[752, 9], y=[32, 1]))\n",
            "(432, Batch(batch=[808], edge_attr=[1710, 3], edge_index=[2, 1710], ptr=[33], x=[808, 9], y=[32, 1]))\n",
            "(433, Batch(batch=[906], edge_attr=[1922, 3], edge_index=[2, 1922], ptr=[33], x=[906, 9], y=[32, 1]))\n",
            "(434, Batch(batch=[816], edge_attr=[1744, 3], edge_index=[2, 1744], ptr=[33], x=[816, 9], y=[32, 1]))\n",
            "(435, Batch(batch=[790], edge_attr=[1686, 3], edge_index=[2, 1686], ptr=[33], x=[790, 9], y=[32, 1]))\n",
            "(436, Batch(batch=[779], edge_attr=[1668, 3], edge_index=[2, 1668], ptr=[33], x=[779, 9], y=[32, 1]))\n",
            "(437, Batch(batch=[923], edge_attr=[1984, 3], edge_index=[2, 1984], ptr=[33], x=[923, 9], y=[32, 1]))\n",
            "(438, Batch(batch=[876], edge_attr=[1886, 3], edge_index=[2, 1886], ptr=[33], x=[876, 9], y=[32, 1]))\n",
            "(439, Batch(batch=[910], edge_attr=[1960, 3], edge_index=[2, 1960], ptr=[33], x=[910, 9], y=[32, 1]))\n",
            "(440, Batch(batch=[749], edge_attr=[1584, 3], edge_index=[2, 1584], ptr=[33], x=[749, 9], y=[32, 1]))\n",
            "(441, Batch(batch=[798], edge_attr=[1728, 3], edge_index=[2, 1728], ptr=[33], x=[798, 9], y=[32, 1]))\n",
            "(442, Batch(batch=[929], edge_attr=[1972, 3], edge_index=[2, 1972], ptr=[33], x=[929, 9], y=[32, 1]))\n",
            "(443, Batch(batch=[730], edge_attr=[1564, 3], edge_index=[2, 1564], ptr=[33], x=[730, 9], y=[32, 1]))\n",
            "(444, Batch(batch=[827], edge_attr=[1780, 3], edge_index=[2, 1780], ptr=[33], x=[827, 9], y=[32, 1]))\n",
            "(445, Batch(batch=[861], edge_attr=[1870, 3], edge_index=[2, 1870], ptr=[33], x=[861, 9], y=[32, 1]))\n",
            "(446, Batch(batch=[844], edge_attr=[1814, 3], edge_index=[2, 1814], ptr=[33], x=[844, 9], y=[32, 1]))\n",
            "(447, Batch(batch=[824], edge_attr=[1750, 3], edge_index=[2, 1750], ptr=[33], x=[824, 9], y=[32, 1]))\n",
            "(448, Batch(batch=[1019], edge_attr=[2242, 3], edge_index=[2, 2242], ptr=[33], x=[1019, 9], y=[32, 1]))\n",
            "(449, Batch(batch=[742], edge_attr=[1594, 3], edge_index=[2, 1594], ptr=[33], x=[742, 9], y=[32, 1]))\n",
            "(450, Batch(batch=[738], edge_attr=[1594, 3], edge_index=[2, 1594], ptr=[33], x=[738, 9], y=[32, 1]))\n",
            "(451, Batch(batch=[954], edge_attr=[2066, 3], edge_index=[2, 2066], ptr=[33], x=[954, 9], y=[32, 1]))\n",
            "(452, Batch(batch=[799], edge_attr=[1742, 3], edge_index=[2, 1742], ptr=[33], x=[799, 9], y=[32, 1]))\n",
            "(453, Batch(batch=[909], edge_attr=[1942, 3], edge_index=[2, 1942], ptr=[33], x=[909, 9], y=[32, 1]))\n",
            "(454, Batch(batch=[787], edge_attr=[1684, 3], edge_index=[2, 1684], ptr=[33], x=[787, 9], y=[32, 1]))\n",
            "(455, Batch(batch=[784], edge_attr=[1700, 3], edge_index=[2, 1700], ptr=[33], x=[784, 9], y=[32, 1]))\n",
            "(456, Batch(batch=[664], edge_attr=[1384, 3], edge_index=[2, 1384], ptr=[33], x=[664, 9], y=[32, 1]))\n",
            "(457, Batch(batch=[797], edge_attr=[1730, 3], edge_index=[2, 1730], ptr=[33], x=[797, 9], y=[32, 1]))\n",
            "(458, Batch(batch=[959], edge_attr=[2038, 3], edge_index=[2, 2038], ptr=[33], x=[959, 9], y=[32, 1]))\n",
            "(459, Batch(batch=[725], edge_attr=[1560, 3], edge_index=[2, 1560], ptr=[33], x=[725, 9], y=[32, 1]))\n",
            "(460, Batch(batch=[825], edge_attr=[1766, 3], edge_index=[2, 1766], ptr=[33], x=[825, 9], y=[32, 1]))\n",
            "(461, Batch(batch=[823], edge_attr=[1762, 3], edge_index=[2, 1762], ptr=[33], x=[823, 9], y=[32, 1]))\n",
            "(462, Batch(batch=[768], edge_attr=[1636, 3], edge_index=[2, 1636], ptr=[33], x=[768, 9], y=[32, 1]))\n",
            "(463, Batch(batch=[839], edge_attr=[1808, 3], edge_index=[2, 1808], ptr=[33], x=[839, 9], y=[32, 1]))\n",
            "(464, Batch(batch=[830], edge_attr=[1780, 3], edge_index=[2, 1780], ptr=[33], x=[830, 9], y=[32, 1]))\n",
            "(465, Batch(batch=[768], edge_attr=[1648, 3], edge_index=[2, 1648], ptr=[33], x=[768, 9], y=[32, 1]))\n",
            "(466, Batch(batch=[839], edge_attr=[1812, 3], edge_index=[2, 1812], ptr=[33], x=[839, 9], y=[32, 1]))\n",
            "(467, Batch(batch=[692], edge_attr=[1484, 3], edge_index=[2, 1484], ptr=[33], x=[692, 9], y=[32, 1]))\n",
            "(468, Batch(batch=[797], edge_attr=[1718, 3], edge_index=[2, 1718], ptr=[33], x=[797, 9], y=[32, 1]))\n",
            "(469, Batch(batch=[833], edge_attr=[1798, 3], edge_index=[2, 1798], ptr=[33], x=[833, 9], y=[32, 1]))\n",
            "(470, Batch(batch=[770], edge_attr=[1646, 3], edge_index=[2, 1646], ptr=[33], x=[770, 9], y=[32, 1]))\n",
            "(471, Batch(batch=[845], edge_attr=[1798, 3], edge_index=[2, 1798], ptr=[33], x=[845, 9], y=[32, 1]))\n",
            "(472, Batch(batch=[794], edge_attr=[1710, 3], edge_index=[2, 1710], ptr=[33], x=[794, 9], y=[32, 1]))\n",
            "(473, Batch(batch=[751], edge_attr=[1604, 3], edge_index=[2, 1604], ptr=[33], x=[751, 9], y=[32, 1]))\n",
            "(474, Batch(batch=[703], edge_attr=[1496, 3], edge_index=[2, 1496], ptr=[33], x=[703, 9], y=[32, 1]))\n",
            "(475, Batch(batch=[800], edge_attr=[1728, 3], edge_index=[2, 1728], ptr=[33], x=[800, 9], y=[32, 1]))\n",
            "(476, Batch(batch=[711], edge_attr=[1506, 3], edge_index=[2, 1506], ptr=[33], x=[711, 9], y=[32, 1]))\n",
            "(477, Batch(batch=[741], edge_attr=[1586, 3], edge_index=[2, 1586], ptr=[33], x=[741, 9], y=[32, 1]))\n",
            "(478, Batch(batch=[737], edge_attr=[1584, 3], edge_index=[2, 1584], ptr=[33], x=[737, 9], y=[32, 1]))\n",
            "(479, Batch(batch=[752], edge_attr=[1606, 3], edge_index=[2, 1606], ptr=[33], x=[752, 9], y=[32, 1]))\n",
            "(480, Batch(batch=[928], edge_attr=[1978, 3], edge_index=[2, 1978], ptr=[33], x=[928, 9], y=[32, 1]))\n",
            "(481, Batch(batch=[718], edge_attr=[1540, 3], edge_index=[2, 1540], ptr=[33], x=[718, 9], y=[32, 1]))\n",
            "(482, Batch(batch=[753], edge_attr=[1614, 3], edge_index=[2, 1614], ptr=[33], x=[753, 9], y=[32, 1]))\n",
            "(483, Batch(batch=[742], edge_attr=[1572, 3], edge_index=[2, 1572], ptr=[33], x=[742, 9], y=[32, 1]))\n",
            "(484, Batch(batch=[717], edge_attr=[1522, 3], edge_index=[2, 1522], ptr=[33], x=[717, 9], y=[32, 1]))\n",
            "(485, Batch(batch=[786], edge_attr=[1696, 3], edge_index=[2, 1696], ptr=[33], x=[786, 9], y=[32, 1]))\n",
            "(486, Batch(batch=[783], edge_attr=[1674, 3], edge_index=[2, 1674], ptr=[33], x=[783, 9], y=[32, 1]))\n",
            "(487, Batch(batch=[848], edge_attr=[1834, 3], edge_index=[2, 1834], ptr=[33], x=[848, 9], y=[32, 1]))\n",
            "(488, Batch(batch=[868], edge_attr=[1860, 3], edge_index=[2, 1860], ptr=[33], x=[868, 9], y=[32, 1]))\n",
            "(489, Batch(batch=[827], edge_attr=[1768, 3], edge_index=[2, 1768], ptr=[33], x=[827, 9], y=[32, 1]))\n",
            "(490, Batch(batch=[902], edge_attr=[1938, 3], edge_index=[2, 1938], ptr=[33], x=[902, 9], y=[32, 1]))\n",
            "(491, Batch(batch=[761], edge_attr=[1644, 3], edge_index=[2, 1644], ptr=[33], x=[761, 9], y=[32, 1]))\n",
            "(492, Batch(batch=[664], edge_attr=[1408, 3], edge_index=[2, 1408], ptr=[33], x=[664, 9], y=[32, 1]))\n",
            "(493, Batch(batch=[791], edge_attr=[1680, 3], edge_index=[2, 1680], ptr=[33], x=[791, 9], y=[32, 1]))\n",
            "(494, Batch(batch=[761], edge_attr=[1638, 3], edge_index=[2, 1638], ptr=[33], x=[761, 9], y=[32, 1]))\n",
            "(495, Batch(batch=[850], edge_attr=[1854, 3], edge_index=[2, 1854], ptr=[33], x=[850, 9], y=[32, 1]))\n",
            "(496, Batch(batch=[763], edge_attr=[1638, 3], edge_index=[2, 1638], ptr=[33], x=[763, 9], y=[32, 1]))\n",
            "(497, Batch(batch=[795], edge_attr=[1686, 3], edge_index=[2, 1686], ptr=[33], x=[795, 9], y=[32, 1]))\n",
            "(498, Batch(batch=[831], edge_attr=[1792, 3], edge_index=[2, 1792], ptr=[33], x=[831, 9], y=[32, 1]))\n",
            "(499, Batch(batch=[731], edge_attr=[1574, 3], edge_index=[2, 1574], ptr=[33], x=[731, 9], y=[32, 1]))\n",
            "(500, Batch(batch=[910], edge_attr=[1972, 3], edge_index=[2, 1972], ptr=[33], x=[910, 9], y=[32, 1]))\n",
            "(501, Batch(batch=[804], edge_attr=[1726, 3], edge_index=[2, 1726], ptr=[33], x=[804, 9], y=[32, 1]))\n",
            "(502, Batch(batch=[891], edge_attr=[1904, 3], edge_index=[2, 1904], ptr=[33], x=[891, 9], y=[32, 1]))\n",
            "(503, Batch(batch=[848], edge_attr=[1812, 3], edge_index=[2, 1812], ptr=[33], x=[848, 9], y=[32, 1]))\n",
            "(504, Batch(batch=[701], edge_attr=[1478, 3], edge_index=[2, 1478], ptr=[33], x=[701, 9], y=[32, 1]))\n",
            "(505, Batch(batch=[786], edge_attr=[1672, 3], edge_index=[2, 1672], ptr=[33], x=[786, 9], y=[32, 1]))\n",
            "(506, Batch(batch=[890], edge_attr=[1886, 3], edge_index=[2, 1886], ptr=[33], x=[890, 9], y=[32, 1]))\n",
            "(507, Batch(batch=[764], edge_attr=[1630, 3], edge_index=[2, 1630], ptr=[33], x=[764, 9], y=[32, 1]))\n",
            "(508, Batch(batch=[812], edge_attr=[1754, 3], edge_index=[2, 1754], ptr=[33], x=[812, 9], y=[32, 1]))\n",
            "(509, Batch(batch=[874], edge_attr=[1882, 3], edge_index=[2, 1882], ptr=[33], x=[874, 9], y=[32, 1]))\n",
            "(510, Batch(batch=[827], edge_attr=[1758, 3], edge_index=[2, 1758], ptr=[33], x=[827, 9], y=[32, 1]))\n",
            "(511, Batch(batch=[751], edge_attr=[1586, 3], edge_index=[2, 1586], ptr=[33], x=[751, 9], y=[32, 1]))\n",
            "(512, Batch(batch=[811], edge_attr=[1740, 3], edge_index=[2, 1740], ptr=[33], x=[811, 9], y=[32, 1]))\n",
            "(513, Batch(batch=[805], edge_attr=[1720, 3], edge_index=[2, 1720], ptr=[33], x=[805, 9], y=[32, 1]))\n",
            "(514, Batch(batch=[734], edge_attr=[1574, 3], edge_index=[2, 1574], ptr=[33], x=[734, 9], y=[32, 1]))\n",
            "(515, Batch(batch=[776], edge_attr=[1654, 3], edge_index=[2, 1654], ptr=[33], x=[776, 9], y=[32, 1]))\n",
            "(516, Batch(batch=[766], edge_attr=[1622, 3], edge_index=[2, 1622], ptr=[33], x=[766, 9], y=[32, 1]))\n",
            "(517, Batch(batch=[790], edge_attr=[1696, 3], edge_index=[2, 1696], ptr=[33], x=[790, 9], y=[32, 1]))\n",
            "(518, Batch(batch=[816], edge_attr=[1768, 3], edge_index=[2, 1768], ptr=[33], x=[816, 9], y=[32, 1]))\n",
            "(519, Batch(batch=[993], edge_attr=[2094, 3], edge_index=[2, 2094], ptr=[33], x=[993, 9], y=[32, 1]))\n",
            "(520, Batch(batch=[717], edge_attr=[1556, 3], edge_index=[2, 1556], ptr=[33], x=[717, 9], y=[32, 1]))\n",
            "(521, Batch(batch=[757], edge_attr=[1648, 3], edge_index=[2, 1648], ptr=[33], x=[757, 9], y=[32, 1]))\n",
            "(522, Batch(batch=[828], edge_attr=[1780, 3], edge_index=[2, 1780], ptr=[33], x=[828, 9], y=[32, 1]))\n",
            "(523, Batch(batch=[811], edge_attr=[1732, 3], edge_index=[2, 1732], ptr=[33], x=[811, 9], y=[32, 1]))\n",
            "(524, Batch(batch=[781], edge_attr=[1708, 3], edge_index=[2, 1708], ptr=[33], x=[781, 9], y=[32, 1]))\n",
            "(525, Batch(batch=[886], edge_attr=[1892, 3], edge_index=[2, 1892], ptr=[33], x=[886, 9], y=[32, 1]))\n",
            "(526, Batch(batch=[793], edge_attr=[1702, 3], edge_index=[2, 1702], ptr=[33], x=[793, 9], y=[32, 1]))\n",
            "(527, Batch(batch=[795], edge_attr=[1720, 3], edge_index=[2, 1720], ptr=[33], x=[795, 9], y=[32, 1]))\n",
            "(528, Batch(batch=[813], edge_attr=[1764, 3], edge_index=[2, 1764], ptr=[33], x=[813, 9], y=[32, 1]))\n",
            "(529, Batch(batch=[733], edge_attr=[1578, 3], edge_index=[2, 1578], ptr=[33], x=[733, 9], y=[32, 1]))\n",
            "(530, Batch(batch=[793], edge_attr=[1698, 3], edge_index=[2, 1698], ptr=[33], x=[793, 9], y=[32, 1]))\n",
            "(531, Batch(batch=[835], edge_attr=[1786, 3], edge_index=[2, 1786], ptr=[33], x=[835, 9], y=[32, 1]))\n",
            "(532, Batch(batch=[774], edge_attr=[1690, 3], edge_index=[2, 1690], ptr=[33], x=[774, 9], y=[32, 1]))\n",
            "(533, Batch(batch=[788], edge_attr=[1702, 3], edge_index=[2, 1702], ptr=[33], x=[788, 9], y=[32, 1]))\n",
            "(534, Batch(batch=[723], edge_attr=[1574, 3], edge_index=[2, 1574], ptr=[33], x=[723, 9], y=[32, 1]))\n",
            "(535, Batch(batch=[848], edge_attr=[1816, 3], edge_index=[2, 1816], ptr=[33], x=[848, 9], y=[32, 1]))\n",
            "(536, Batch(batch=[765], edge_attr=[1654, 3], edge_index=[2, 1654], ptr=[33], x=[765, 9], y=[32, 1]))\n",
            "(537, Batch(batch=[729], edge_attr=[1558, 3], edge_index=[2, 1558], ptr=[33], x=[729, 9], y=[32, 1]))\n",
            "(538, Batch(batch=[840], edge_attr=[1774, 3], edge_index=[2, 1774], ptr=[33], x=[840, 9], y=[32, 1]))\n",
            "(539, Batch(batch=[822], edge_attr=[1768, 3], edge_index=[2, 1768], ptr=[33], x=[822, 9], y=[32, 1]))\n",
            "(540, Batch(batch=[717], edge_attr=[1546, 3], edge_index=[2, 1546], ptr=[33], x=[717, 9], y=[32, 1]))\n",
            "(541, Batch(batch=[773], edge_attr=[1640, 3], edge_index=[2, 1640], ptr=[33], x=[773, 9], y=[32, 1]))\n",
            "(542, Batch(batch=[852], edge_attr=[1810, 3], edge_index=[2, 1810], ptr=[33], x=[852, 9], y=[32, 1]))\n",
            "(543, Batch(batch=[752], edge_attr=[1612, 3], edge_index=[2, 1612], ptr=[33], x=[752, 9], y=[32, 1]))\n",
            "(544, Batch(batch=[811], edge_attr=[1766, 3], edge_index=[2, 1766], ptr=[33], x=[811, 9], y=[32, 1]))\n",
            "(545, Batch(batch=[855], edge_attr=[1862, 3], edge_index=[2, 1862], ptr=[33], x=[855, 9], y=[32, 1]))\n",
            "(546, Batch(batch=[786], edge_attr=[1664, 3], edge_index=[2, 1664], ptr=[33], x=[786, 9], y=[32, 1]))\n",
            "(547, Batch(batch=[708], edge_attr=[1514, 3], edge_index=[2, 1514], ptr=[33], x=[708, 9], y=[32, 1]))\n",
            "(548, Batch(batch=[758], edge_attr=[1638, 3], edge_index=[2, 1638], ptr=[33], x=[758, 9], y=[32, 1]))\n",
            "(549, Batch(batch=[757], edge_attr=[1634, 3], edge_index=[2, 1634], ptr=[33], x=[757, 9], y=[32, 1]))\n",
            "(550, Batch(batch=[753], edge_attr=[1592, 3], edge_index=[2, 1592], ptr=[33], x=[753, 9], y=[32, 1]))\n",
            "(551, Batch(batch=[787], edge_attr=[1680, 3], edge_index=[2, 1680], ptr=[33], x=[787, 9], y=[32, 1]))\n",
            "(552, Batch(batch=[812], edge_attr=[1736, 3], edge_index=[2, 1736], ptr=[33], x=[812, 9], y=[32, 1]))\n",
            "(553, Batch(batch=[832], edge_attr=[1754, 3], edge_index=[2, 1754], ptr=[33], x=[832, 9], y=[32, 1]))\n",
            "(554, Batch(batch=[859], edge_attr=[1834, 3], edge_index=[2, 1834], ptr=[33], x=[859, 9], y=[32, 1]))\n",
            "(555, Batch(batch=[896], edge_attr=[1900, 3], edge_index=[2, 1900], ptr=[33], x=[896, 9], y=[32, 1]))\n",
            "(556, Batch(batch=[828], edge_attr=[1800, 3], edge_index=[2, 1800], ptr=[33], x=[828, 9], y=[32, 1]))\n",
            "(557, Batch(batch=[743], edge_attr=[1578, 3], edge_index=[2, 1578], ptr=[33], x=[743, 9], y=[32, 1]))\n",
            "(558, Batch(batch=[781], edge_attr=[1678, 3], edge_index=[2, 1678], ptr=[33], x=[781, 9], y=[32, 1]))\n",
            "(559, Batch(batch=[746], edge_attr=[1594, 3], edge_index=[2, 1594], ptr=[33], x=[746, 9], y=[32, 1]))\n",
            "(560, Batch(batch=[790], edge_attr=[1684, 3], edge_index=[2, 1684], ptr=[33], x=[790, 9], y=[32, 1]))\n",
            "(561, Batch(batch=[861], edge_attr=[1836, 3], edge_index=[2, 1836], ptr=[33], x=[861, 9], y=[32, 1]))\n",
            "(562, Batch(batch=[869], edge_attr=[1876, 3], edge_index=[2, 1876], ptr=[33], x=[869, 9], y=[32, 1]))\n",
            "(563, Batch(batch=[861], edge_attr=[1832, 3], edge_index=[2, 1832], ptr=[33], x=[861, 9], y=[32, 1]))\n",
            "(564, Batch(batch=[680], edge_attr=[1434, 3], edge_index=[2, 1434], ptr=[33], x=[680, 9], y=[32, 1]))\n",
            "(565, Batch(batch=[734], edge_attr=[1570, 3], edge_index=[2, 1570], ptr=[33], x=[734, 9], y=[32, 1]))\n",
            "(566, Batch(batch=[785], edge_attr=[1670, 3], edge_index=[2, 1670], ptr=[33], x=[785, 9], y=[32, 1]))\n",
            "(567, Batch(batch=[739], edge_attr=[1570, 3], edge_index=[2, 1570], ptr=[33], x=[739, 9], y=[32, 1]))\n",
            "(568, Batch(batch=[685], edge_attr=[1450, 3], edge_index=[2, 1450], ptr=[33], x=[685, 9], y=[32, 1]))\n",
            "(569, Batch(batch=[812], edge_attr=[1720, 3], edge_index=[2, 1720], ptr=[33], x=[812, 9], y=[32, 1]))\n",
            "(570, Batch(batch=[865], edge_attr=[1820, 3], edge_index=[2, 1820], ptr=[33], x=[865, 9], y=[32, 1]))\n",
            "(571, Batch(batch=[760], edge_attr=[1616, 3], edge_index=[2, 1616], ptr=[33], x=[760, 9], y=[32, 1]))\n",
            "(572, Batch(batch=[818], edge_attr=[1766, 3], edge_index=[2, 1766], ptr=[33], x=[818, 9], y=[32, 1]))\n",
            "(573, Batch(batch=[898], edge_attr=[1938, 3], edge_index=[2, 1938], ptr=[33], x=[898, 9], y=[32, 1]))\n",
            "(574, Batch(batch=[769], edge_attr=[1636, 3], edge_index=[2, 1636], ptr=[33], x=[769, 9], y=[32, 1]))\n",
            "(575, Batch(batch=[870], edge_attr=[1882, 3], edge_index=[2, 1882], ptr=[33], x=[870, 9], y=[32, 1]))\n",
            "(576, Batch(batch=[797], edge_attr=[1722, 3], edge_index=[2, 1722], ptr=[33], x=[797, 9], y=[32, 1]))\n",
            "(577, Batch(batch=[719], edge_attr=[1522, 3], edge_index=[2, 1522], ptr=[33], x=[719, 9], y=[32, 1]))\n",
            "(578, Batch(batch=[704], edge_attr=[1488, 3], edge_index=[2, 1488], ptr=[33], x=[704, 9], y=[32, 1]))\n",
            "(579, Batch(batch=[827], edge_attr=[1740, 3], edge_index=[2, 1740], ptr=[33], x=[827, 9], y=[32, 1]))\n",
            "(580, Batch(batch=[786], edge_attr=[1662, 3], edge_index=[2, 1662], ptr=[33], x=[786, 9], y=[32, 1]))\n",
            "(581, Batch(batch=[727], edge_attr=[1574, 3], edge_index=[2, 1574], ptr=[33], x=[727, 9], y=[32, 1]))\n",
            "(582, Batch(batch=[709], edge_attr=[1522, 3], edge_index=[2, 1522], ptr=[33], x=[709, 9], y=[32, 1]))\n",
            "(583, Batch(batch=[865], edge_attr=[1890, 3], edge_index=[2, 1890], ptr=[33], x=[865, 9], y=[32, 1]))\n",
            "(584, Batch(batch=[914], edge_attr=[1934, 3], edge_index=[2, 1934], ptr=[33], x=[914, 9], y=[32, 1]))\n",
            "(585, Batch(batch=[755], edge_attr=[1606, 3], edge_index=[2, 1606], ptr=[33], x=[755, 9], y=[32, 1]))\n",
            "(586, Batch(batch=[736], edge_attr=[1574, 3], edge_index=[2, 1574], ptr=[33], x=[736, 9], y=[32, 1]))\n",
            "(587, Batch(batch=[899], edge_attr=[1940, 3], edge_index=[2, 1940], ptr=[33], x=[899, 9], y=[32, 1]))\n",
            "(588, Batch(batch=[870], edge_attr=[1866, 3], edge_index=[2, 1866], ptr=[33], x=[870, 9], y=[32, 1]))\n",
            "(589, Batch(batch=[805], edge_attr=[1742, 3], edge_index=[2, 1742], ptr=[33], x=[805, 9], y=[32, 1]))\n",
            "(590, Batch(batch=[778], edge_attr=[1678, 3], edge_index=[2, 1678], ptr=[33], x=[778, 9], y=[32, 1]))\n",
            "(591, Batch(batch=[855], edge_attr=[1810, 3], edge_index=[2, 1810], ptr=[33], x=[855, 9], y=[32, 1]))\n",
            "(592, Batch(batch=[707], edge_attr=[1514, 3], edge_index=[2, 1514], ptr=[33], x=[707, 9], y=[32, 1]))\n",
            "(593, Batch(batch=[886], edge_attr=[1910, 3], edge_index=[2, 1910], ptr=[33], x=[886, 9], y=[32, 1]))\n",
            "(594, Batch(batch=[861], edge_attr=[1854, 3], edge_index=[2, 1854], ptr=[33], x=[861, 9], y=[32, 1]))\n",
            "(595, Batch(batch=[802], edge_attr=[1710, 3], edge_index=[2, 1710], ptr=[33], x=[802, 9], y=[32, 1]))\n",
            "(596, Batch(batch=[875], edge_attr=[1868, 3], edge_index=[2, 1868], ptr=[33], x=[875, 9], y=[32, 1]))\n",
            "(597, Batch(batch=[759], edge_attr=[1624, 3], edge_index=[2, 1624], ptr=[33], x=[759, 9], y=[32, 1]))\n",
            "(598, Batch(batch=[799], edge_attr=[1700, 3], edge_index=[2, 1700], ptr=[33], x=[799, 9], y=[32, 1]))\n",
            "(599, Batch(batch=[885], edge_attr=[1906, 3], edge_index=[2, 1906], ptr=[33], x=[885, 9], y=[32, 1]))\n",
            "(600, Batch(batch=[856], edge_attr=[1826, 3], edge_index=[2, 1826], ptr=[33], x=[856, 9], y=[32, 1]))\n",
            "(601, Batch(batch=[826], edge_attr=[1776, 3], edge_index=[2, 1776], ptr=[33], x=[826, 9], y=[32, 1]))\n",
            "(602, Batch(batch=[882], edge_attr=[1918, 3], edge_index=[2, 1918], ptr=[33], x=[882, 9], y=[32, 1]))\n",
            "(603, Batch(batch=[766], edge_attr=[1646, 3], edge_index=[2, 1646], ptr=[33], x=[766, 9], y=[32, 1]))\n",
            "(604, Batch(batch=[712], edge_attr=[1514, 3], edge_index=[2, 1514], ptr=[33], x=[712, 9], y=[32, 1]))\n",
            "(605, Batch(batch=[740], edge_attr=[1562, 3], edge_index=[2, 1562], ptr=[33], x=[740, 9], y=[32, 1]))\n",
            "(606, Batch(batch=[762], edge_attr=[1630, 3], edge_index=[2, 1630], ptr=[33], x=[762, 9], y=[32, 1]))\n",
            "(607, Batch(batch=[864], edge_attr=[1862, 3], edge_index=[2, 1862], ptr=[33], x=[864, 9], y=[32, 1]))\n",
            "(608, Batch(batch=[831], edge_attr=[1782, 3], edge_index=[2, 1782], ptr=[33], x=[831, 9], y=[32, 1]))\n",
            "(609, Batch(batch=[842], edge_attr=[1794, 3], edge_index=[2, 1794], ptr=[33], x=[842, 9], y=[32, 1]))\n",
            "(610, Batch(batch=[700], edge_attr=[1526, 3], edge_index=[2, 1526], ptr=[33], x=[700, 9], y=[32, 1]))\n",
            "(611, Batch(batch=[900], edge_attr=[1910, 3], edge_index=[2, 1910], ptr=[33], x=[900, 9], y=[32, 1]))\n",
            "(612, Batch(batch=[864], edge_attr=[1860, 3], edge_index=[2, 1860], ptr=[33], x=[864, 9], y=[32, 1]))\n",
            "(613, Batch(batch=[973], edge_attr=[2084, 3], edge_index=[2, 2084], ptr=[33], x=[973, 9], y=[32, 1]))\n",
            "(614, Batch(batch=[863], edge_attr=[1830, 3], edge_index=[2, 1830], ptr=[33], x=[863, 9], y=[32, 1]))\n",
            "(615, Batch(batch=[790], edge_attr=[1694, 3], edge_index=[2, 1694], ptr=[33], x=[790, 9], y=[32, 1]))\n",
            "(616, Batch(batch=[828], edge_attr=[1750, 3], edge_index=[2, 1750], ptr=[33], x=[828, 9], y=[32, 1]))\n",
            "(617, Batch(batch=[799], edge_attr=[1718, 3], edge_index=[2, 1718], ptr=[33], x=[799, 9], y=[32, 1]))\n",
            "(618, Batch(batch=[722], edge_attr=[1546, 3], edge_index=[2, 1546], ptr=[33], x=[722, 9], y=[32, 1]))\n",
            "(619, Batch(batch=[806], edge_attr=[1714, 3], edge_index=[2, 1714], ptr=[33], x=[806, 9], y=[32, 1]))\n",
            "(620, Batch(batch=[751], edge_attr=[1606, 3], edge_index=[2, 1606], ptr=[33], x=[751, 9], y=[32, 1]))\n",
            "(621, Batch(batch=[936], edge_attr=[1992, 3], edge_index=[2, 1992], ptr=[33], x=[936, 9], y=[32, 1]))\n",
            "(622, Batch(batch=[781], edge_attr=[1680, 3], edge_index=[2, 1680], ptr=[33], x=[781, 9], y=[32, 1]))\n",
            "(623, Batch(batch=[746], edge_attr=[1610, 3], edge_index=[2, 1610], ptr=[33], x=[746, 9], y=[32, 1]))\n",
            "(624, Batch(batch=[759], edge_attr=[1626, 3], edge_index=[2, 1626], ptr=[33], x=[759, 9], y=[32, 1]))\n",
            "(625, Batch(batch=[747], edge_attr=[1618, 3], edge_index=[2, 1618], ptr=[33], x=[747, 9], y=[32, 1]))\n",
            "(626, Batch(batch=[767], edge_attr=[1648, 3], edge_index=[2, 1648], ptr=[33], x=[767, 9], y=[32, 1]))\n",
            "(627, Batch(batch=[864], edge_attr=[1844, 3], edge_index=[2, 1844], ptr=[33], x=[864, 9], y=[32, 1]))\n",
            "(628, Batch(batch=[741], edge_attr=[1578, 3], edge_index=[2, 1578], ptr=[33], x=[741, 9], y=[32, 1]))\n",
            "(629, Batch(batch=[805], edge_attr=[1720, 3], edge_index=[2, 1720], ptr=[33], x=[805, 9], y=[32, 1]))\n",
            "(630, Batch(batch=[883], edge_attr=[1892, 3], edge_index=[2, 1892], ptr=[33], x=[883, 9], y=[32, 1]))\n",
            "(631, Batch(batch=[794], edge_attr=[1702, 3], edge_index=[2, 1702], ptr=[33], x=[794, 9], y=[32, 1]))\n",
            "(632, Batch(batch=[836], edge_attr=[1800, 3], edge_index=[2, 1800], ptr=[33], x=[836, 9], y=[32, 1]))\n",
            "(633, Batch(batch=[805], edge_attr=[1750, 3], edge_index=[2, 1750], ptr=[33], x=[805, 9], y=[32, 1]))\n",
            "(634, Batch(batch=[935], edge_attr=[1976, 3], edge_index=[2, 1976], ptr=[33], x=[935, 9], y=[32, 1]))\n",
            "(635, Batch(batch=[792], edge_attr=[1684, 3], edge_index=[2, 1684], ptr=[33], x=[792, 9], y=[32, 1]))\n",
            "(636, Batch(batch=[906], edge_attr=[1952, 3], edge_index=[2, 1952], ptr=[33], x=[906, 9], y=[32, 1]))\n",
            "(637, Batch(batch=[742], edge_attr=[1572, 3], edge_index=[2, 1572], ptr=[33], x=[742, 9], y=[32, 1]))\n",
            "(638, Batch(batch=[768], edge_attr=[1646, 3], edge_index=[2, 1646], ptr=[33], x=[768, 9], y=[32, 1]))\n",
            "(639, Batch(batch=[851], edge_attr=[1828, 3], edge_index=[2, 1828], ptr=[33], x=[851, 9], y=[32, 1]))\n",
            "(640, Batch(batch=[810], edge_attr=[1752, 3], edge_index=[2, 1752], ptr=[33], x=[810, 9], y=[32, 1]))\n",
            "(641, Batch(batch=[809], edge_attr=[1748, 3], edge_index=[2, 1748], ptr=[33], x=[809, 9], y=[32, 1]))\n",
            "(642, Batch(batch=[803], edge_attr=[1704, 3], edge_index=[2, 1704], ptr=[33], x=[803, 9], y=[32, 1]))\n",
            "(643, Batch(batch=[1011], edge_attr=[2184, 3], edge_index=[2, 2184], ptr=[33], x=[1011, 9], y=[32, 1]))\n",
            "(644, Batch(batch=[826], edge_attr=[1780, 3], edge_index=[2, 1780], ptr=[33], x=[826, 9], y=[32, 1]))\n",
            "(645, Batch(batch=[688], edge_attr=[1482, 3], edge_index=[2, 1482], ptr=[33], x=[688, 9], y=[32, 1]))\n",
            "(646, Batch(batch=[875], edge_attr=[1906, 3], edge_index=[2, 1906], ptr=[33], x=[875, 9], y=[32, 1]))\n",
            "(647, Batch(batch=[763], edge_attr=[1642, 3], edge_index=[2, 1642], ptr=[33], x=[763, 9], y=[32, 1]))\n",
            "(648, Batch(batch=[833], edge_attr=[1788, 3], edge_index=[2, 1788], ptr=[33], x=[833, 9], y=[32, 1]))\n",
            "(649, Batch(batch=[775], edge_attr=[1642, 3], edge_index=[2, 1642], ptr=[33], x=[775, 9], y=[32, 1]))\n",
            "(650, Batch(batch=[763], edge_attr=[1648, 3], edge_index=[2, 1648], ptr=[33], x=[763, 9], y=[32, 1]))\n",
            "(651, Batch(batch=[757], edge_attr=[1630, 3], edge_index=[2, 1630], ptr=[33], x=[757, 9], y=[32, 1]))\n",
            "(652, Batch(batch=[718], edge_attr=[1536, 3], edge_index=[2, 1536], ptr=[33], x=[718, 9], y=[32, 1]))\n",
            "(653, Batch(batch=[801], edge_attr=[1712, 3], edge_index=[2, 1712], ptr=[33], x=[801, 9], y=[32, 1]))\n",
            "(654, Batch(batch=[869], edge_attr=[1852, 3], edge_index=[2, 1852], ptr=[33], x=[869, 9], y=[32, 1]))\n",
            "(655, Batch(batch=[686], edge_attr=[1466, 3], edge_index=[2, 1466], ptr=[33], x=[686, 9], y=[32, 1]))\n",
            "(656, Batch(batch=[705], edge_attr=[1522, 3], edge_index=[2, 1522], ptr=[33], x=[705, 9], y=[32, 1]))\n",
            "(657, Batch(batch=[851], edge_attr=[1844, 3], edge_index=[2, 1844], ptr=[33], x=[851, 9], y=[32, 1]))\n",
            "(658, Batch(batch=[668], edge_attr=[1440, 3], edge_index=[2, 1440], ptr=[33], x=[668, 9], y=[32, 1]))\n",
            "(659, Batch(batch=[813], edge_attr=[1770, 3], edge_index=[2, 1770], ptr=[33], x=[813, 9], y=[32, 1]))\n",
            "(660, Batch(batch=[845], edge_attr=[1794, 3], edge_index=[2, 1794], ptr=[33], x=[845, 9], y=[32, 1]))\n",
            "(661, Batch(batch=[776], edge_attr=[1682, 3], edge_index=[2, 1682], ptr=[33], x=[776, 9], y=[32, 1]))\n",
            "(662, Batch(batch=[710], edge_attr=[1514, 3], edge_index=[2, 1514], ptr=[33], x=[710, 9], y=[32, 1]))\n",
            "(663, Batch(batch=[816], edge_attr=[1780, 3], edge_index=[2, 1780], ptr=[33], x=[816, 9], y=[32, 1]))\n",
            "(664, Batch(batch=[877], edge_attr=[1902, 3], edge_index=[2, 1902], ptr=[33], x=[877, 9], y=[32, 1]))\n",
            "(665, Batch(batch=[762], edge_attr=[1626, 3], edge_index=[2, 1626], ptr=[33], x=[762, 9], y=[32, 1]))\n",
            "(666, Batch(batch=[785], edge_attr=[1660, 3], edge_index=[2, 1660], ptr=[33], x=[785, 9], y=[32, 1]))\n",
            "(667, Batch(batch=[819], edge_attr=[1746, 3], edge_index=[2, 1746], ptr=[33], x=[819, 9], y=[32, 1]))\n",
            "(668, Batch(batch=[982], edge_attr=[2102, 3], edge_index=[2, 2102], ptr=[33], x=[982, 9], y=[32, 1]))\n",
            "(669, Batch(batch=[759], edge_attr=[1592, 3], edge_index=[2, 1592], ptr=[33], x=[759, 9], y=[32, 1]))\n",
            "(670, Batch(batch=[837], edge_attr=[1812, 3], edge_index=[2, 1812], ptr=[33], x=[837, 9], y=[32, 1]))\n",
            "(671, Batch(batch=[921], edge_attr=[2020, 3], edge_index=[2, 2020], ptr=[33], x=[921, 9], y=[32, 1]))\n",
            "(672, Batch(batch=[873], edge_attr=[1876, 3], edge_index=[2, 1876], ptr=[33], x=[873, 9], y=[32, 1]))\n",
            "(673, Batch(batch=[804], edge_attr=[1718, 3], edge_index=[2, 1718], ptr=[33], x=[804, 9], y=[32, 1]))\n",
            "(674, Batch(batch=[752], edge_attr=[1634, 3], edge_index=[2, 1634], ptr=[33], x=[752, 9], y=[32, 1]))\n",
            "(675, Batch(batch=[873], edge_attr=[1866, 3], edge_index=[2, 1866], ptr=[33], x=[873, 9], y=[32, 1]))\n",
            "(676, Batch(batch=[774], edge_attr=[1664, 3], edge_index=[2, 1664], ptr=[33], x=[774, 9], y=[32, 1]))\n",
            "(677, Batch(batch=[884], edge_attr=[1882, 3], edge_index=[2, 1882], ptr=[33], x=[884, 9], y=[32, 1]))\n",
            "(678, Batch(batch=[734], edge_attr=[1594, 3], edge_index=[2, 1594], ptr=[33], x=[734, 9], y=[32, 1]))\n",
            "(679, Batch(batch=[809], edge_attr=[1740, 3], edge_index=[2, 1740], ptr=[33], x=[809, 9], y=[32, 1]))\n",
            "(680, Batch(batch=[948], edge_attr=[1996, 3], edge_index=[2, 1996], ptr=[33], x=[948, 9], y=[32, 1]))\n",
            "(681, Batch(batch=[698], edge_attr=[1482, 3], edge_index=[2, 1482], ptr=[33], x=[698, 9], y=[32, 1]))\n",
            "(682, Batch(batch=[794], edge_attr=[1676, 3], edge_index=[2, 1676], ptr=[33], x=[794, 9], y=[32, 1]))\n",
            "(683, Batch(batch=[740], edge_attr=[1558, 3], edge_index=[2, 1558], ptr=[33], x=[740, 9], y=[32, 1]))\n",
            "(684, Batch(batch=[970], edge_attr=[2094, 3], edge_index=[2, 2094], ptr=[33], x=[970, 9], y=[32, 1]))\n",
            "(685, Batch(batch=[848], edge_attr=[1810, 3], edge_index=[2, 1810], ptr=[33], x=[848, 9], y=[32, 1]))\n",
            "(686, Batch(batch=[812], edge_attr=[1714, 3], edge_index=[2, 1714], ptr=[33], x=[812, 9], y=[32, 1]))\n",
            "(687, Batch(batch=[884], edge_attr=[1906, 3], edge_index=[2, 1906], ptr=[33], x=[884, 9], y=[32, 1]))\n",
            "(688, Batch(batch=[833], edge_attr=[1784, 3], edge_index=[2, 1784], ptr=[33], x=[833, 9], y=[32, 1]))\n",
            "(689, Batch(batch=[807], edge_attr=[1736, 3], edge_index=[2, 1736], ptr=[33], x=[807, 9], y=[32, 1]))\n",
            "(690, Batch(batch=[964], edge_attr=[2106, 3], edge_index=[2, 2106], ptr=[33], x=[964, 9], y=[32, 1]))\n",
            "(691, Batch(batch=[743], edge_attr=[1582, 3], edge_index=[2, 1582], ptr=[33], x=[743, 9], y=[32, 1]))\n",
            "(692, Batch(batch=[761], edge_attr=[1642, 3], edge_index=[2, 1642], ptr=[33], x=[761, 9], y=[32, 1]))\n",
            "(693, Batch(batch=[906], edge_attr=[1944, 3], edge_index=[2, 1944], ptr=[33], x=[906, 9], y=[32, 1]))\n",
            "(694, Batch(batch=[712], edge_attr=[1520, 3], edge_index=[2, 1520], ptr=[33], x=[712, 9], y=[32, 1]))\n",
            "(695, Batch(batch=[807], edge_attr=[1720, 3], edge_index=[2, 1720], ptr=[33], x=[807, 9], y=[32, 1]))\n",
            "(696, Batch(batch=[779], edge_attr=[1646, 3], edge_index=[2, 1646], ptr=[33], x=[779, 9], y=[32, 1]))\n",
            "(697, Batch(batch=[877], edge_attr=[1862, 3], edge_index=[2, 1862], ptr=[33], x=[877, 9], y=[32, 1]))\n",
            "(698, Batch(batch=[853], edge_attr=[1798, 3], edge_index=[2, 1798], ptr=[33], x=[853, 9], y=[32, 1]))\n",
            "(699, Batch(batch=[812], edge_attr=[1736, 3], edge_index=[2, 1736], ptr=[33], x=[812, 9], y=[32, 1]))\n",
            "(700, Batch(batch=[869], edge_attr=[1870, 3], edge_index=[2, 1870], ptr=[33], x=[869, 9], y=[32, 1]))\n",
            "(701, Batch(batch=[725], edge_attr=[1556, 3], edge_index=[2, 1556], ptr=[33], x=[725, 9], y=[32, 1]))\n",
            "(702, Batch(batch=[718], edge_attr=[1548, 3], edge_index=[2, 1548], ptr=[33], x=[718, 9], y=[32, 1]))\n",
            "(703, Batch(batch=[760], edge_attr=[1624, 3], edge_index=[2, 1624], ptr=[33], x=[760, 9], y=[32, 1]))\n",
            "(704, Batch(batch=[814], edge_attr=[1752, 3], edge_index=[2, 1752], ptr=[33], x=[814, 9], y=[32, 1]))\n",
            "(705, Batch(batch=[719], edge_attr=[1542, 3], edge_index=[2, 1542], ptr=[33], x=[719, 9], y=[32, 1]))\n",
            "(706, Batch(batch=[860], edge_attr=[1840, 3], edge_index=[2, 1840], ptr=[33], x=[860, 9], y=[32, 1]))\n",
            "(707, Batch(batch=[763], edge_attr=[1620, 3], edge_index=[2, 1620], ptr=[33], x=[763, 9], y=[32, 1]))\n",
            "(708, Batch(batch=[837], edge_attr=[1804, 3], edge_index=[2, 1804], ptr=[33], x=[837, 9], y=[32, 1]))\n",
            "(709, Batch(batch=[726], edge_attr=[1552, 3], edge_index=[2, 1552], ptr=[33], x=[726, 9], y=[32, 1]))\n",
            "(710, Batch(batch=[752], edge_attr=[1590, 3], edge_index=[2, 1590], ptr=[33], x=[752, 9], y=[32, 1]))\n",
            "(711, Batch(batch=[780], edge_attr=[1668, 3], edge_index=[2, 1668], ptr=[33], x=[780, 9], y=[32, 1]))\n",
            "(712, Batch(batch=[688], edge_attr=[1450, 3], edge_index=[2, 1450], ptr=[33], x=[688, 9], y=[32, 1]))\n",
            "(713, Batch(batch=[755], edge_attr=[1610, 3], edge_index=[2, 1610], ptr=[33], x=[755, 9], y=[32, 1]))\n",
            "(714, Batch(batch=[875], edge_attr=[1874, 3], edge_index=[2, 1874], ptr=[33], x=[875, 9], y=[32, 1]))\n",
            "(715, Batch(batch=[766], edge_attr=[1630, 3], edge_index=[2, 1630], ptr=[33], x=[766, 9], y=[32, 1]))\n",
            "(716, Batch(batch=[817], edge_attr=[1760, 3], edge_index=[2, 1760], ptr=[33], x=[817, 9], y=[32, 1]))\n",
            "(717, Batch(batch=[783], edge_attr=[1668, 3], edge_index=[2, 1668], ptr=[33], x=[783, 9], y=[32, 1]))\n",
            "(718, Batch(batch=[862], edge_attr=[1818, 3], edge_index=[2, 1818], ptr=[33], x=[862, 9], y=[32, 1]))\n",
            "(719, Batch(batch=[716], edge_attr=[1552, 3], edge_index=[2, 1552], ptr=[33], x=[716, 9], y=[32, 1]))\n",
            "(720, Batch(batch=[750], edge_attr=[1598, 3], edge_index=[2, 1598], ptr=[33], x=[750, 9], y=[32, 1]))\n",
            "(721, Batch(batch=[813], edge_attr=[1742, 3], edge_index=[2, 1742], ptr=[33], x=[813, 9], y=[32, 1]))\n",
            "(722, Batch(batch=[790], edge_attr=[1726, 3], edge_index=[2, 1726], ptr=[33], x=[790, 9], y=[32, 1]))\n",
            "(723, Batch(batch=[754], edge_attr=[1622, 3], edge_index=[2, 1622], ptr=[33], x=[754, 9], y=[32, 1]))\n",
            "(724, Batch(batch=[782], edge_attr=[1672, 3], edge_index=[2, 1672], ptr=[33], x=[782, 9], y=[32, 1]))\n",
            "(725, Batch(batch=[759], edge_attr=[1628, 3], edge_index=[2, 1628], ptr=[33], x=[759, 9], y=[32, 1]))\n",
            "(726, Batch(batch=[806], edge_attr=[1728, 3], edge_index=[2, 1728], ptr=[33], x=[806, 9], y=[32, 1]))\n",
            "(727, Batch(batch=[879], edge_attr=[1844, 3], edge_index=[2, 1844], ptr=[33], x=[879, 9], y=[32, 1]))\n",
            "(728, Batch(batch=[916], edge_attr=[1974, 3], edge_index=[2, 1974], ptr=[33], x=[916, 9], y=[32, 1]))\n",
            "(729, Batch(batch=[725], edge_attr=[1554, 3], edge_index=[2, 1554], ptr=[33], x=[725, 9], y=[32, 1]))\n",
            "(730, Batch(batch=[802], edge_attr=[1712, 3], edge_index=[2, 1712], ptr=[33], x=[802, 9], y=[32, 1]))\n",
            "(731, Batch(batch=[860], edge_attr=[1866, 3], edge_index=[2, 1866], ptr=[33], x=[860, 9], y=[32, 1]))\n",
            "(732, Batch(batch=[724], edge_attr=[1548, 3], edge_index=[2, 1548], ptr=[33], x=[724, 9], y=[32, 1]))\n",
            "(733, Batch(batch=[765], edge_attr=[1648, 3], edge_index=[2, 1648], ptr=[33], x=[765, 9], y=[32, 1]))\n",
            "(734, Batch(batch=[741], edge_attr=[1602, 3], edge_index=[2, 1602], ptr=[33], x=[741, 9], y=[32, 1]))\n",
            "(735, Batch(batch=[771], edge_attr=[1642, 3], edge_index=[2, 1642], ptr=[33], x=[771, 9], y=[32, 1]))\n",
            "(736, Batch(batch=[822], edge_attr=[1746, 3], edge_index=[2, 1746], ptr=[33], x=[822, 9], y=[32, 1]))\n",
            "(737, Batch(batch=[845], edge_attr=[1834, 3], edge_index=[2, 1834], ptr=[33], x=[845, 9], y=[32, 1]))\n",
            "(738, Batch(batch=[730], edge_attr=[1566, 3], edge_index=[2, 1566], ptr=[33], x=[730, 9], y=[32, 1]))\n",
            "(739, Batch(batch=[728], edge_attr=[1562, 3], edge_index=[2, 1562], ptr=[33], x=[728, 9], y=[32, 1]))\n",
            "(740, Batch(batch=[759], edge_attr=[1614, 3], edge_index=[2, 1614], ptr=[33], x=[759, 9], y=[32, 1]))\n",
            "(741, Batch(batch=[766], edge_attr=[1638, 3], edge_index=[2, 1638], ptr=[33], x=[766, 9], y=[32, 1]))\n",
            "(742, Batch(batch=[798], edge_attr=[1714, 3], edge_index=[2, 1714], ptr=[33], x=[798, 9], y=[32, 1]))\n",
            "(743, Batch(batch=[797], edge_attr=[1740, 3], edge_index=[2, 1740], ptr=[33], x=[797, 9], y=[32, 1]))\n",
            "(744, Batch(batch=[809], edge_attr=[1736, 3], edge_index=[2, 1736], ptr=[33], x=[809, 9], y=[32, 1]))\n",
            "(745, Batch(batch=[766], edge_attr=[1640, 3], edge_index=[2, 1640], ptr=[33], x=[766, 9], y=[32, 1]))\n",
            "(746, Batch(batch=[770], edge_attr=[1642, 3], edge_index=[2, 1642], ptr=[33], x=[770, 9], y=[32, 1]))\n",
            "(747, Batch(batch=[804], edge_attr=[1718, 3], edge_index=[2, 1718], ptr=[33], x=[804, 9], y=[32, 1]))\n",
            "(748, Batch(batch=[821], edge_attr=[1772, 3], edge_index=[2, 1772], ptr=[33], x=[821, 9], y=[32, 1]))\n",
            "(749, Batch(batch=[811], edge_attr=[1756, 3], edge_index=[2, 1756], ptr=[33], x=[811, 9], y=[32, 1]))\n",
            "(750, Batch(batch=[878], edge_attr=[1860, 3], edge_index=[2, 1860], ptr=[33], x=[878, 9], y=[32, 1]))\n",
            "(751, Batch(batch=[880], edge_attr=[1910, 3], edge_index=[2, 1910], ptr=[33], x=[880, 9], y=[32, 1]))\n",
            "(752, Batch(batch=[822], edge_attr=[1776, 3], edge_index=[2, 1776], ptr=[33], x=[822, 9], y=[32, 1]))\n",
            "(753, Batch(batch=[802], edge_attr=[1708, 3], edge_index=[2, 1708], ptr=[33], x=[802, 9], y=[32, 1]))\n",
            "(754, Batch(batch=[819], edge_attr=[1766, 3], edge_index=[2, 1766], ptr=[33], x=[819, 9], y=[32, 1]))\n",
            "(755, Batch(batch=[792], edge_attr=[1696, 3], edge_index=[2, 1696], ptr=[33], x=[792, 9], y=[32, 1]))\n",
            "(756, Batch(batch=[748], edge_attr=[1588, 3], edge_index=[2, 1588], ptr=[33], x=[748, 9], y=[32, 1]))\n",
            "(757, Batch(batch=[771], edge_attr=[1644, 3], edge_index=[2, 1644], ptr=[33], x=[771, 9], y=[32, 1]))\n",
            "(758, Batch(batch=[759], edge_attr=[1620, 3], edge_index=[2, 1620], ptr=[33], x=[759, 9], y=[32, 1]))\n",
            "(759, Batch(batch=[944], edge_attr=[1998, 3], edge_index=[2, 1998], ptr=[33], x=[944, 9], y=[32, 1]))\n",
            "(760, Batch(batch=[875], edge_attr=[1870, 3], edge_index=[2, 1870], ptr=[33], x=[875, 9], y=[32, 1]))\n",
            "(761, Batch(batch=[772], edge_attr=[1646, 3], edge_index=[2, 1646], ptr=[33], x=[772, 9], y=[32, 1]))\n",
            "(762, Batch(batch=[804], edge_attr=[1714, 3], edge_index=[2, 1714], ptr=[33], x=[804, 9], y=[32, 1]))\n",
            "(763, Batch(batch=[832], edge_attr=[1794, 3], edge_index=[2, 1794], ptr=[33], x=[832, 9], y=[32, 1]))\n",
            "(764, Batch(batch=[780], edge_attr=[1660, 3], edge_index=[2, 1660], ptr=[33], x=[780, 9], y=[32, 1]))\n",
            "(765, Batch(batch=[871], edge_attr=[1862, 3], edge_index=[2, 1862], ptr=[33], x=[871, 9], y=[32, 1]))\n",
            "(766, Batch(batch=[744], edge_attr=[1594, 3], edge_index=[2, 1594], ptr=[33], x=[744, 9], y=[32, 1]))\n",
            "(767, Batch(batch=[745], edge_attr=[1588, 3], edge_index=[2, 1588], ptr=[33], x=[745, 9], y=[32, 1]))\n",
            "(768, Batch(batch=[862], edge_attr=[1834, 3], edge_index=[2, 1834], ptr=[33], x=[862, 9], y=[32, 1]))\n",
            "(769, Batch(batch=[755], edge_attr=[1624, 3], edge_index=[2, 1624], ptr=[33], x=[755, 9], y=[32, 1]))\n",
            "(770, Batch(batch=[807], edge_attr=[1734, 3], edge_index=[2, 1734], ptr=[33], x=[807, 9], y=[32, 1]))\n",
            "(771, Batch(batch=[831], edge_attr=[1778, 3], edge_index=[2, 1778], ptr=[33], x=[831, 9], y=[32, 1]))\n",
            "(772, Batch(batch=[851], edge_attr=[1826, 3], edge_index=[2, 1826], ptr=[33], x=[851, 9], y=[32, 1]))\n",
            "(773, Batch(batch=[745], edge_attr=[1598, 3], edge_index=[2, 1598], ptr=[33], x=[745, 9], y=[32, 1]))\n",
            "(774, Batch(batch=[753], edge_attr=[1618, 3], edge_index=[2, 1618], ptr=[33], x=[753, 9], y=[32, 1]))\n",
            "(775, Batch(batch=[881], edge_attr=[1880, 3], edge_index=[2, 1880], ptr=[33], x=[881, 9], y=[32, 1]))\n",
            "(776, Batch(batch=[985], edge_attr=[2052, 3], edge_index=[2, 2052], ptr=[33], x=[985, 9], y=[32, 1]))\n",
            "(777, Batch(batch=[772], edge_attr=[1640, 3], edge_index=[2, 1640], ptr=[33], x=[772, 9], y=[32, 1]))\n",
            "(778, Batch(batch=[779], edge_attr=[1670, 3], edge_index=[2, 1670], ptr=[33], x=[779, 9], y=[32, 1]))\n",
            "(779, Batch(batch=[949], edge_attr=[2008, 3], edge_index=[2, 2008], ptr=[33], x=[949, 9], y=[32, 1]))\n",
            "(780, Batch(batch=[674], edge_attr=[1404, 3], edge_index=[2, 1404], ptr=[33], x=[674, 9], y=[32, 1]))\n",
            "(781, Batch(batch=[767], edge_attr=[1652, 3], edge_index=[2, 1652], ptr=[33], x=[767, 9], y=[32, 1]))\n",
            "(782, Batch(batch=[901], edge_attr=[1944, 3], edge_index=[2, 1944], ptr=[33], x=[901, 9], y=[32, 1]))\n",
            "(783, Batch(batch=[756], edge_attr=[1622, 3], edge_index=[2, 1622], ptr=[33], x=[756, 9], y=[32, 1]))\n",
            "(784, Batch(batch=[810], edge_attr=[1720, 3], edge_index=[2, 1720], ptr=[33], x=[810, 9], y=[32, 1]))\n",
            "(785, Batch(batch=[795], edge_attr=[1696, 3], edge_index=[2, 1696], ptr=[33], x=[795, 9], y=[32, 1]))\n",
            "(786, Batch(batch=[820], edge_attr=[1796, 3], edge_index=[2, 1796], ptr=[33], x=[820, 9], y=[32, 1]))\n",
            "(787, Batch(batch=[855], edge_attr=[1834, 3], edge_index=[2, 1834], ptr=[33], x=[855, 9], y=[32, 1]))\n",
            "(788, Batch(batch=[770], edge_attr=[1666, 3], edge_index=[2, 1666], ptr=[33], x=[770, 9], y=[32, 1]))\n",
            "(789, Batch(batch=[914], edge_attr=[1978, 3], edge_index=[2, 1978], ptr=[33], x=[914, 9], y=[32, 1]))\n",
            "(790, Batch(batch=[833], edge_attr=[1796, 3], edge_index=[2, 1796], ptr=[33], x=[833, 9], y=[32, 1]))\n",
            "(791, Batch(batch=[816], edge_attr=[1776, 3], edge_index=[2, 1776], ptr=[33], x=[816, 9], y=[32, 1]))\n",
            "(792, Batch(batch=[761], edge_attr=[1630, 3], edge_index=[2, 1630], ptr=[33], x=[761, 9], y=[32, 1]))\n",
            "(793, Batch(batch=[821], edge_attr=[1768, 3], edge_index=[2, 1768], ptr=[33], x=[821, 9], y=[32, 1]))\n",
            "(794, Batch(batch=[864], edge_attr=[1840, 3], edge_index=[2, 1840], ptr=[33], x=[864, 9], y=[32, 1]))\n",
            "(795, Batch(batch=[674], edge_attr=[1432, 3], edge_index=[2, 1432], ptr=[33], x=[674, 9], y=[32, 1]))\n",
            "(796, Batch(batch=[838], edge_attr=[1786, 3], edge_index=[2, 1786], ptr=[33], x=[838, 9], y=[32, 1]))\n",
            "(797, Batch(batch=[806], edge_attr=[1726, 3], edge_index=[2, 1726], ptr=[33], x=[806, 9], y=[32, 1]))\n",
            "(798, Batch(batch=[807], edge_attr=[1716, 3], edge_index=[2, 1716], ptr=[33], x=[807, 9], y=[32, 1]))\n",
            "(799, Batch(batch=[843], edge_attr=[1824, 3], edge_index=[2, 1824], ptr=[33], x=[843, 9], y=[32, 1]))\n",
            "(800, Batch(batch=[813], edge_attr=[1736, 3], edge_index=[2, 1736], ptr=[33], x=[813, 9], y=[32, 1]))\n",
            "(801, Batch(batch=[765], edge_attr=[1634, 3], edge_index=[2, 1634], ptr=[33], x=[765, 9], y=[32, 1]))\n",
            "(802, Batch(batch=[714], edge_attr=[1524, 3], edge_index=[2, 1524], ptr=[33], x=[714, 9], y=[32, 1]))\n",
            "(803, Batch(batch=[863], edge_attr=[1862, 3], edge_index=[2, 1862], ptr=[33], x=[863, 9], y=[32, 1]))\n",
            "(804, Batch(batch=[735], edge_attr=[1570, 3], edge_index=[2, 1570], ptr=[33], x=[735, 9], y=[32, 1]))\n",
            "(805, Batch(batch=[697], edge_attr=[1506, 3], edge_index=[2, 1506], ptr=[33], x=[697, 9], y=[32, 1]))\n",
            "(806, Batch(batch=[795], edge_attr=[1704, 3], edge_index=[2, 1704], ptr=[33], x=[795, 9], y=[32, 1]))\n",
            "(807, Batch(batch=[895], edge_attr=[1930, 3], edge_index=[2, 1930], ptr=[33], x=[895, 9], y=[32, 1]))\n",
            "(808, Batch(batch=[772], edge_attr=[1654, 3], edge_index=[2, 1654], ptr=[33], x=[772, 9], y=[32, 1]))\n",
            "(809, Batch(batch=[758], edge_attr=[1600, 3], edge_index=[2, 1600], ptr=[33], x=[758, 9], y=[32, 1]))\n",
            "(810, Batch(batch=[659], edge_attr=[1384, 3], edge_index=[2, 1384], ptr=[33], x=[659, 9], y=[32, 1]))\n",
            "(811, Batch(batch=[914], edge_attr=[1942, 3], edge_index=[2, 1942], ptr=[33], x=[914, 9], y=[32, 1]))\n",
            "(812, Batch(batch=[806], edge_attr=[1718, 3], edge_index=[2, 1718], ptr=[33], x=[806, 9], y=[32, 1]))\n",
            "(813, Batch(batch=[745], edge_attr=[1576, 3], edge_index=[2, 1576], ptr=[33], x=[745, 9], y=[32, 1]))\n",
            "(814, Batch(batch=[729], edge_attr=[1566, 3], edge_index=[2, 1566], ptr=[33], x=[729, 9], y=[32, 1]))\n",
            "(815, Batch(batch=[862], edge_attr=[1830, 3], edge_index=[2, 1830], ptr=[33], x=[862, 9], y=[32, 1]))\n",
            "(816, Batch(batch=[752], edge_attr=[1622, 3], edge_index=[2, 1622], ptr=[33], x=[752, 9], y=[32, 1]))\n",
            "(817, Batch(batch=[751], edge_attr=[1566, 3], edge_index=[2, 1566], ptr=[33], x=[751, 9], y=[32, 1]))\n",
            "(818, Batch(batch=[877], edge_attr=[1874, 3], edge_index=[2, 1874], ptr=[33], x=[877, 9], y=[32, 1]))\n",
            "(819, Batch(batch=[729], edge_attr=[1562, 3], edge_index=[2, 1562], ptr=[33], x=[729, 9], y=[32, 1]))\n",
            "(820, Batch(batch=[836], edge_attr=[1788, 3], edge_index=[2, 1788], ptr=[33], x=[836, 9], y=[32, 1]))\n",
            "(821, Batch(batch=[741], edge_attr=[1604, 3], edge_index=[2, 1604], ptr=[33], x=[741, 9], y=[32, 1]))\n",
            "(822, Batch(batch=[751], edge_attr=[1618, 3], edge_index=[2, 1618], ptr=[33], x=[751, 9], y=[32, 1]))\n",
            "(823, Batch(batch=[754], edge_attr=[1598, 3], edge_index=[2, 1598], ptr=[33], x=[754, 9], y=[32, 1]))\n",
            "(824, Batch(batch=[751], edge_attr=[1620, 3], edge_index=[2, 1620], ptr=[33], x=[751, 9], y=[32, 1]))\n",
            "(825, Batch(batch=[809], edge_attr=[1716, 3], edge_index=[2, 1716], ptr=[33], x=[809, 9], y=[32, 1]))\n",
            "(826, Batch(batch=[825], edge_attr=[1772, 3], edge_index=[2, 1772], ptr=[33], x=[825, 9], y=[32, 1]))\n",
            "(827, Batch(batch=[782], edge_attr=[1688, 3], edge_index=[2, 1688], ptr=[33], x=[782, 9], y=[32, 1]))\n",
            "(828, Batch(batch=[740], edge_attr=[1586, 3], edge_index=[2, 1586], ptr=[33], x=[740, 9], y=[32, 1]))\n",
            "(829, Batch(batch=[1089], edge_attr=[2302, 3], edge_index=[2, 2302], ptr=[33], x=[1089, 9], y=[32, 1]))\n",
            "(830, Batch(batch=[756], edge_attr=[1606, 3], edge_index=[2, 1606], ptr=[33], x=[756, 9], y=[32, 1]))\n",
            "(831, Batch(batch=[887], edge_attr=[1916, 3], edge_index=[2, 1916], ptr=[33], x=[887, 9], y=[32, 1]))\n",
            "(832, Batch(batch=[805], edge_attr=[1736, 3], edge_index=[2, 1736], ptr=[33], x=[805, 9], y=[32, 1]))\n",
            "(833, Batch(batch=[799], edge_attr=[1712, 3], edge_index=[2, 1712], ptr=[33], x=[799, 9], y=[32, 1]))\n",
            "(834, Batch(batch=[726], edge_attr=[1566, 3], edge_index=[2, 1566], ptr=[33], x=[726, 9], y=[32, 1]))\n",
            "(835, Batch(batch=[985], edge_attr=[2142, 3], edge_index=[2, 2142], ptr=[33], x=[985, 9], y=[32, 1]))\n",
            "(836, Batch(batch=[799], edge_attr=[1724, 3], edge_index=[2, 1724], ptr=[33], x=[799, 9], y=[32, 1]))\n",
            "(837, Batch(batch=[794], edge_attr=[1682, 3], edge_index=[2, 1682], ptr=[33], x=[794, 9], y=[32, 1]))\n",
            "(838, Batch(batch=[998], edge_attr=[2134, 3], edge_index=[2, 2134], ptr=[33], x=[998, 9], y=[32, 1]))\n",
            "(839, Batch(batch=[833], edge_attr=[1780, 3], edge_index=[2, 1780], ptr=[33], x=[833, 9], y=[32, 1]))\n",
            "(840, Batch(batch=[716], edge_attr=[1520, 3], edge_index=[2, 1520], ptr=[33], x=[716, 9], y=[32, 1]))\n",
            "(841, Batch(batch=[741], edge_attr=[1574, 3], edge_index=[2, 1574], ptr=[33], x=[741, 9], y=[32, 1]))\n",
            "(842, Batch(batch=[853], edge_attr=[1844, 3], edge_index=[2, 1844], ptr=[33], x=[853, 9], y=[32, 1]))\n",
            "(843, Batch(batch=[770], edge_attr=[1644, 3], edge_index=[2, 1644], ptr=[33], x=[770, 9], y=[32, 1]))\n",
            "(844, Batch(batch=[804], edge_attr=[1728, 3], edge_index=[2, 1728], ptr=[33], x=[804, 9], y=[32, 1]))\n",
            "(845, Batch(batch=[785], edge_attr=[1714, 3], edge_index=[2, 1714], ptr=[33], x=[785, 9], y=[32, 1]))\n",
            "(846, Batch(batch=[744], edge_attr=[1576, 3], edge_index=[2, 1576], ptr=[33], x=[744, 9], y=[32, 1]))\n",
            "(847, Batch(batch=[889], edge_attr=[1930, 3], edge_index=[2, 1930], ptr=[33], x=[889, 9], y=[32, 1]))\n",
            "(848, Batch(batch=[895], edge_attr=[1914, 3], edge_index=[2, 1914], ptr=[33], x=[895, 9], y=[32, 1]))\n",
            "(849, Batch(batch=[859], edge_attr=[1828, 3], edge_index=[2, 1828], ptr=[33], x=[859, 9], y=[32, 1]))\n",
            "(850, Batch(batch=[835], edge_attr=[1804, 3], edge_index=[2, 1804], ptr=[33], x=[835, 9], y=[32, 1]))\n",
            "(851, Batch(batch=[712], edge_attr=[1528, 3], edge_index=[2, 1528], ptr=[33], x=[712, 9], y=[32, 1]))\n",
            "(852, Batch(batch=[767], edge_attr=[1632, 3], edge_index=[2, 1632], ptr=[33], x=[767, 9], y=[32, 1]))\n",
            "(853, Batch(batch=[816], edge_attr=[1764, 3], edge_index=[2, 1764], ptr=[33], x=[816, 9], y=[32, 1]))\n",
            "(854, Batch(batch=[782], edge_attr=[1674, 3], edge_index=[2, 1674], ptr=[33], x=[782, 9], y=[32, 1]))\n",
            "(855, Batch(batch=[758], edge_attr=[1642, 3], edge_index=[2, 1642], ptr=[33], x=[758, 9], y=[32, 1]))\n",
            "(856, Batch(batch=[800], edge_attr=[1716, 3], edge_index=[2, 1716], ptr=[33], x=[800, 9], y=[32, 1]))\n",
            "(857, Batch(batch=[863], edge_attr=[1858, 3], edge_index=[2, 1858], ptr=[33], x=[863, 9], y=[32, 1]))\n",
            "(858, Batch(batch=[748], edge_attr=[1604, 3], edge_index=[2, 1604], ptr=[33], x=[748, 9], y=[32, 1]))\n",
            "(859, Batch(batch=[766], edge_attr=[1618, 3], edge_index=[2, 1618], ptr=[33], x=[766, 9], y=[32, 1]))\n",
            "(860, Batch(batch=[808], edge_attr=[1746, 3], edge_index=[2, 1746], ptr=[33], x=[808, 9], y=[32, 1]))\n",
            "(861, Batch(batch=[900], edge_attr=[1942, 3], edge_index=[2, 1942], ptr=[33], x=[900, 9], y=[32, 1]))\n",
            "(862, Batch(batch=[695], edge_attr=[1496, 3], edge_index=[2, 1496], ptr=[33], x=[695, 9], y=[32, 1]))\n",
            "(863, Batch(batch=[888], edge_attr=[1896, 3], edge_index=[2, 1896], ptr=[33], x=[888, 9], y=[32, 1]))\n",
            "(864, Batch(batch=[822], edge_attr=[1784, 3], edge_index=[2, 1784], ptr=[33], x=[822, 9], y=[32, 1]))\n",
            "(865, Batch(batch=[795], edge_attr=[1704, 3], edge_index=[2, 1704], ptr=[33], x=[795, 9], y=[32, 1]))\n",
            "(866, Batch(batch=[792], edge_attr=[1716, 3], edge_index=[2, 1716], ptr=[33], x=[792, 9], y=[32, 1]))\n",
            "(867, Batch(batch=[787], edge_attr=[1690, 3], edge_index=[2, 1690], ptr=[33], x=[787, 9], y=[32, 1]))\n",
            "(868, Batch(batch=[701], edge_attr=[1486, 3], edge_index=[2, 1486], ptr=[33], x=[701, 9], y=[32, 1]))\n",
            "(869, Batch(batch=[822], edge_attr=[1744, 3], edge_index=[2, 1744], ptr=[33], x=[822, 9], y=[32, 1]))\n",
            "(870, Batch(batch=[740], edge_attr=[1572, 3], edge_index=[2, 1572], ptr=[33], x=[740, 9], y=[32, 1]))\n",
            "(871, Batch(batch=[750], edge_attr=[1606, 3], edge_index=[2, 1606], ptr=[33], x=[750, 9], y=[32, 1]))\n",
            "(872, Batch(batch=[868], edge_attr=[1852, 3], edge_index=[2, 1852], ptr=[33], x=[868, 9], y=[32, 1]))\n",
            "(873, Batch(batch=[968], edge_attr=[2076, 3], edge_index=[2, 2076], ptr=[33], x=[968, 9], y=[32, 1]))\n",
            "(874, Batch(batch=[789], edge_attr=[1720, 3], edge_index=[2, 1720], ptr=[33], x=[789, 9], y=[32, 1]))\n",
            "(875, Batch(batch=[736], edge_attr=[1554, 3], edge_index=[2, 1554], ptr=[33], x=[736, 9], y=[32, 1]))\n",
            "(876, Batch(batch=[808], edge_attr=[1746, 3], edge_index=[2, 1746], ptr=[33], x=[808, 9], y=[32, 1]))\n",
            "(877, Batch(batch=[765], edge_attr=[1654, 3], edge_index=[2, 1654], ptr=[33], x=[765, 9], y=[32, 1]))\n",
            "(878, Batch(batch=[769], edge_attr=[1658, 3], edge_index=[2, 1658], ptr=[33], x=[769, 9], y=[32, 1]))\n",
            "(879, Batch(batch=[761], edge_attr=[1632, 3], edge_index=[2, 1632], ptr=[33], x=[761, 9], y=[32, 1]))\n",
            "(880, Batch(batch=[701], edge_attr=[1480, 3], edge_index=[2, 1480], ptr=[33], x=[701, 9], y=[32, 1]))\n",
            "(881, Batch(batch=[812], edge_attr=[1724, 3], edge_index=[2, 1724], ptr=[33], x=[812, 9], y=[32, 1]))\n",
            "(882, Batch(batch=[758], edge_attr=[1614, 3], edge_index=[2, 1614], ptr=[33], x=[758, 9], y=[32, 1]))\n",
            "(883, Batch(batch=[839], edge_attr=[1800, 3], edge_index=[2, 1800], ptr=[33], x=[839, 9], y=[32, 1]))\n",
            "(884, Batch(batch=[718], edge_attr=[1558, 3], edge_index=[2, 1558], ptr=[33], x=[718, 9], y=[32, 1]))\n",
            "(885, Batch(batch=[794], edge_attr=[1670, 3], edge_index=[2, 1670], ptr=[33], x=[794, 9], y=[32, 1]))\n",
            "(886, Batch(batch=[828], edge_attr=[1754, 3], edge_index=[2, 1754], ptr=[33], x=[828, 9], y=[32, 1]))\n",
            "(887, Batch(batch=[959], edge_attr=[2086, 3], edge_index=[2, 2086], ptr=[33], x=[959, 9], y=[32, 1]))\n",
            "(888, Batch(batch=[771], edge_attr=[1644, 3], edge_index=[2, 1644], ptr=[33], x=[771, 9], y=[32, 1]))\n",
            "(889, Batch(batch=[781], edge_attr=[1678, 3], edge_index=[2, 1678], ptr=[33], x=[781, 9], y=[32, 1]))\n",
            "(890, Batch(batch=[745], edge_attr=[1608, 3], edge_index=[2, 1608], ptr=[33], x=[745, 9], y=[32, 1]))\n",
            "(891, Batch(batch=[857], edge_attr=[1826, 3], edge_index=[2, 1826], ptr=[33], x=[857, 9], y=[32, 1]))\n",
            "(892, Batch(batch=[802], edge_attr=[1708, 3], edge_index=[2, 1708], ptr=[33], x=[802, 9], y=[32, 1]))\n",
            "(893, Batch(batch=[715], edge_attr=[1526, 3], edge_index=[2, 1526], ptr=[33], x=[715, 9], y=[32, 1]))\n",
            "(894, Batch(batch=[964], edge_attr=[2060, 3], edge_index=[2, 2060], ptr=[33], x=[964, 9], y=[32, 1]))\n",
            "(895, Batch(batch=[929], edge_attr=[1990, 3], edge_index=[2, 1990], ptr=[33], x=[929, 9], y=[32, 1]))\n",
            "(896, Batch(batch=[775], edge_attr=[1646, 3], edge_index=[2, 1646], ptr=[33], x=[775, 9], y=[32, 1]))\n",
            "(897, Batch(batch=[912], edge_attr=[1948, 3], edge_index=[2, 1948], ptr=[33], x=[912, 9], y=[32, 1]))\n",
            "(898, Batch(batch=[719], edge_attr=[1536, 3], edge_index=[2, 1536], ptr=[33], x=[719, 9], y=[32, 1]))\n",
            "(899, Batch(batch=[760], edge_attr=[1622, 3], edge_index=[2, 1622], ptr=[33], x=[760, 9], y=[32, 1]))\n",
            "(900, Batch(batch=[778], edge_attr=[1668, 3], edge_index=[2, 1668], ptr=[33], x=[778, 9], y=[32, 1]))\n",
            "(901, Batch(batch=[787], edge_attr=[1702, 3], edge_index=[2, 1702], ptr=[33], x=[787, 9], y=[32, 1]))\n",
            "(902, Batch(batch=[835], edge_attr=[1808, 3], edge_index=[2, 1808], ptr=[33], x=[835, 9], y=[32, 1]))\n",
            "(903, Batch(batch=[813], edge_attr=[1734, 3], edge_index=[2, 1734], ptr=[33], x=[813, 9], y=[32, 1]))\n",
            "(904, Batch(batch=[720], edge_attr=[1542, 3], edge_index=[2, 1542], ptr=[33], x=[720, 9], y=[32, 1]))\n",
            "(905, Batch(batch=[882], edge_attr=[1888, 3], edge_index=[2, 1888], ptr=[33], x=[882, 9], y=[32, 1]))\n",
            "(906, Batch(batch=[801], edge_attr=[1710, 3], edge_index=[2, 1710], ptr=[33], x=[801, 9], y=[32, 1]))\n",
            "(907, Batch(batch=[835], edge_attr=[1778, 3], edge_index=[2, 1778], ptr=[33], x=[835, 9], y=[32, 1]))\n",
            "(908, Batch(batch=[797], edge_attr=[1718, 3], edge_index=[2, 1718], ptr=[33], x=[797, 9], y=[32, 1]))\n",
            "(909, Batch(batch=[857], edge_attr=[1860, 3], edge_index=[2, 1860], ptr=[33], x=[857, 9], y=[32, 1]))\n",
            "(910, Batch(batch=[783], edge_attr=[1680, 3], edge_index=[2, 1680], ptr=[33], x=[783, 9], y=[32, 1]))\n",
            "(911, Batch(batch=[799], edge_attr=[1734, 3], edge_index=[2, 1734], ptr=[33], x=[799, 9], y=[32, 1]))\n",
            "(912, Batch(batch=[815], edge_attr=[1778, 3], edge_index=[2, 1778], ptr=[33], x=[815, 9], y=[32, 1]))\n",
            "(913, Batch(batch=[678], edge_attr=[1450, 3], edge_index=[2, 1450], ptr=[33], x=[678, 9], y=[32, 1]))\n",
            "(914, Batch(batch=[795], edge_attr=[1698, 3], edge_index=[2, 1698], ptr=[33], x=[795, 9], y=[32, 1]))\n",
            "(915, Batch(batch=[814], edge_attr=[1740, 3], edge_index=[2, 1740], ptr=[33], x=[814, 9], y=[32, 1]))\n",
            "(916, Batch(batch=[931], edge_attr=[1998, 3], edge_index=[2, 1998], ptr=[33], x=[931, 9], y=[32, 1]))\n",
            "(917, Batch(batch=[801], edge_attr=[1696, 3], edge_index=[2, 1696], ptr=[33], x=[801, 9], y=[32, 1]))\n",
            "(918, Batch(batch=[719], edge_attr=[1514, 3], edge_index=[2, 1514], ptr=[33], x=[719, 9], y=[32, 1]))\n",
            "(919, Batch(batch=[823], edge_attr=[1746, 3], edge_index=[2, 1746], ptr=[33], x=[823, 9], y=[32, 1]))\n",
            "(920, Batch(batch=[788], edge_attr=[1682, 3], edge_index=[2, 1682], ptr=[33], x=[788, 9], y=[32, 1]))\n",
            "(921, Batch(batch=[687], edge_attr=[1454, 3], edge_index=[2, 1454], ptr=[33], x=[687, 9], y=[32, 1]))\n",
            "(922, Batch(batch=[757], edge_attr=[1600, 3], edge_index=[2, 1600], ptr=[33], x=[757, 9], y=[32, 1]))\n",
            "(923, Batch(batch=[945], edge_attr=[2026, 3], edge_index=[2, 2026], ptr=[33], x=[945, 9], y=[32, 1]))\n",
            "(924, Batch(batch=[903], edge_attr=[1938, 3], edge_index=[2, 1938], ptr=[33], x=[903, 9], y=[32, 1]))\n",
            "(925, Batch(batch=[856], edge_attr=[1808, 3], edge_index=[2, 1808], ptr=[33], x=[856, 9], y=[32, 1]))\n",
            "(926, Batch(batch=[753], edge_attr=[1606, 3], edge_index=[2, 1606], ptr=[33], x=[753, 9], y=[32, 1]))\n",
            "(927, Batch(batch=[704], edge_attr=[1502, 3], edge_index=[2, 1502], ptr=[33], x=[704, 9], y=[32, 1]))\n",
            "(928, Batch(batch=[779], edge_attr=[1676, 3], edge_index=[2, 1676], ptr=[33], x=[779, 9], y=[32, 1]))\n",
            "(929, Batch(batch=[886], edge_attr=[1898, 3], edge_index=[2, 1898], ptr=[33], x=[886, 9], y=[32, 1]))\n",
            "(930, Batch(batch=[862], edge_attr=[1852, 3], edge_index=[2, 1852], ptr=[33], x=[862, 9], y=[32, 1]))\n",
            "(931, Batch(batch=[738], edge_attr=[1572, 3], edge_index=[2, 1572], ptr=[33], x=[738, 9], y=[32, 1]))\n",
            "(932, Batch(batch=[798], edge_attr=[1716, 3], edge_index=[2, 1716], ptr=[33], x=[798, 9], y=[32, 1]))\n",
            "(933, Batch(batch=[851], edge_attr=[1824, 3], edge_index=[2, 1824], ptr=[33], x=[851, 9], y=[32, 1]))\n",
            "(934, Batch(batch=[892], edge_attr=[1906, 3], edge_index=[2, 1906], ptr=[33], x=[892, 9], y=[32, 1]))\n",
            "(935, Batch(batch=[800], edge_attr=[1708, 3], edge_index=[2, 1708], ptr=[33], x=[800, 9], y=[32, 1]))\n",
            "(936, Batch(batch=[764], edge_attr=[1654, 3], edge_index=[2, 1654], ptr=[33], x=[764, 9], y=[32, 1]))\n",
            "(937, Batch(batch=[891], edge_attr=[1908, 3], edge_index=[2, 1908], ptr=[33], x=[891, 9], y=[32, 1]))\n",
            "(938, Batch(batch=[806], edge_attr=[1722, 3], edge_index=[2, 1722], ptr=[33], x=[806, 9], y=[32, 1]))\n",
            "(939, Batch(batch=[871], edge_attr=[1860, 3], edge_index=[2, 1860], ptr=[33], x=[871, 9], y=[32, 1]))\n",
            "(940, Batch(batch=[873], edge_attr=[1886, 3], edge_index=[2, 1886], ptr=[33], x=[873, 9], y=[32, 1]))\n",
            "(941, Batch(batch=[761], edge_attr=[1632, 3], edge_index=[2, 1632], ptr=[33], x=[761, 9], y=[32, 1]))\n",
            "(942, Batch(batch=[721], edge_attr=[1554, 3], edge_index=[2, 1554], ptr=[33], x=[721, 9], y=[32, 1]))\n",
            "(943, Batch(batch=[838], edge_attr=[1804, 3], edge_index=[2, 1804], ptr=[33], x=[838, 9], y=[32, 1]))\n",
            "(944, Batch(batch=[872], edge_attr=[1848, 3], edge_index=[2, 1848], ptr=[33], x=[872, 9], y=[32, 1]))\n",
            "(945, Batch(batch=[913], edge_attr=[1960, 3], edge_index=[2, 1960], ptr=[33], x=[913, 9], y=[32, 1]))\n",
            "(946, Batch(batch=[801], edge_attr=[1714, 3], edge_index=[2, 1714], ptr=[33], x=[801, 9], y=[32, 1]))\n",
            "(947, Batch(batch=[867], edge_attr=[1860, 3], edge_index=[2, 1860], ptr=[33], x=[867, 9], y=[32, 1]))\n",
            "(948, Batch(batch=[793], edge_attr=[1672, 3], edge_index=[2, 1672], ptr=[33], x=[793, 9], y=[32, 1]))\n",
            "(949, Batch(batch=[761], edge_attr=[1648, 3], edge_index=[2, 1648], ptr=[33], x=[761, 9], y=[32, 1]))\n",
            "(950, Batch(batch=[741], edge_attr=[1568, 3], edge_index=[2, 1568], ptr=[33], x=[741, 9], y=[32, 1]))\n",
            "(951, Batch(batch=[906], edge_attr=[1948, 3], edge_index=[2, 1948], ptr=[33], x=[906, 9], y=[32, 1]))\n",
            "(952, Batch(batch=[842], edge_attr=[1814, 3], edge_index=[2, 1814], ptr=[33], x=[842, 9], y=[32, 1]))\n",
            "(953, Batch(batch=[800], edge_attr=[1700, 3], edge_index=[2, 1700], ptr=[33], x=[800, 9], y=[32, 1]))\n",
            "(954, Batch(batch=[882], edge_attr=[1882, 3], edge_index=[2, 1882], ptr=[33], x=[882, 9], y=[32, 1]))\n",
            "(955, Batch(batch=[889], edge_attr=[1918, 3], edge_index=[2, 1918], ptr=[33], x=[889, 9], y=[32, 1]))\n",
            "(956, Batch(batch=[814], edge_attr=[1766, 3], edge_index=[2, 1766], ptr=[33], x=[814, 9], y=[32, 1]))\n",
            "(957, Batch(batch=[853], edge_attr=[1850, 3], edge_index=[2, 1850], ptr=[33], x=[853, 9], y=[32, 1]))\n",
            "(958, Batch(batch=[744], edge_attr=[1588, 3], edge_index=[2, 1588], ptr=[33], x=[744, 9], y=[32, 1]))\n",
            "(959, Batch(batch=[753], edge_attr=[1630, 3], edge_index=[2, 1630], ptr=[33], x=[753, 9], y=[32, 1]))\n",
            "(960, Batch(batch=[907], edge_attr=[1936, 3], edge_index=[2, 1936], ptr=[33], x=[907, 9], y=[32, 1]))\n",
            "(961, Batch(batch=[783], edge_attr=[1682, 3], edge_index=[2, 1682], ptr=[33], x=[783, 9], y=[32, 1]))\n",
            "(962, Batch(batch=[840], edge_attr=[1784, 3], edge_index=[2, 1784], ptr=[33], x=[840, 9], y=[32, 1]))\n",
            "(963, Batch(batch=[803], edge_attr=[1708, 3], edge_index=[2, 1708], ptr=[33], x=[803, 9], y=[32, 1]))\n",
            "(964, Batch(batch=[752], edge_attr=[1612, 3], edge_index=[2, 1612], ptr=[33], x=[752, 9], y=[32, 1]))\n",
            "(965, Batch(batch=[781], edge_attr=[1660, 3], edge_index=[2, 1660], ptr=[33], x=[781, 9], y=[32, 1]))\n",
            "(966, Batch(batch=[796], edge_attr=[1720, 3], edge_index=[2, 1720], ptr=[33], x=[796, 9], y=[32, 1]))\n",
            "(967, Batch(batch=[808], edge_attr=[1724, 3], edge_index=[2, 1724], ptr=[33], x=[808, 9], y=[32, 1]))\n",
            "(968, Batch(batch=[883], edge_attr=[1892, 3], edge_index=[2, 1892], ptr=[33], x=[883, 9], y=[32, 1]))\n",
            "(969, Batch(batch=[754], edge_attr=[1606, 3], edge_index=[2, 1606], ptr=[33], x=[754, 9], y=[32, 1]))\n",
            "(970, Batch(batch=[837], edge_attr=[1798, 3], edge_index=[2, 1798], ptr=[33], x=[837, 9], y=[32, 1]))\n",
            "(971, Batch(batch=[727], edge_attr=[1552, 3], edge_index=[2, 1552], ptr=[33], x=[727, 9], y=[32, 1]))\n",
            "(972, Batch(batch=[677], edge_attr=[1434, 3], edge_index=[2, 1434], ptr=[33], x=[677, 9], y=[32, 1]))\n",
            "(973, Batch(batch=[810], edge_attr=[1726, 3], edge_index=[2, 1726], ptr=[33], x=[810, 9], y=[32, 1]))\n",
            "(974, Batch(batch=[811], edge_attr=[1698, 3], edge_index=[2, 1698], ptr=[33], x=[811, 9], y=[32, 1]))\n",
            "(975, Batch(batch=[819], edge_attr=[1760, 3], edge_index=[2, 1760], ptr=[33], x=[819, 9], y=[32, 1]))\n",
            "(976, Batch(batch=[747], edge_attr=[1610, 3], edge_index=[2, 1610], ptr=[33], x=[747, 9], y=[32, 1]))\n",
            "(977, Batch(batch=[776], edge_attr=[1662, 3], edge_index=[2, 1662], ptr=[33], x=[776, 9], y=[32, 1]))\n",
            "(978, Batch(batch=[925], edge_attr=[1988, 3], edge_index=[2, 1988], ptr=[33], x=[925, 9], y=[32, 1]))\n",
            "(979, Batch(batch=[844], edge_attr=[1784, 3], edge_index=[2, 1784], ptr=[33], x=[844, 9], y=[32, 1]))\n",
            "(980, Batch(batch=[793], edge_attr=[1694, 3], edge_index=[2, 1694], ptr=[33], x=[793, 9], y=[32, 1]))\n",
            "(981, Batch(batch=[804], edge_attr=[1726, 3], edge_index=[2, 1726], ptr=[33], x=[804, 9], y=[32, 1]))\n",
            "(982, Batch(batch=[974], edge_attr=[2094, 3], edge_index=[2, 2094], ptr=[33], x=[974, 9], y=[32, 1]))\n",
            "(983, Batch(batch=[773], edge_attr=[1660, 3], edge_index=[2, 1660], ptr=[33], x=[773, 9], y=[32, 1]))\n",
            "(984, Batch(batch=[845], edge_attr=[1794, 3], edge_index=[2, 1794], ptr=[33], x=[845, 9], y=[32, 1]))\n",
            "(985, Batch(batch=[684], edge_attr=[1454, 3], edge_index=[2, 1454], ptr=[33], x=[684, 9], y=[32, 1]))\n",
            "(986, Batch(batch=[853], edge_attr=[1838, 3], edge_index=[2, 1838], ptr=[33], x=[853, 9], y=[32, 1]))\n",
            "(987, Batch(batch=[801], edge_attr=[1712, 3], edge_index=[2, 1712], ptr=[33], x=[801, 9], y=[32, 1]))\n",
            "(988, Batch(batch=[751], edge_attr=[1596, 3], edge_index=[2, 1596], ptr=[33], x=[751, 9], y=[32, 1]))\n",
            "(989, Batch(batch=[822], edge_attr=[1730, 3], edge_index=[2, 1730], ptr=[33], x=[822, 9], y=[32, 1]))\n",
            "(990, Batch(batch=[813], edge_attr=[1744, 3], edge_index=[2, 1744], ptr=[33], x=[813, 9], y=[32, 1]))\n",
            "(991, Batch(batch=[718], edge_attr=[1550, 3], edge_index=[2, 1550], ptr=[33], x=[718, 9], y=[32, 1]))\n",
            "(992, Batch(batch=[759], edge_attr=[1602, 3], edge_index=[2, 1602], ptr=[33], x=[759, 9], y=[32, 1]))\n",
            "(993, Batch(batch=[854], edge_attr=[1810, 3], edge_index=[2, 1810], ptr=[33], x=[854, 9], y=[32, 1]))\n",
            "(994, Batch(batch=[748], edge_attr=[1614, 3], edge_index=[2, 1614], ptr=[33], x=[748, 9], y=[32, 1]))\n",
            "(995, Batch(batch=[842], edge_attr=[1788, 3], edge_index=[2, 1788], ptr=[33], x=[842, 9], y=[32, 1]))\n",
            "(996, Batch(batch=[791], edge_attr=[1702, 3], edge_index=[2, 1702], ptr=[33], x=[791, 9], y=[32, 1]))\n",
            "(997, Batch(batch=[821], edge_attr=[1760, 3], edge_index=[2, 1760], ptr=[33], x=[821, 9], y=[32, 1]))\n",
            "(998, Batch(batch=[787], edge_attr=[1702, 3], edge_index=[2, 1702], ptr=[33], x=[787, 9], y=[32, 1]))\n",
            "(999, Batch(batch=[857], edge_attr=[1824, 3], edge_index=[2, 1824], ptr=[33], x=[857, 9], y=[32, 1]))\n",
            "(1000, Batch(batch=[1006], edge_attr=[2132, 3], edge_index=[2, 2132], ptr=[33], x=[1006, 9], y=[32, 1]))\n",
            "(1001, Batch(batch=[831], edge_attr=[1790, 3], edge_index=[2, 1790], ptr=[33], x=[831, 9], y=[32, 1]))\n",
            "(1002, Batch(batch=[823], edge_attr=[1738, 3], edge_index=[2, 1738], ptr=[33], x=[823, 9], y=[32, 1]))\n",
            "(1003, Batch(batch=[680], edge_attr=[1442, 3], edge_index=[2, 1442], ptr=[33], x=[680, 9], y=[32, 1]))\n",
            "(1004, Batch(batch=[797], edge_attr=[1704, 3], edge_index=[2, 1704], ptr=[33], x=[797, 9], y=[32, 1]))\n",
            "(1005, Batch(batch=[883], edge_attr=[1870, 3], edge_index=[2, 1870], ptr=[33], x=[883, 9], y=[32, 1]))\n",
            "(1006, Batch(batch=[839], edge_attr=[1816, 3], edge_index=[2, 1816], ptr=[33], x=[839, 9], y=[32, 1]))\n",
            "(1007, Batch(batch=[851], edge_attr=[1820, 3], edge_index=[2, 1820], ptr=[33], x=[851, 9], y=[32, 1]))\n",
            "(1008, Batch(batch=[819], edge_attr=[1754, 3], edge_index=[2, 1754], ptr=[33], x=[819, 9], y=[32, 1]))\n",
            "(1009, Batch(batch=[723], edge_attr=[1546, 3], edge_index=[2, 1546], ptr=[33], x=[723, 9], y=[32, 1]))\n",
            "(1010, Batch(batch=[805], edge_attr=[1744, 3], edge_index=[2, 1744], ptr=[33], x=[805, 9], y=[32, 1]))\n",
            "(1011, Batch(batch=[780], edge_attr=[1676, 3], edge_index=[2, 1676], ptr=[33], x=[780, 9], y=[32, 1]))\n",
            "(1012, Batch(batch=[835], edge_attr=[1778, 3], edge_index=[2, 1778], ptr=[33], x=[835, 9], y=[32, 1]))\n",
            "(1013, Batch(batch=[907], edge_attr=[1926, 3], edge_index=[2, 1926], ptr=[33], x=[907, 9], y=[32, 1]))\n",
            "(1014, Batch(batch=[793], edge_attr=[1684, 3], edge_index=[2, 1684], ptr=[33], x=[793, 9], y=[32, 1]))\n",
            "(1015, Batch(batch=[824], edge_attr=[1774, 3], edge_index=[2, 1774], ptr=[33], x=[824, 9], y=[32, 1]))\n",
            "(1016, Batch(batch=[820], edge_attr=[1780, 3], edge_index=[2, 1780], ptr=[33], x=[820, 9], y=[32, 1]))\n",
            "(1017, Batch(batch=[759], edge_attr=[1628, 3], edge_index=[2, 1628], ptr=[33], x=[759, 9], y=[32, 1]))\n",
            "(1018, Batch(batch=[821], edge_attr=[1750, 3], edge_index=[2, 1750], ptr=[33], x=[821, 9], y=[32, 1]))\n",
            "(1019, Batch(batch=[813], edge_attr=[1750, 3], edge_index=[2, 1750], ptr=[33], x=[813, 9], y=[32, 1]))\n",
            "(1020, Batch(batch=[731], edge_attr=[1562, 3], edge_index=[2, 1562], ptr=[33], x=[731, 9], y=[32, 1]))\n",
            "(1021, Batch(batch=[698], edge_attr=[1490, 3], edge_index=[2, 1490], ptr=[33], x=[698, 9], y=[32, 1]))\n",
            "(1022, Batch(batch=[688], edge_attr=[1490, 3], edge_index=[2, 1490], ptr=[33], x=[688, 9], y=[32, 1]))\n",
            "(1023, Batch(batch=[723], edge_attr=[1546, 3], edge_index=[2, 1546], ptr=[33], x=[723, 9], y=[32, 1]))\n",
            "(1024, Batch(batch=[890], edge_attr=[1926, 3], edge_index=[2, 1926], ptr=[33], x=[890, 9], y=[32, 1]))\n",
            "(1025, Batch(batch=[793], edge_attr=[1686, 3], edge_index=[2, 1686], ptr=[33], x=[793, 9], y=[32, 1]))\n",
            "(1026, Batch(batch=[871], edge_attr=[1856, 3], edge_index=[2, 1856], ptr=[33], x=[871, 9], y=[32, 1]))\n",
            "(1027, Batch(batch=[816], edge_attr=[1746, 3], edge_index=[2, 1746], ptr=[33], x=[816, 9], y=[32, 1]))\n",
            "(1028, Batch(batch=[102], edge_attr=[216, 3], edge_index=[2, 216], ptr=[6], x=[102, 9], y=[5, 1]))\n"
          ]
        }
      ],
      "source": [
        "for i in enumerate(train_loader):\n",
        "    print(i)"
      ]
    },
    {
      "cell_type": "code",
      "execution_count": 24,
      "metadata": {
        "id": "AYrSnOj0Y4DK"
      },
      "outputs": [
        {
          "name": "stdout",
          "output_type": "stream",
          "text": [
            "{'device': 'cuda', 'num_layers': 5, 'hidden_dim': 256, 'dropout': 0.5, 'lr': 0.001, 'epochs': 30}\n"
          ]
        }
      ],
      "source": [
        "if 'IS_GRADESCOPE_ENV' not in os.environ:\n",
        "  # Please do not change the args\n",
        "  args = {\n",
        "      'device': device,\n",
        "      'num_layers': 5,\n",
        "      'hidden_dim': 256,\n",
        "      'dropout': 0.5,\n",
        "      'lr': 0.001,\n",
        "      'epochs': 30,\n",
        "  }\n",
        "  print(args)"
      ]
    },
    {
      "cell_type": "markdown",
      "metadata": {
        "id": "7WLhguSTeazy"
      },
      "source": [
        "## Graph Prediction Model"
      ]
    },
    {
      "cell_type": "markdown",
      "metadata": {
        "id": "u05Z14TRYPGn"
      },
      "source": [
        "### Graph Mini-Batching\n",
        "Before diving into the actual model, we introduce the concept of mini-batching with graphs. In order to parallelize the processing of a mini-batch of graphs, PyG combines the graphs into a single disconnected graph data object (*torch_geometric.data.Batch*). *torch_geometric.data.Batch* inherits from *torch_geometric.data.Data* (introduced earlier) and contains an additional attribute called `batch`. \n",
        "\n",
        "The `batch` attribute is a vector mapping each node to the index of its corresponding graph within the mini-batch:\n",
        "\n",
        "    batch = [0, ..., 0, 1, ..., n - 2, n - 1, ..., n - 1]\n",
        "\n",
        "This attribute is crucial for associating which graph each node belongs to and can be used to e.g. average the node embeddings for each graph individually to compute graph level embeddings. \n",
        "\n"
      ]
    },
    {
      "cell_type": "markdown",
      "metadata": {
        "id": "Pcic9NNU3nGK"
      },
      "source": [
        "### Implemention\n",
        "Now, we have all of the tools to implement a GCN Graph Prediction model!  \n",
        "\n",
        "We will reuse the existing GCN model to generate `node_embeddings` and then use  `Global Pooling` over the nodes to create graph level embeddings that can be used to predict properties for the each graph. Remeber that the `batch` attribute will be essential for performining Global Pooling over our mini-batch of graphs."
      ]
    },
    {
      "cell_type": "code",
      "execution_count": 25,
      "metadata": {
        "id": "3_Kq3zyjeZ22"
      },
      "outputs": [],
      "source": [
        "from ogb.graphproppred.mol_encoder import AtomEncoder\n",
        "from torch_geometric.nn import global_add_pool, global_mean_pool\n",
        "\n",
        "### GCN to predict graph property\n",
        "class GCN_Graph(torch.nn.Module):\n",
        "    def __init__(self, hidden_dim, output_dim, num_layers, dropout):\n",
        "        super(GCN_Graph, self).__init__()\n",
        "\n",
        "        # Load encoders for Atoms in molecule graphs\n",
        "        self.node_encoder = AtomEncoder(hidden_dim)\n",
        "\n",
        "        # Node embedding model\n",
        "        # Note that the input_dim and output_dim are set to hidden_dim\n",
        "        self.gnn_node = GCN(hidden_dim, hidden_dim,\n",
        "            hidden_dim, num_layers, dropout, return_embeds=True)\n",
        "\n",
        "        self.pool = global_mean_pool    ###\n",
        "\n",
        "        ############# Your code here ############\n",
        "        ## Note:\n",
        "        ## 1. Initialize self.pool as a global mean pooling layer\n",
        "        ## For more information please refer to the documentation:\n",
        "        ## https://pytorch-geometric.readthedocs.io/en/latest/modules/nn.html#global-pooling-layers\n",
        "\n",
        "        #########################################\n",
        "\n",
        "        # Output layer\n",
        "        self.linear = torch.nn.Linear(hidden_dim, output_dim)\n",
        "\n",
        "\n",
        "    def reset_parameters(self):\n",
        "      self.gnn_node.reset_parameters()\n",
        "      self.linear.reset_parameters()\n",
        "\n",
        "    def forward(self, batched_data):\n",
        "        # TODO: Implement a function that takes as input a \n",
        "        # mini-batch of graphs (torch_geometric.data.Batch) and \n",
        "        # returns the predicted graph property for each graph. \n",
        "        #\n",
        "        # NOTE: Since we are predicting graph level properties,\n",
        "        # your output will be a tensor with dimension equaling\n",
        "        # the number of graphs in the mini-batch\n",
        "\n",
        "    \n",
        "        # Extract important attributes of our mini-batch\n",
        "        x, edge_index, batch = batched_data.x, batched_data.edge_index, batched_data.batch\n",
        "        embed = self.node_encoder(x)\n",
        "\n",
        "        out = None\n",
        "\n",
        "        ############# Your code here ############\n",
        "        ## Note:\n",
        "        ## 1. Construct node embeddings using existing GCN model\n",
        "        ## 2. Use the global pooling layer to aggregate features for each individual graph\n",
        "        ## For more information please refer to the documentation:\n",
        "        ## https://pytorch-geometric.readthedocs.io/en/latest/modules/nn.html#global-pooling-layers\n",
        "        ## 3. Use a linear layer to predict each graph's property\n",
        "        ## (~3 lines of code)\n",
        "        embed = self.gnn_node(embed, edge_index)\n",
        "        features = self.pool(embed, batch)\n",
        "        out = self.linear(features)\n",
        "        \n",
        "        #########################################\n",
        "\n",
        "        return out"
      ]
    },
    {
      "cell_type": "code",
      "execution_count": 26,
      "metadata": {
        "id": "FJjnGuMSbjX0"
      },
      "outputs": [],
      "source": [
        "def train(model, device, data_loader, optimizer, loss_fn):\n",
        "    # TODO: Implement a function that trains your model by \n",
        "    # using the given optimizer and loss_fn.\n",
        "    model.train()\n",
        "    loss = 0\n",
        "\n",
        "    for step, batch in enumerate(tqdm(data_loader, desc=\"Iteration\")):\n",
        "      batch = batch.to(device)\n",
        "\n",
        "      if batch.x.shape[0] == 1 or batch.batch[-1] == 0:\n",
        "          pass\n",
        "      else:\n",
        "        ## ignore nan targets (unlabeled) when computing training loss.\n",
        "        is_labeled = batch.y == batch.y     #둘다 nan이면 false\n",
        "\n",
        "        ############# Your code here ############\n",
        "        ## Note:\n",
        "        ## 1. Zero grad the optimizer\n",
        "        ## 2. Feed the data into the model\n",
        "        ## 3. Use `is_labeled` mask to filter output and labels\n",
        "        ## 4. You may need to change the type of label to torch.float32\n",
        "        ## 5. Feed the output and label to the loss_fn\n",
        "        ## (~3 lines of code)\n",
        "        optimizer.zero_grad()\n",
        "        out = model(batch)\n",
        "        loss = loss_fn(out[is_labeled], batch.y[is_labeled].float())\n",
        "        #########################################\n",
        "\n",
        "        loss.backward()\n",
        "        optimizer.step()\n",
        "\n",
        "    return loss.item()"
      ]
    },
    {
      "cell_type": "code",
      "execution_count": 27,
      "metadata": {
        "id": "ztPHXq_Gzn7U"
      },
      "outputs": [],
      "source": [
        "# The evaluation function\n",
        "def eval(model, device, loader, evaluator, save_model_results=False, save_file=None):\n",
        "    model.eval()\n",
        "    y_true = []\n",
        "    y_pred = []\n",
        "\n",
        "    for step, batch in enumerate(tqdm(loader, desc=\"Iteration\")):\n",
        "        batch = batch.to(device)\n",
        "\n",
        "        if batch.x.shape[0] == 1:\n",
        "            pass\n",
        "        else:\n",
        "            with torch.no_grad():\n",
        "                pred = model(batch)\n",
        "\n",
        "            y_true.append(batch.y.view(pred.shape).detach().cpu())\n",
        "            y_pred.append(pred.detach().cpu())\n",
        "\n",
        "    y_true = torch.cat(y_true, dim = 0).numpy()\n",
        "    y_pred = torch.cat(y_pred, dim = 0).numpy()\n",
        "\n",
        "    input_dict = {\"y_true\": y_true, \"y_pred\": y_pred}\n",
        "\n",
        "    if save_model_results:\n",
        "        print (\"Saving Model Predictions\")\n",
        "        \n",
        "        # Create a pandas dataframe with a two columns\n",
        "        # y_pred | y_true\n",
        "        data = {}\n",
        "        data['y_pred'] = y_pred.reshape(-1)\n",
        "        data['y_true'] = y_true.reshape(-1)\n",
        "\n",
        "        df = pd.DataFrame(data=data)\n",
        "        # Save to csv\n",
        "        df.to_csv('ogbg-molhiv_graph_' + save_file + '.csv', sep=',', index=False)\n",
        "\n",
        "    return evaluator.eval(input_dict)"
      ]
    },
    {
      "cell_type": "code",
      "execution_count": 28,
      "metadata": {
        "id": "MR1wQ4hMZeMw"
      },
      "outputs": [],
      "source": [
        "if 'IS_GRADESCOPE_ENV' not in os.environ:\n",
        "  model = GCN_Graph(args['hidden_dim'],\n",
        "              dataset.num_tasks, args['num_layers'],\n",
        "              args['dropout']).to(device)\n",
        "  evaluator = Evaluator(name='ogbg-molhiv')"
      ]
    },
    {
      "cell_type": "code",
      "execution_count": 29,
      "metadata": {
        "id": "qJGTNZiuZy0A"
      },
      "outputs": [
        {
          "name": "stdout",
          "output_type": "stream",
          "text": [
            "Training...\n"
          ]
        },
        {
          "data": {
            "application/vnd.jupyter.widget-view+json": {
              "model_id": "c825ecc4a892479c8cf7b5a064f9df13",
              "version_major": 2,
              "version_minor": 0
            },
            "text/plain": [
              "Iteration:   0%|          | 0/1029 [00:00<?, ?it/s]"
            ]
          },
          "metadata": {},
          "output_type": "display_data"
        },
        {
          "name": "stdout",
          "output_type": "stream",
          "text": [
            "Evaluating...\n"
          ]
        },
        {
          "data": {
            "application/vnd.jupyter.widget-view+json": {
              "model_id": "16b1f6a1d776410fbc0fabc5013ef420",
              "version_major": 2,
              "version_minor": 0
            },
            "text/plain": [
              "Iteration:   0%|          | 0/1029 [00:00<?, ?it/s]"
            ]
          },
          "metadata": {},
          "output_type": "display_data"
        },
        {
          "data": {
            "application/vnd.jupyter.widget-view+json": {
              "model_id": "0d341c79a7794d28a964d2ebfea2aad1",
              "version_major": 2,
              "version_minor": 0
            },
            "text/plain": [
              "Iteration:   0%|          | 0/129 [00:00<?, ?it/s]"
            ]
          },
          "metadata": {},
          "output_type": "display_data"
        },
        {
          "data": {
            "application/vnd.jupyter.widget-view+json": {
              "model_id": "4b3e3e14213544c3815d54a51bcabe4e",
              "version_major": 2,
              "version_minor": 0
            },
            "text/plain": [
              "Iteration:   0%|          | 0/129 [00:00<?, ?it/s]"
            ]
          },
          "metadata": {},
          "output_type": "display_data"
        },
        {
          "name": "stdout",
          "output_type": "stream",
          "text": [
            "Epoch: 01, Loss: 0.0305, Train: 72.76%, Valid: 76.87% Test: 70.74%\n",
            "Training...\n"
          ]
        },
        {
          "data": {
            "application/vnd.jupyter.widget-view+json": {
              "model_id": "aa04505691c5477bb3fefb97634f5386",
              "version_major": 2,
              "version_minor": 0
            },
            "text/plain": [
              "Iteration:   0%|          | 0/1029 [00:00<?, ?it/s]"
            ]
          },
          "metadata": {},
          "output_type": "display_data"
        },
        {
          "name": "stdout",
          "output_type": "stream",
          "text": [
            "Evaluating...\n"
          ]
        },
        {
          "data": {
            "application/vnd.jupyter.widget-view+json": {
              "model_id": "2efcf150b7a54b26b9133365aca6cd69",
              "version_major": 2,
              "version_minor": 0
            },
            "text/plain": [
              "Iteration:   0%|          | 0/1029 [00:00<?, ?it/s]"
            ]
          },
          "metadata": {},
          "output_type": "display_data"
        },
        {
          "data": {
            "application/vnd.jupyter.widget-view+json": {
              "model_id": "66e063d6e9b24a88b0463fee1ace5893",
              "version_major": 2,
              "version_minor": 0
            },
            "text/plain": [
              "Iteration:   0%|          | 0/129 [00:00<?, ?it/s]"
            ]
          },
          "metadata": {},
          "output_type": "display_data"
        },
        {
          "data": {
            "application/vnd.jupyter.widget-view+json": {
              "model_id": "d67c3801e42c40c09d95de71f4beba12",
              "version_major": 2,
              "version_minor": 0
            },
            "text/plain": [
              "Iteration:   0%|          | 0/129 [00:00<?, ?it/s]"
            ]
          },
          "metadata": {},
          "output_type": "display_data"
        },
        {
          "name": "stdout",
          "output_type": "stream",
          "text": [
            "Epoch: 02, Loss: 0.0277, Train: 74.49%, Valid: 72.78% Test: 71.80%\n",
            "Training...\n"
          ]
        },
        {
          "data": {
            "application/vnd.jupyter.widget-view+json": {
              "model_id": "7c1620bf179a44959eae966e05fa126d",
              "version_major": 2,
              "version_minor": 0
            },
            "text/plain": [
              "Iteration:   0%|          | 0/1029 [00:00<?, ?it/s]"
            ]
          },
          "metadata": {},
          "output_type": "display_data"
        },
        {
          "name": "stdout",
          "output_type": "stream",
          "text": [
            "Evaluating...\n"
          ]
        },
        {
          "data": {
            "application/vnd.jupyter.widget-view+json": {
              "model_id": "583a7d151ee44caa939f97a50e277bbf",
              "version_major": 2,
              "version_minor": 0
            },
            "text/plain": [
              "Iteration:   0%|          | 0/1029 [00:00<?, ?it/s]"
            ]
          },
          "metadata": {},
          "output_type": "display_data"
        },
        {
          "data": {
            "application/vnd.jupyter.widget-view+json": {
              "model_id": "abbbb1ca79d9451aaf2ced1d1a59c9f6",
              "version_major": 2,
              "version_minor": 0
            },
            "text/plain": [
              "Iteration:   0%|          | 0/129 [00:00<?, ?it/s]"
            ]
          },
          "metadata": {},
          "output_type": "display_data"
        },
        {
          "data": {
            "application/vnd.jupyter.widget-view+json": {
              "model_id": "101c235ed1ee4f1999b9311ffb247a84",
              "version_major": 2,
              "version_minor": 0
            },
            "text/plain": [
              "Iteration:   0%|          | 0/129 [00:00<?, ?it/s]"
            ]
          },
          "metadata": {},
          "output_type": "display_data"
        },
        {
          "name": "stdout",
          "output_type": "stream",
          "text": [
            "Epoch: 03, Loss: 0.0236, Train: 75.64%, Valid: 69.65% Test: 70.90%\n",
            "Training...\n"
          ]
        },
        {
          "data": {
            "application/vnd.jupyter.widget-view+json": {
              "model_id": "a357864e5e8c44f0993fd77954e19c9a",
              "version_major": 2,
              "version_minor": 0
            },
            "text/plain": [
              "Iteration:   0%|          | 0/1029 [00:00<?, ?it/s]"
            ]
          },
          "metadata": {},
          "output_type": "display_data"
        },
        {
          "name": "stdout",
          "output_type": "stream",
          "text": [
            "Evaluating...\n"
          ]
        },
        {
          "data": {
            "application/vnd.jupyter.widget-view+json": {
              "model_id": "85a7718c03884cb7b19c5b9fb7f82e8a",
              "version_major": 2,
              "version_minor": 0
            },
            "text/plain": [
              "Iteration:   0%|          | 0/1029 [00:00<?, ?it/s]"
            ]
          },
          "metadata": {},
          "output_type": "display_data"
        },
        {
          "data": {
            "application/vnd.jupyter.widget-view+json": {
              "model_id": "66714b596a844dba9be531f2288c3601",
              "version_major": 2,
              "version_minor": 0
            },
            "text/plain": [
              "Iteration:   0%|          | 0/129 [00:00<?, ?it/s]"
            ]
          },
          "metadata": {},
          "output_type": "display_data"
        },
        {
          "data": {
            "application/vnd.jupyter.widget-view+json": {
              "model_id": "84aac85fdd4a46739e03e0763cc198d7",
              "version_major": 2,
              "version_minor": 0
            },
            "text/plain": [
              "Iteration:   0%|          | 0/129 [00:00<?, ?it/s]"
            ]
          },
          "metadata": {},
          "output_type": "display_data"
        },
        {
          "name": "stdout",
          "output_type": "stream",
          "text": [
            "Epoch: 04, Loss: 0.0610, Train: 76.97%, Valid: 75.43% Test: 72.49%\n",
            "Training...\n"
          ]
        },
        {
          "data": {
            "application/vnd.jupyter.widget-view+json": {
              "model_id": "9c55b93bf054411dbb8bc7e958c4ff9e",
              "version_major": 2,
              "version_minor": 0
            },
            "text/plain": [
              "Iteration:   0%|          | 0/1029 [00:00<?, ?it/s]"
            ]
          },
          "metadata": {},
          "output_type": "display_data"
        },
        {
          "name": "stdout",
          "output_type": "stream",
          "text": [
            "Evaluating...\n"
          ]
        },
        {
          "data": {
            "application/vnd.jupyter.widget-view+json": {
              "model_id": "5b0eca0425a644e79439f2bc4e14677b",
              "version_major": 2,
              "version_minor": 0
            },
            "text/plain": [
              "Iteration:   0%|          | 0/1029 [00:00<?, ?it/s]"
            ]
          },
          "metadata": {},
          "output_type": "display_data"
        },
        {
          "data": {
            "application/vnd.jupyter.widget-view+json": {
              "model_id": "52bd3cec0a5e48539c5cd058bfacd4df",
              "version_major": 2,
              "version_minor": 0
            },
            "text/plain": [
              "Iteration:   0%|          | 0/129 [00:00<?, ?it/s]"
            ]
          },
          "metadata": {},
          "output_type": "display_data"
        },
        {
          "data": {
            "application/vnd.jupyter.widget-view+json": {
              "model_id": "6add5588a5ba436db71b6275dee09c1f",
              "version_major": 2,
              "version_minor": 0
            },
            "text/plain": [
              "Iteration:   0%|          | 0/129 [00:00<?, ?it/s]"
            ]
          },
          "metadata": {},
          "output_type": "display_data"
        },
        {
          "name": "stdout",
          "output_type": "stream",
          "text": [
            "Epoch: 05, Loss: 0.0378, Train: 78.16%, Valid: 77.86% Test: 70.72%\n",
            "Training...\n"
          ]
        },
        {
          "data": {
            "application/vnd.jupyter.widget-view+json": {
              "model_id": "cce5ac0f4bd548e89c57296545c91c7b",
              "version_major": 2,
              "version_minor": 0
            },
            "text/plain": [
              "Iteration:   0%|          | 0/1029 [00:00<?, ?it/s]"
            ]
          },
          "metadata": {},
          "output_type": "display_data"
        },
        {
          "name": "stdout",
          "output_type": "stream",
          "text": [
            "Evaluating...\n"
          ]
        },
        {
          "data": {
            "application/vnd.jupyter.widget-view+json": {
              "model_id": "8a1367f7d6074eeb97a39ba2fa66a8dd",
              "version_major": 2,
              "version_minor": 0
            },
            "text/plain": [
              "Iteration:   0%|          | 0/1029 [00:00<?, ?it/s]"
            ]
          },
          "metadata": {},
          "output_type": "display_data"
        },
        {
          "data": {
            "application/vnd.jupyter.widget-view+json": {
              "model_id": "1ac3989c011c42bf9643a242474c7f82",
              "version_major": 2,
              "version_minor": 0
            },
            "text/plain": [
              "Iteration:   0%|          | 0/129 [00:00<?, ?it/s]"
            ]
          },
          "metadata": {},
          "output_type": "display_data"
        },
        {
          "data": {
            "application/vnd.jupyter.widget-view+json": {
              "model_id": "c2f5064fe68c47668abce84e251b5480",
              "version_major": 2,
              "version_minor": 0
            },
            "text/plain": [
              "Iteration:   0%|          | 0/129 [00:00<?, ?it/s]"
            ]
          },
          "metadata": {},
          "output_type": "display_data"
        },
        {
          "name": "stdout",
          "output_type": "stream",
          "text": [
            "Epoch: 06, Loss: 0.0257, Train: 78.31%, Valid: 77.76% Test: 71.17%\n",
            "Training...\n"
          ]
        },
        {
          "data": {
            "application/vnd.jupyter.widget-view+json": {
              "model_id": "02d0ffb94b3a45ed982765a227001962",
              "version_major": 2,
              "version_minor": 0
            },
            "text/plain": [
              "Iteration:   0%|          | 0/1029 [00:00<?, ?it/s]"
            ]
          },
          "metadata": {},
          "output_type": "display_data"
        },
        {
          "name": "stdout",
          "output_type": "stream",
          "text": [
            "Evaluating...\n"
          ]
        },
        {
          "data": {
            "application/vnd.jupyter.widget-view+json": {
              "model_id": "1dde84a94bf042ddaa4cc4ee634b4aee",
              "version_major": 2,
              "version_minor": 0
            },
            "text/plain": [
              "Iteration:   0%|          | 0/1029 [00:00<?, ?it/s]"
            ]
          },
          "metadata": {},
          "output_type": "display_data"
        },
        {
          "data": {
            "application/vnd.jupyter.widget-view+json": {
              "model_id": "8c66a7f6e844473592eae274e2a68496",
              "version_major": 2,
              "version_minor": 0
            },
            "text/plain": [
              "Iteration:   0%|          | 0/129 [00:00<?, ?it/s]"
            ]
          },
          "metadata": {},
          "output_type": "display_data"
        },
        {
          "data": {
            "application/vnd.jupyter.widget-view+json": {
              "model_id": "9da7716900284263bb7a7d55692e4ad3",
              "version_major": 2,
              "version_minor": 0
            },
            "text/plain": [
              "Iteration:   0%|          | 0/129 [00:00<?, ?it/s]"
            ]
          },
          "metadata": {},
          "output_type": "display_data"
        },
        {
          "name": "stdout",
          "output_type": "stream",
          "text": [
            "Epoch: 07, Loss: 0.0635, Train: 78.66%, Valid: 71.59% Test: 69.39%\n",
            "Training...\n"
          ]
        },
        {
          "data": {
            "application/vnd.jupyter.widget-view+json": {
              "model_id": "faf59ae8f4a049ebb69b1b4b3a3deaf8",
              "version_major": 2,
              "version_minor": 0
            },
            "text/plain": [
              "Iteration:   0%|          | 0/1029 [00:00<?, ?it/s]"
            ]
          },
          "metadata": {},
          "output_type": "display_data"
        },
        {
          "name": "stdout",
          "output_type": "stream",
          "text": [
            "Evaluating...\n"
          ]
        },
        {
          "data": {
            "application/vnd.jupyter.widget-view+json": {
              "model_id": "114bba4b9159468fb6c8585eef74e192",
              "version_major": 2,
              "version_minor": 0
            },
            "text/plain": [
              "Iteration:   0%|          | 0/1029 [00:00<?, ?it/s]"
            ]
          },
          "metadata": {},
          "output_type": "display_data"
        },
        {
          "data": {
            "application/vnd.jupyter.widget-view+json": {
              "model_id": "1303064e417f4cad8b6c14f911b27dc7",
              "version_major": 2,
              "version_minor": 0
            },
            "text/plain": [
              "Iteration:   0%|          | 0/129 [00:00<?, ?it/s]"
            ]
          },
          "metadata": {},
          "output_type": "display_data"
        },
        {
          "data": {
            "application/vnd.jupyter.widget-view+json": {
              "model_id": "d89dfca46b3240219ddbbdc2b0f71847",
              "version_major": 2,
              "version_minor": 0
            },
            "text/plain": [
              "Iteration:   0%|          | 0/129 [00:00<?, ?it/s]"
            ]
          },
          "metadata": {},
          "output_type": "display_data"
        },
        {
          "name": "stdout",
          "output_type": "stream",
          "text": [
            "Epoch: 08, Loss: 0.3176, Train: 79.52%, Valid: 78.27% Test: 70.54%\n",
            "Training...\n"
          ]
        },
        {
          "data": {
            "application/vnd.jupyter.widget-view+json": {
              "model_id": "a28f9ad4c0be4299a90c3c9999de38f4",
              "version_major": 2,
              "version_minor": 0
            },
            "text/plain": [
              "Iteration:   0%|          | 0/1029 [00:00<?, ?it/s]"
            ]
          },
          "metadata": {},
          "output_type": "display_data"
        },
        {
          "name": "stdout",
          "output_type": "stream",
          "text": [
            "Evaluating...\n"
          ]
        },
        {
          "data": {
            "application/vnd.jupyter.widget-view+json": {
              "model_id": "7f4aaa1877634cd5aa2b35683ecf8e37",
              "version_major": 2,
              "version_minor": 0
            },
            "text/plain": [
              "Iteration:   0%|          | 0/1029 [00:00<?, ?it/s]"
            ]
          },
          "metadata": {},
          "output_type": "display_data"
        },
        {
          "data": {
            "application/vnd.jupyter.widget-view+json": {
              "model_id": "61f60f48dad14584aae33cac6efcc1fc",
              "version_major": 2,
              "version_minor": 0
            },
            "text/plain": [
              "Iteration:   0%|          | 0/129 [00:00<?, ?it/s]"
            ]
          },
          "metadata": {},
          "output_type": "display_data"
        },
        {
          "data": {
            "application/vnd.jupyter.widget-view+json": {
              "model_id": "14b074e40b1948789053f8f3b23a6bd8",
              "version_major": 2,
              "version_minor": 0
            },
            "text/plain": [
              "Iteration:   0%|          | 0/129 [00:00<?, ?it/s]"
            ]
          },
          "metadata": {},
          "output_type": "display_data"
        },
        {
          "name": "stdout",
          "output_type": "stream",
          "text": [
            "Epoch: 09, Loss: 0.8415, Train: 77.01%, Valid: 76.08% Test: 67.38%\n",
            "Training...\n"
          ]
        },
        {
          "data": {
            "application/vnd.jupyter.widget-view+json": {
              "model_id": "1e647720aecc4b83a070bd3bbfed52d3",
              "version_major": 2,
              "version_minor": 0
            },
            "text/plain": [
              "Iteration:   0%|          | 0/1029 [00:00<?, ?it/s]"
            ]
          },
          "metadata": {},
          "output_type": "display_data"
        },
        {
          "name": "stdout",
          "output_type": "stream",
          "text": [
            "Evaluating...\n"
          ]
        },
        {
          "data": {
            "application/vnd.jupyter.widget-view+json": {
              "model_id": "ffab662944174a3dbcaec4cc83547aea",
              "version_major": 2,
              "version_minor": 0
            },
            "text/plain": [
              "Iteration:   0%|          | 0/1029 [00:00<?, ?it/s]"
            ]
          },
          "metadata": {},
          "output_type": "display_data"
        },
        {
          "data": {
            "application/vnd.jupyter.widget-view+json": {
              "model_id": "7c5b37ab41404c48aef8d010065d982f",
              "version_major": 2,
              "version_minor": 0
            },
            "text/plain": [
              "Iteration:   0%|          | 0/129 [00:00<?, ?it/s]"
            ]
          },
          "metadata": {},
          "output_type": "display_data"
        },
        {
          "data": {
            "application/vnd.jupyter.widget-view+json": {
              "model_id": "7aa5a04e81df4df7bfe3fe5583a8e741",
              "version_major": 2,
              "version_minor": 0
            },
            "text/plain": [
              "Iteration:   0%|          | 0/129 [00:00<?, ?it/s]"
            ]
          },
          "metadata": {},
          "output_type": "display_data"
        },
        {
          "name": "stdout",
          "output_type": "stream",
          "text": [
            "Epoch: 10, Loss: 0.0165, Train: 78.99%, Valid: 72.58% Test: 71.34%\n",
            "Training...\n"
          ]
        },
        {
          "data": {
            "application/vnd.jupyter.widget-view+json": {
              "model_id": "087ff589d5a44709a77e065a2fc75c50",
              "version_major": 2,
              "version_minor": 0
            },
            "text/plain": [
              "Iteration:   0%|          | 0/1029 [00:00<?, ?it/s]"
            ]
          },
          "metadata": {},
          "output_type": "display_data"
        },
        {
          "name": "stdout",
          "output_type": "stream",
          "text": [
            "Evaluating...\n"
          ]
        },
        {
          "data": {
            "application/vnd.jupyter.widget-view+json": {
              "model_id": "5e4b2701872d4bbbbe34fdcd5bc19de4",
              "version_major": 2,
              "version_minor": 0
            },
            "text/plain": [
              "Iteration:   0%|          | 0/1029 [00:00<?, ?it/s]"
            ]
          },
          "metadata": {},
          "output_type": "display_data"
        },
        {
          "data": {
            "application/vnd.jupyter.widget-view+json": {
              "model_id": "32454fc8b56e44c4923c60e5d8ef54ba",
              "version_major": 2,
              "version_minor": 0
            },
            "text/plain": [
              "Iteration:   0%|          | 0/129 [00:00<?, ?it/s]"
            ]
          },
          "metadata": {},
          "output_type": "display_data"
        },
        {
          "data": {
            "application/vnd.jupyter.widget-view+json": {
              "model_id": "6a18f9be30b84222a59fe568ad005ff9",
              "version_major": 2,
              "version_minor": 0
            },
            "text/plain": [
              "Iteration:   0%|          | 0/129 [00:00<?, ?it/s]"
            ]
          },
          "metadata": {},
          "output_type": "display_data"
        },
        {
          "name": "stdout",
          "output_type": "stream",
          "text": [
            "Epoch: 11, Loss: 0.0282, Train: 80.36%, Valid: 75.36% Test: 70.67%\n",
            "Training...\n"
          ]
        },
        {
          "data": {
            "application/vnd.jupyter.widget-view+json": {
              "model_id": "68eb44395c9b45df9cfcbdb9d093b2fb",
              "version_major": 2,
              "version_minor": 0
            },
            "text/plain": [
              "Iteration:   0%|          | 0/1029 [00:00<?, ?it/s]"
            ]
          },
          "metadata": {},
          "output_type": "display_data"
        },
        {
          "name": "stdout",
          "output_type": "stream",
          "text": [
            "Evaluating...\n"
          ]
        },
        {
          "data": {
            "application/vnd.jupyter.widget-view+json": {
              "model_id": "085bc8aaa9e54a8f96e9799b281f5964",
              "version_major": 2,
              "version_minor": 0
            },
            "text/plain": [
              "Iteration:   0%|          | 0/1029 [00:00<?, ?it/s]"
            ]
          },
          "metadata": {},
          "output_type": "display_data"
        },
        {
          "data": {
            "application/vnd.jupyter.widget-view+json": {
              "model_id": "b0889919e1214ce9af3225964ff2f7a3",
              "version_major": 2,
              "version_minor": 0
            },
            "text/plain": [
              "Iteration:   0%|          | 0/129 [00:00<?, ?it/s]"
            ]
          },
          "metadata": {},
          "output_type": "display_data"
        },
        {
          "data": {
            "application/vnd.jupyter.widget-view+json": {
              "model_id": "e91edad9a03746d88638c7329c535082",
              "version_major": 2,
              "version_minor": 0
            },
            "text/plain": [
              "Iteration:   0%|          | 0/129 [00:00<?, ?it/s]"
            ]
          },
          "metadata": {},
          "output_type": "display_data"
        },
        {
          "name": "stdout",
          "output_type": "stream",
          "text": [
            "Epoch: 12, Loss: 0.0497, Train: 80.12%, Valid: 73.66% Test: 70.39%\n",
            "Training...\n"
          ]
        },
        {
          "data": {
            "application/vnd.jupyter.widget-view+json": {
              "model_id": "ba6b3c8f6c9e4ba9aec74fffc220f504",
              "version_major": 2,
              "version_minor": 0
            },
            "text/plain": [
              "Iteration:   0%|          | 0/1029 [00:00<?, ?it/s]"
            ]
          },
          "metadata": {},
          "output_type": "display_data"
        },
        {
          "name": "stdout",
          "output_type": "stream",
          "text": [
            "Evaluating...\n"
          ]
        },
        {
          "data": {
            "application/vnd.jupyter.widget-view+json": {
              "model_id": "a1a5115096e14254a6ddf3419d1afe9b",
              "version_major": 2,
              "version_minor": 0
            },
            "text/plain": [
              "Iteration:   0%|          | 0/1029 [00:00<?, ?it/s]"
            ]
          },
          "metadata": {},
          "output_type": "display_data"
        },
        {
          "data": {
            "application/vnd.jupyter.widget-view+json": {
              "model_id": "216cb08942ee4e72b84d64faba84ec31",
              "version_major": 2,
              "version_minor": 0
            },
            "text/plain": [
              "Iteration:   0%|          | 0/129 [00:00<?, ?it/s]"
            ]
          },
          "metadata": {},
          "output_type": "display_data"
        },
        {
          "data": {
            "application/vnd.jupyter.widget-view+json": {
              "model_id": "96148a722a924570838f15f407f6a456",
              "version_major": 2,
              "version_minor": 0
            },
            "text/plain": [
              "Iteration:   0%|          | 0/129 [00:00<?, ?it/s]"
            ]
          },
          "metadata": {},
          "output_type": "display_data"
        },
        {
          "name": "stdout",
          "output_type": "stream",
          "text": [
            "Epoch: 13, Loss: 0.0351, Train: 79.74%, Valid: 75.53% Test: 69.66%\n",
            "Training...\n"
          ]
        },
        {
          "data": {
            "application/vnd.jupyter.widget-view+json": {
              "model_id": "2416677b3b4b4daaa63cec88671c6ead",
              "version_major": 2,
              "version_minor": 0
            },
            "text/plain": [
              "Iteration:   0%|          | 0/1029 [00:00<?, ?it/s]"
            ]
          },
          "metadata": {},
          "output_type": "display_data"
        },
        {
          "name": "stdout",
          "output_type": "stream",
          "text": [
            "Evaluating...\n"
          ]
        },
        {
          "data": {
            "application/vnd.jupyter.widget-view+json": {
              "model_id": "526ea2c2a9084afea81981564b13f6e1",
              "version_major": 2,
              "version_minor": 0
            },
            "text/plain": [
              "Iteration:   0%|          | 0/1029 [00:00<?, ?it/s]"
            ]
          },
          "metadata": {},
          "output_type": "display_data"
        },
        {
          "data": {
            "application/vnd.jupyter.widget-view+json": {
              "model_id": "781dd1fc23594e17b43980c6b9a2bd41",
              "version_major": 2,
              "version_minor": 0
            },
            "text/plain": [
              "Iteration:   0%|          | 0/129 [00:00<?, ?it/s]"
            ]
          },
          "metadata": {},
          "output_type": "display_data"
        },
        {
          "data": {
            "application/vnd.jupyter.widget-view+json": {
              "model_id": "0f49ebe7e4a64d8db49f5f7b902f1202",
              "version_major": 2,
              "version_minor": 0
            },
            "text/plain": [
              "Iteration:   0%|          | 0/129 [00:00<?, ?it/s]"
            ]
          },
          "metadata": {},
          "output_type": "display_data"
        },
        {
          "name": "stdout",
          "output_type": "stream",
          "text": [
            "Epoch: 14, Loss: 0.4540, Train: 80.90%, Valid: 78.62% Test: 69.76%\n",
            "Training...\n"
          ]
        },
        {
          "data": {
            "application/vnd.jupyter.widget-view+json": {
              "model_id": "ae53d1d3a1344e358506db5cfd46bfae",
              "version_major": 2,
              "version_minor": 0
            },
            "text/plain": [
              "Iteration:   0%|          | 0/1029 [00:00<?, ?it/s]"
            ]
          },
          "metadata": {},
          "output_type": "display_data"
        },
        {
          "name": "stdout",
          "output_type": "stream",
          "text": [
            "Evaluating...\n"
          ]
        },
        {
          "data": {
            "application/vnd.jupyter.widget-view+json": {
              "model_id": "7a56091d8624460f911dcae1e7d55119",
              "version_major": 2,
              "version_minor": 0
            },
            "text/plain": [
              "Iteration:   0%|          | 0/1029 [00:00<?, ?it/s]"
            ]
          },
          "metadata": {},
          "output_type": "display_data"
        },
        {
          "data": {
            "application/vnd.jupyter.widget-view+json": {
              "model_id": "9ad039ab5c26471dbf1bc3fc4f11f5e5",
              "version_major": 2,
              "version_minor": 0
            },
            "text/plain": [
              "Iteration:   0%|          | 0/129 [00:00<?, ?it/s]"
            ]
          },
          "metadata": {},
          "output_type": "display_data"
        },
        {
          "data": {
            "application/vnd.jupyter.widget-view+json": {
              "model_id": "2853ab528b16499abb03ae943ea72e2d",
              "version_major": 2,
              "version_minor": 0
            },
            "text/plain": [
              "Iteration:   0%|          | 0/129 [00:00<?, ?it/s]"
            ]
          },
          "metadata": {},
          "output_type": "display_data"
        },
        {
          "name": "stdout",
          "output_type": "stream",
          "text": [
            "Epoch: 15, Loss: 0.0194, Train: 81.32%, Valid: 76.83% Test: 72.19%\n",
            "Training...\n"
          ]
        },
        {
          "data": {
            "application/vnd.jupyter.widget-view+json": {
              "model_id": "1a606a6b5faf4135968b05c95647cf93",
              "version_major": 2,
              "version_minor": 0
            },
            "text/plain": [
              "Iteration:   0%|          | 0/1029 [00:00<?, ?it/s]"
            ]
          },
          "metadata": {},
          "output_type": "display_data"
        },
        {
          "name": "stdout",
          "output_type": "stream",
          "text": [
            "Evaluating...\n"
          ]
        },
        {
          "data": {
            "application/vnd.jupyter.widget-view+json": {
              "model_id": "f8a97204a9524bde986c18feb31b65bf",
              "version_major": 2,
              "version_minor": 0
            },
            "text/plain": [
              "Iteration:   0%|          | 0/1029 [00:00<?, ?it/s]"
            ]
          },
          "metadata": {},
          "output_type": "display_data"
        },
        {
          "data": {
            "application/vnd.jupyter.widget-view+json": {
              "model_id": "0e24369377d34a89bdc154606bc8dd5e",
              "version_major": 2,
              "version_minor": 0
            },
            "text/plain": [
              "Iteration:   0%|          | 0/129 [00:00<?, ?it/s]"
            ]
          },
          "metadata": {},
          "output_type": "display_data"
        },
        {
          "data": {
            "application/vnd.jupyter.widget-view+json": {
              "model_id": "ba43c16872814915be867e241a642ce3",
              "version_major": 2,
              "version_minor": 0
            },
            "text/plain": [
              "Iteration:   0%|          | 0/129 [00:00<?, ?it/s]"
            ]
          },
          "metadata": {},
          "output_type": "display_data"
        },
        {
          "name": "stdout",
          "output_type": "stream",
          "text": [
            "Epoch: 16, Loss: 0.0260, Train: 80.91%, Valid: 74.92% Test: 71.91%\n",
            "Training...\n"
          ]
        },
        {
          "data": {
            "application/vnd.jupyter.widget-view+json": {
              "model_id": "0c254cad8e7a41cf82905bf188f6766a",
              "version_major": 2,
              "version_minor": 0
            },
            "text/plain": [
              "Iteration:   0%|          | 0/1029 [00:00<?, ?it/s]"
            ]
          },
          "metadata": {},
          "output_type": "display_data"
        },
        {
          "name": "stdout",
          "output_type": "stream",
          "text": [
            "Evaluating...\n"
          ]
        },
        {
          "data": {
            "application/vnd.jupyter.widget-view+json": {
              "model_id": "3ea521d8441246c79876382a1e69e073",
              "version_major": 2,
              "version_minor": 0
            },
            "text/plain": [
              "Iteration:   0%|          | 0/1029 [00:00<?, ?it/s]"
            ]
          },
          "metadata": {},
          "output_type": "display_data"
        },
        {
          "data": {
            "application/vnd.jupyter.widget-view+json": {
              "model_id": "8ad567f0807e4b1d8728c3e0c4f2e589",
              "version_major": 2,
              "version_minor": 0
            },
            "text/plain": [
              "Iteration:   0%|          | 0/129 [00:00<?, ?it/s]"
            ]
          },
          "metadata": {},
          "output_type": "display_data"
        },
        {
          "data": {
            "application/vnd.jupyter.widget-view+json": {
              "model_id": "50f63456060d4c77b91829203f1fcad3",
              "version_major": 2,
              "version_minor": 0
            },
            "text/plain": [
              "Iteration:   0%|          | 0/129 [00:00<?, ?it/s]"
            ]
          },
          "metadata": {},
          "output_type": "display_data"
        },
        {
          "name": "stdout",
          "output_type": "stream",
          "text": [
            "Epoch: 17, Loss: 0.0332, Train: 81.67%, Valid: 78.37% Test: 72.31%\n",
            "Training...\n"
          ]
        },
        {
          "data": {
            "application/vnd.jupyter.widget-view+json": {
              "model_id": "15fa60fd8d5d492ab85d92be88f13782",
              "version_major": 2,
              "version_minor": 0
            },
            "text/plain": [
              "Iteration:   0%|          | 0/1029 [00:00<?, ?it/s]"
            ]
          },
          "metadata": {},
          "output_type": "display_data"
        },
        {
          "name": "stdout",
          "output_type": "stream",
          "text": [
            "Evaluating...\n"
          ]
        },
        {
          "data": {
            "application/vnd.jupyter.widget-view+json": {
              "model_id": "798e2196fd3c4b2bb5ab4966996b9b6d",
              "version_major": 2,
              "version_minor": 0
            },
            "text/plain": [
              "Iteration:   0%|          | 0/1029 [00:00<?, ?it/s]"
            ]
          },
          "metadata": {},
          "output_type": "display_data"
        },
        {
          "data": {
            "application/vnd.jupyter.widget-view+json": {
              "model_id": "2243c1780608403d8c80e1d74c53ce70",
              "version_major": 2,
              "version_minor": 0
            },
            "text/plain": [
              "Iteration:   0%|          | 0/129 [00:00<?, ?it/s]"
            ]
          },
          "metadata": {},
          "output_type": "display_data"
        },
        {
          "data": {
            "application/vnd.jupyter.widget-view+json": {
              "model_id": "67706ffa64cf4976a79ffeef615946ab",
              "version_major": 2,
              "version_minor": 0
            },
            "text/plain": [
              "Iteration:   0%|          | 0/129 [00:00<?, ?it/s]"
            ]
          },
          "metadata": {},
          "output_type": "display_data"
        },
        {
          "name": "stdout",
          "output_type": "stream",
          "text": [
            "Epoch: 18, Loss: 0.0435, Train: 81.68%, Valid: 78.93% Test: 73.64%\n",
            "Training...\n"
          ]
        },
        {
          "data": {
            "application/vnd.jupyter.widget-view+json": {
              "model_id": "35654177db5a47939bb88cb9fa80689c",
              "version_major": 2,
              "version_minor": 0
            },
            "text/plain": [
              "Iteration:   0%|          | 0/1029 [00:00<?, ?it/s]"
            ]
          },
          "metadata": {},
          "output_type": "display_data"
        },
        {
          "name": "stdout",
          "output_type": "stream",
          "text": [
            "Evaluating...\n"
          ]
        },
        {
          "data": {
            "application/vnd.jupyter.widget-view+json": {
              "model_id": "ed1d287e236e45928bbaa92045d52a98",
              "version_major": 2,
              "version_minor": 0
            },
            "text/plain": [
              "Iteration:   0%|          | 0/1029 [00:00<?, ?it/s]"
            ]
          },
          "metadata": {},
          "output_type": "display_data"
        },
        {
          "data": {
            "application/vnd.jupyter.widget-view+json": {
              "model_id": "0f372bdbde22458d8167be073dedcb8f",
              "version_major": 2,
              "version_minor": 0
            },
            "text/plain": [
              "Iteration:   0%|          | 0/129 [00:00<?, ?it/s]"
            ]
          },
          "metadata": {},
          "output_type": "display_data"
        },
        {
          "data": {
            "application/vnd.jupyter.widget-view+json": {
              "model_id": "7ab2bbb6daf44bc6b4eb38d7433dd21f",
              "version_major": 2,
              "version_minor": 0
            },
            "text/plain": [
              "Iteration:   0%|          | 0/129 [00:00<?, ?it/s]"
            ]
          },
          "metadata": {},
          "output_type": "display_data"
        },
        {
          "name": "stdout",
          "output_type": "stream",
          "text": [
            "Epoch: 19, Loss: 0.8718, Train: 82.56%, Valid: 80.04% Test: 74.10%\n",
            "Training...\n"
          ]
        },
        {
          "data": {
            "application/vnd.jupyter.widget-view+json": {
              "model_id": "6d20b919c5fa45dd95a079cffe5eec68",
              "version_major": 2,
              "version_minor": 0
            },
            "text/plain": [
              "Iteration:   0%|          | 0/1029 [00:00<?, ?it/s]"
            ]
          },
          "metadata": {},
          "output_type": "display_data"
        },
        {
          "name": "stdout",
          "output_type": "stream",
          "text": [
            "Evaluating...\n"
          ]
        },
        {
          "data": {
            "application/vnd.jupyter.widget-view+json": {
              "model_id": "793b8a6afdcd4e9883ad0167618f1c2d",
              "version_major": 2,
              "version_minor": 0
            },
            "text/plain": [
              "Iteration:   0%|          | 0/1029 [00:00<?, ?it/s]"
            ]
          },
          "metadata": {},
          "output_type": "display_data"
        },
        {
          "data": {
            "application/vnd.jupyter.widget-view+json": {
              "model_id": "d373ec0a54c9425a94f6dd09c17abe1a",
              "version_major": 2,
              "version_minor": 0
            },
            "text/plain": [
              "Iteration:   0%|          | 0/129 [00:00<?, ?it/s]"
            ]
          },
          "metadata": {},
          "output_type": "display_data"
        },
        {
          "data": {
            "application/vnd.jupyter.widget-view+json": {
              "model_id": "5e52bc5d32b24bbbaf1782d571ed1205",
              "version_major": 2,
              "version_minor": 0
            },
            "text/plain": [
              "Iteration:   0%|          | 0/129 [00:00<?, ?it/s]"
            ]
          },
          "metadata": {},
          "output_type": "display_data"
        },
        {
          "name": "stdout",
          "output_type": "stream",
          "text": [
            "Epoch: 20, Loss: 0.3421, Train: 81.87%, Valid: 78.05% Test: 72.65%\n",
            "Training...\n"
          ]
        },
        {
          "data": {
            "application/vnd.jupyter.widget-view+json": {
              "model_id": "7d1b3c3b8a334beab12c45661dbee6bf",
              "version_major": 2,
              "version_minor": 0
            },
            "text/plain": [
              "Iteration:   0%|          | 0/1029 [00:00<?, ?it/s]"
            ]
          },
          "metadata": {},
          "output_type": "display_data"
        },
        {
          "name": "stdout",
          "output_type": "stream",
          "text": [
            "Evaluating...\n"
          ]
        },
        {
          "data": {
            "application/vnd.jupyter.widget-view+json": {
              "model_id": "864f9c44fda54911a97a612c70b669ca",
              "version_major": 2,
              "version_minor": 0
            },
            "text/plain": [
              "Iteration:   0%|          | 0/1029 [00:00<?, ?it/s]"
            ]
          },
          "metadata": {},
          "output_type": "display_data"
        },
        {
          "data": {
            "application/vnd.jupyter.widget-view+json": {
              "model_id": "182dd451a02f4c499fe88700f546113c",
              "version_major": 2,
              "version_minor": 0
            },
            "text/plain": [
              "Iteration:   0%|          | 0/129 [00:00<?, ?it/s]"
            ]
          },
          "metadata": {},
          "output_type": "display_data"
        },
        {
          "data": {
            "application/vnd.jupyter.widget-view+json": {
              "model_id": "524f028b3153428facca29e8618463d5",
              "version_major": 2,
              "version_minor": 0
            },
            "text/plain": [
              "Iteration:   0%|          | 0/129 [00:00<?, ?it/s]"
            ]
          },
          "metadata": {},
          "output_type": "display_data"
        },
        {
          "name": "stdout",
          "output_type": "stream",
          "text": [
            "Epoch: 21, Loss: 0.0541, Train: 82.65%, Valid: 76.92% Test: 72.93%\n",
            "Training...\n"
          ]
        },
        {
          "data": {
            "application/vnd.jupyter.widget-view+json": {
              "model_id": "135b81edb7a640819ada58095c812cd0",
              "version_major": 2,
              "version_minor": 0
            },
            "text/plain": [
              "Iteration:   0%|          | 0/1029 [00:00<?, ?it/s]"
            ]
          },
          "metadata": {},
          "output_type": "display_data"
        },
        {
          "name": "stdout",
          "output_type": "stream",
          "text": [
            "Evaluating...\n"
          ]
        },
        {
          "data": {
            "application/vnd.jupyter.widget-view+json": {
              "model_id": "f79fd00a19b947a094405ba11e22d86e",
              "version_major": 2,
              "version_minor": 0
            },
            "text/plain": [
              "Iteration:   0%|          | 0/1029 [00:00<?, ?it/s]"
            ]
          },
          "metadata": {},
          "output_type": "display_data"
        },
        {
          "data": {
            "application/vnd.jupyter.widget-view+json": {
              "model_id": "2b8d41859fe64395978796c99b5125d8",
              "version_major": 2,
              "version_minor": 0
            },
            "text/plain": [
              "Iteration:   0%|          | 0/129 [00:00<?, ?it/s]"
            ]
          },
          "metadata": {},
          "output_type": "display_data"
        },
        {
          "data": {
            "application/vnd.jupyter.widget-view+json": {
              "model_id": "6ab1a3af2c964aa181a9c823662d40ab",
              "version_major": 2,
              "version_minor": 0
            },
            "text/plain": [
              "Iteration:   0%|          | 0/129 [00:00<?, ?it/s]"
            ]
          },
          "metadata": {},
          "output_type": "display_data"
        },
        {
          "name": "stdout",
          "output_type": "stream",
          "text": [
            "Epoch: 22, Loss: 0.0177, Train: 83.20%, Valid: 76.93% Test: 74.28%\n",
            "Training...\n"
          ]
        },
        {
          "data": {
            "application/vnd.jupyter.widget-view+json": {
              "model_id": "c6e85936689a4e2ea1401ec6c9dec641",
              "version_major": 2,
              "version_minor": 0
            },
            "text/plain": [
              "Iteration:   0%|          | 0/1029 [00:00<?, ?it/s]"
            ]
          },
          "metadata": {},
          "output_type": "display_data"
        },
        {
          "name": "stdout",
          "output_type": "stream",
          "text": [
            "Evaluating...\n"
          ]
        },
        {
          "data": {
            "application/vnd.jupyter.widget-view+json": {
              "model_id": "c38706aab78d40ccab28605620689b12",
              "version_major": 2,
              "version_minor": 0
            },
            "text/plain": [
              "Iteration:   0%|          | 0/1029 [00:00<?, ?it/s]"
            ]
          },
          "metadata": {},
          "output_type": "display_data"
        },
        {
          "data": {
            "application/vnd.jupyter.widget-view+json": {
              "model_id": "23e4161c721842b085ed138a5d5813a6",
              "version_major": 2,
              "version_minor": 0
            },
            "text/plain": [
              "Iteration:   0%|          | 0/129 [00:00<?, ?it/s]"
            ]
          },
          "metadata": {},
          "output_type": "display_data"
        },
        {
          "data": {
            "application/vnd.jupyter.widget-view+json": {
              "model_id": "1a147ec4523b4d35afca44495f0ac2d9",
              "version_major": 2,
              "version_minor": 0
            },
            "text/plain": [
              "Iteration:   0%|          | 0/129 [00:00<?, ?it/s]"
            ]
          },
          "metadata": {},
          "output_type": "display_data"
        },
        {
          "name": "stdout",
          "output_type": "stream",
          "text": [
            "Epoch: 23, Loss: 0.0235, Train: 82.30%, Valid: 79.82% Test: 73.33%\n",
            "Training...\n"
          ]
        },
        {
          "data": {
            "application/vnd.jupyter.widget-view+json": {
              "model_id": "e5fe873ec56c49bea6d0b3833195c498",
              "version_major": 2,
              "version_minor": 0
            },
            "text/plain": [
              "Iteration:   0%|          | 0/1029 [00:00<?, ?it/s]"
            ]
          },
          "metadata": {},
          "output_type": "display_data"
        },
        {
          "name": "stdout",
          "output_type": "stream",
          "text": [
            "Evaluating...\n"
          ]
        },
        {
          "data": {
            "application/vnd.jupyter.widget-view+json": {
              "model_id": "f45ccf7859bc43ac91e745ed1225e4f8",
              "version_major": 2,
              "version_minor": 0
            },
            "text/plain": [
              "Iteration:   0%|          | 0/1029 [00:00<?, ?it/s]"
            ]
          },
          "metadata": {},
          "output_type": "display_data"
        },
        {
          "data": {
            "application/vnd.jupyter.widget-view+json": {
              "model_id": "b0df24d9bb314354bb57396b2d0da65f",
              "version_major": 2,
              "version_minor": 0
            },
            "text/plain": [
              "Iteration:   0%|          | 0/129 [00:00<?, ?it/s]"
            ]
          },
          "metadata": {},
          "output_type": "display_data"
        },
        {
          "data": {
            "application/vnd.jupyter.widget-view+json": {
              "model_id": "8b55fe4c505344c6a87dd7e79f0c4302",
              "version_major": 2,
              "version_minor": 0
            },
            "text/plain": [
              "Iteration:   0%|          | 0/129 [00:00<?, ?it/s]"
            ]
          },
          "metadata": {},
          "output_type": "display_data"
        },
        {
          "name": "stdout",
          "output_type": "stream",
          "text": [
            "Epoch: 24, Loss: 0.0475, Train: 82.79%, Valid: 78.32% Test: 74.85%\n",
            "Training...\n"
          ]
        },
        {
          "data": {
            "application/vnd.jupyter.widget-view+json": {
              "model_id": "98b7d3d0f61241929c517b07db57fa6b",
              "version_major": 2,
              "version_minor": 0
            },
            "text/plain": [
              "Iteration:   0%|          | 0/1029 [00:00<?, ?it/s]"
            ]
          },
          "metadata": {},
          "output_type": "display_data"
        },
        {
          "name": "stdout",
          "output_type": "stream",
          "text": [
            "Evaluating...\n"
          ]
        },
        {
          "data": {
            "application/vnd.jupyter.widget-view+json": {
              "model_id": "e758bd1ee42046dd90a20e32c4654d48",
              "version_major": 2,
              "version_minor": 0
            },
            "text/plain": [
              "Iteration:   0%|          | 0/1029 [00:00<?, ?it/s]"
            ]
          },
          "metadata": {},
          "output_type": "display_data"
        },
        {
          "data": {
            "application/vnd.jupyter.widget-view+json": {
              "model_id": "f22b76972b6b4cdea1bd0f2203a8e05b",
              "version_major": 2,
              "version_minor": 0
            },
            "text/plain": [
              "Iteration:   0%|          | 0/129 [00:00<?, ?it/s]"
            ]
          },
          "metadata": {},
          "output_type": "display_data"
        },
        {
          "data": {
            "application/vnd.jupyter.widget-view+json": {
              "model_id": "58ab24bce8b54f37b97037e29a77e68b",
              "version_major": 2,
              "version_minor": 0
            },
            "text/plain": [
              "Iteration:   0%|          | 0/129 [00:00<?, ?it/s]"
            ]
          },
          "metadata": {},
          "output_type": "display_data"
        },
        {
          "name": "stdout",
          "output_type": "stream",
          "text": [
            "Epoch: 25, Loss: 0.0320, Train: 82.92%, Valid: 76.59% Test: 73.99%\n",
            "Training...\n"
          ]
        },
        {
          "data": {
            "application/vnd.jupyter.widget-view+json": {
              "model_id": "e0ebf7d1117a4169820f42c43922c346",
              "version_major": 2,
              "version_minor": 0
            },
            "text/plain": [
              "Iteration:   0%|          | 0/1029 [00:00<?, ?it/s]"
            ]
          },
          "metadata": {},
          "output_type": "display_data"
        },
        {
          "name": "stdout",
          "output_type": "stream",
          "text": [
            "Evaluating...\n"
          ]
        },
        {
          "data": {
            "application/vnd.jupyter.widget-view+json": {
              "model_id": "9e0e7e7ef6d94fcfb2525bd16dedc347",
              "version_major": 2,
              "version_minor": 0
            },
            "text/plain": [
              "Iteration:   0%|          | 0/1029 [00:00<?, ?it/s]"
            ]
          },
          "metadata": {},
          "output_type": "display_data"
        },
        {
          "data": {
            "application/vnd.jupyter.widget-view+json": {
              "model_id": "37af3006884d4df8b4774a50c3785f3d",
              "version_major": 2,
              "version_minor": 0
            },
            "text/plain": [
              "Iteration:   0%|          | 0/129 [00:00<?, ?it/s]"
            ]
          },
          "metadata": {},
          "output_type": "display_data"
        },
        {
          "data": {
            "application/vnd.jupyter.widget-view+json": {
              "model_id": "403a0a418902462f8923198bdfe33e27",
              "version_major": 2,
              "version_minor": 0
            },
            "text/plain": [
              "Iteration:   0%|          | 0/129 [00:00<?, ?it/s]"
            ]
          },
          "metadata": {},
          "output_type": "display_data"
        },
        {
          "name": "stdout",
          "output_type": "stream",
          "text": [
            "Epoch: 26, Loss: 0.3601, Train: 83.73%, Valid: 79.09% Test: 73.74%\n",
            "Training...\n"
          ]
        },
        {
          "data": {
            "application/vnd.jupyter.widget-view+json": {
              "model_id": "7d1591715b0540598346a08351989703",
              "version_major": 2,
              "version_minor": 0
            },
            "text/plain": [
              "Iteration:   0%|          | 0/1029 [00:00<?, ?it/s]"
            ]
          },
          "metadata": {},
          "output_type": "display_data"
        },
        {
          "name": "stdout",
          "output_type": "stream",
          "text": [
            "Evaluating...\n"
          ]
        },
        {
          "data": {
            "application/vnd.jupyter.widget-view+json": {
              "model_id": "d993fb18e8164f3f85caf58fd256c592",
              "version_major": 2,
              "version_minor": 0
            },
            "text/plain": [
              "Iteration:   0%|          | 0/1029 [00:00<?, ?it/s]"
            ]
          },
          "metadata": {},
          "output_type": "display_data"
        },
        {
          "data": {
            "application/vnd.jupyter.widget-view+json": {
              "model_id": "ad11743a770c4470b9f4a7912a2490ae",
              "version_major": 2,
              "version_minor": 0
            },
            "text/plain": [
              "Iteration:   0%|          | 0/129 [00:00<?, ?it/s]"
            ]
          },
          "metadata": {},
          "output_type": "display_data"
        },
        {
          "data": {
            "application/vnd.jupyter.widget-view+json": {
              "model_id": "96471da5198f48cb9baa15989fdd67cd",
              "version_major": 2,
              "version_minor": 0
            },
            "text/plain": [
              "Iteration:   0%|          | 0/129 [00:00<?, ?it/s]"
            ]
          },
          "metadata": {},
          "output_type": "display_data"
        },
        {
          "name": "stdout",
          "output_type": "stream",
          "text": [
            "Epoch: 27, Loss: 0.2474, Train: 83.72%, Valid: 78.83% Test: 75.92%\n",
            "Training...\n"
          ]
        },
        {
          "data": {
            "application/vnd.jupyter.widget-view+json": {
              "model_id": "884085b3094a4afc802acc3c7f186ad3",
              "version_major": 2,
              "version_minor": 0
            },
            "text/plain": [
              "Iteration:   0%|          | 0/1029 [00:00<?, ?it/s]"
            ]
          },
          "metadata": {},
          "output_type": "display_data"
        },
        {
          "name": "stdout",
          "output_type": "stream",
          "text": [
            "Evaluating...\n"
          ]
        },
        {
          "data": {
            "application/vnd.jupyter.widget-view+json": {
              "model_id": "6fe0eb13ecdc41149a7efe46a9f60344",
              "version_major": 2,
              "version_minor": 0
            },
            "text/plain": [
              "Iteration:   0%|          | 0/1029 [00:00<?, ?it/s]"
            ]
          },
          "metadata": {},
          "output_type": "display_data"
        },
        {
          "data": {
            "application/vnd.jupyter.widget-view+json": {
              "model_id": "be518e6f7e8a42baad3a64b11cca157b",
              "version_major": 2,
              "version_minor": 0
            },
            "text/plain": [
              "Iteration:   0%|          | 0/129 [00:00<?, ?it/s]"
            ]
          },
          "metadata": {},
          "output_type": "display_data"
        },
        {
          "data": {
            "application/vnd.jupyter.widget-view+json": {
              "model_id": "824acb4c0f9b4ab7bf8818110ea8fa29",
              "version_major": 2,
              "version_minor": 0
            },
            "text/plain": [
              "Iteration:   0%|          | 0/129 [00:00<?, ?it/s]"
            ]
          },
          "metadata": {},
          "output_type": "display_data"
        },
        {
          "name": "stdout",
          "output_type": "stream",
          "text": [
            "Epoch: 28, Loss: 0.0395, Train: 83.44%, Valid: 78.04% Test: 74.48%\n",
            "Training...\n"
          ]
        },
        {
          "data": {
            "application/vnd.jupyter.widget-view+json": {
              "model_id": "e237c2de0a9a4529890d6364ba7dc7ae",
              "version_major": 2,
              "version_minor": 0
            },
            "text/plain": [
              "Iteration:   0%|          | 0/1029 [00:00<?, ?it/s]"
            ]
          },
          "metadata": {},
          "output_type": "display_data"
        },
        {
          "name": "stdout",
          "output_type": "stream",
          "text": [
            "Evaluating...\n"
          ]
        },
        {
          "data": {
            "application/vnd.jupyter.widget-view+json": {
              "model_id": "844e8136d320488680992ec2ac7619bb",
              "version_major": 2,
              "version_minor": 0
            },
            "text/plain": [
              "Iteration:   0%|          | 0/1029 [00:00<?, ?it/s]"
            ]
          },
          "metadata": {},
          "output_type": "display_data"
        },
        {
          "data": {
            "application/vnd.jupyter.widget-view+json": {
              "model_id": "b3588e206f3946abb841b5fe16398097",
              "version_major": 2,
              "version_minor": 0
            },
            "text/plain": [
              "Iteration:   0%|          | 0/129 [00:00<?, ?it/s]"
            ]
          },
          "metadata": {},
          "output_type": "display_data"
        },
        {
          "data": {
            "application/vnd.jupyter.widget-view+json": {
              "model_id": "b77af923ffe54b4895c1e236be01a43d",
              "version_major": 2,
              "version_minor": 0
            },
            "text/plain": [
              "Iteration:   0%|          | 0/129 [00:00<?, ?it/s]"
            ]
          },
          "metadata": {},
          "output_type": "display_data"
        },
        {
          "name": "stdout",
          "output_type": "stream",
          "text": [
            "Epoch: 29, Loss: 0.8847, Train: 84.48%, Valid: 79.24% Test: 75.10%\n",
            "Training...\n"
          ]
        },
        {
          "data": {
            "application/vnd.jupyter.widget-view+json": {
              "model_id": "e28cf7c701db44e28f0ed3f4e5d39728",
              "version_major": 2,
              "version_minor": 0
            },
            "text/plain": [
              "Iteration:   0%|          | 0/1029 [00:00<?, ?it/s]"
            ]
          },
          "metadata": {},
          "output_type": "display_data"
        },
        {
          "name": "stdout",
          "output_type": "stream",
          "text": [
            "Evaluating...\n"
          ]
        },
        {
          "data": {
            "application/vnd.jupyter.widget-view+json": {
              "model_id": "0211aeb6d62a4d03a15b19b9d2b5ca71",
              "version_major": 2,
              "version_minor": 0
            },
            "text/plain": [
              "Iteration:   0%|          | 0/1029 [00:00<?, ?it/s]"
            ]
          },
          "metadata": {},
          "output_type": "display_data"
        },
        {
          "data": {
            "application/vnd.jupyter.widget-view+json": {
              "model_id": "c8f9a566c6744fc1876732d46184f9db",
              "version_major": 2,
              "version_minor": 0
            },
            "text/plain": [
              "Iteration:   0%|          | 0/129 [00:00<?, ?it/s]"
            ]
          },
          "metadata": {},
          "output_type": "display_data"
        },
        {
          "data": {
            "application/vnd.jupyter.widget-view+json": {
              "model_id": "87c8c5368035480284b2e823c9fe5cd0",
              "version_major": 2,
              "version_minor": 0
            },
            "text/plain": [
              "Iteration:   0%|          | 0/129 [00:00<?, ?it/s]"
            ]
          },
          "metadata": {},
          "output_type": "display_data"
        },
        {
          "name": "stdout",
          "output_type": "stream",
          "text": [
            "Epoch: 30, Loss: 0.0280, Train: 82.97%, Valid: 81.72% Test: 72.96%\n"
          ]
        }
      ],
      "source": [
        "import copy\n",
        "\n",
        "if 'IS_GRADESCOPE_ENV' not in os.environ:\n",
        "  model.reset_parameters()\n",
        "\n",
        "  optimizer = torch.optim.Adam(model.parameters(), lr=args['lr'])\n",
        "  loss_fn = torch.nn.BCEWithLogitsLoss()\n",
        "\n",
        "  best_model = None\n",
        "  best_valid_acc = 0\n",
        "\n",
        "  for epoch in range(1, 1 + args[\"epochs\"]):\n",
        "    print('Training...')\n",
        "    loss = train(model, device, train_loader, optimizer, loss_fn)\n",
        "\n",
        "    print('Evaluating...')\n",
        "    train_result = eval(model, device, train_loader, evaluator)\n",
        "    val_result = eval(model, device, valid_loader, evaluator)\n",
        "    test_result = eval(model, device, test_loader, evaluator)\n",
        "\n",
        "    train_acc, valid_acc, test_acc = train_result[dataset.eval_metric], val_result[dataset.eval_metric], test_result[dataset.eval_metric]\n",
        "    if valid_acc > best_valid_acc:\n",
        "        best_valid_acc = valid_acc\n",
        "        best_model = copy.deepcopy(model)\n",
        "    print(f'Epoch: {epoch:02d}, '\n",
        "          f'Loss: {loss:.4f}, '\n",
        "          f'Train: {100 * train_acc:.2f}%, '\n",
        "          f'Valid: {100 * valid_acc:.2f}% '\n",
        "          f'Test: {100 * test_acc:.2f}%')"
      ]
    },
    {
      "cell_type": "markdown",
      "metadata": {
        "id": "6I17-Qso_n88"
      },
      "source": [
        "## Question 6: What are your `best_model` validation and test ROC-AUC scores? (20 points)\n",
        "\n",
        "Run the cell below to see the results of your best of model and save your model's predictions over the validation and test datasets. The resulting files are named *ogbn-arxiv_graph_valid.csv* and *ogbn-arxiv_graph_test.csv*. \n",
        "\n",
        "Again, you can view these files by clicking on the *Folder* icon on the left side pannel. As in Colab 1, when you sumbit your assignment, you will have to download these files and attatch them to your submission."
      ]
    },
    {
      "cell_type": "code",
      "execution_count": null,
      "metadata": {
        "id": "Oq5QaG21dOOO"
      },
      "outputs": [],
      "source": [
        "if 'IS_GRADESCOPE_ENV' not in os.environ:\n",
        "  train_acc = eval(best_model, device, train_loader, evaluator)[dataset.eval_metric]\n",
        "  valid_acc = eval(best_model, device, valid_loader, evaluator, save_model_results=True, save_file=\"valid\")[dataset.eval_metric]\n",
        "  test_acc  = eval(best_model, device, test_loader, evaluator, save_model_results=True, save_file=\"test\")[dataset.eval_metric]\n",
        "\n",
        "  print(f'Best model: '\n",
        "      f'Train: {100 * train_acc:.2f}%, '\n",
        "      f'Valid: {100 * valid_acc:.2f}% '\n",
        "      f'Test: {100 * test_acc:.2f}%')"
      ]
    },
    {
      "cell_type": "markdown",
      "metadata": {
        "id": "gBi_t8n0iZ4P"
      },
      "source": [
        "## Question 7 (Optional): Experiment with the two other global pooling layers in Pytorch Geometric."
      ]
    },
    {
      "cell_type": "markdown",
      "metadata": {
        "id": "e7JXsMTBgeOI"
      },
      "source": [
        "# Submission\n",
        "\n",
        "You will need to submit four files on Gradescope to complete this notebook. \n",
        "\n",
        "1.   Your completed *CS224W_Colab2.ipynb*. From the \"File\" menu select \"Download .ipynb\" to save a local copy of your completed Colab. **PLEASE DO NOT CHANGE THE NAME!** The autograder depends on the .ipynb file being called \"CS224W_Colab2.ipynb\".\n",
        "2.  *ogbn-arxiv_node.csv* \n",
        "3.  *ogbg-molhiv_graph_valid.csv*\n",
        "4.  *ogbg-molhiv_graph_test.csv*\n",
        "\n",
        "Download the csv files by selecting the *Folder* icon on the left panel. \n",
        "\n",
        "To submit your work, zip the files downloaded in steps 1-4 above and submit to gradescope. **NOTE:** DO NOT rename any of the downloaded files. "
      ]
    }
  ],
  "metadata": {
    "accelerator": "GPU",
    "colab": {
      "collapsed_sections": [],
      "machine_shape": "hm",
      "name": "CS224W_Colab2",
      "provenance": []
    },
    "kernelspec": {
      "display_name": "Python 3",
      "language": "python",
      "name": "python3"
    },
    "language_info": {
      "codemirror_mode": {
        "name": "ipython",
        "version": 3
      },
      "file_extension": ".py",
      "mimetype": "text/x-python",
      "name": "python",
      "nbconvert_exporter": "python",
      "pygments_lexer": "ipython3",
      "version": "3.9.7"
    }
  },
  "nbformat": 4,
  "nbformat_minor": 0
}
